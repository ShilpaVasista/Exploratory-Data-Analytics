{
  "nbformat": 4,
  "nbformat_minor": 0,
  "metadata": {
    "colab": {
      "provenance": [],
      "authorship_tag": "ABX9TyMYhGLiBTqCrQKVdwLQv71k",
      "include_colab_link": true
    },
    "kernelspec": {
      "name": "python3",
      "display_name": "Python 3"
    },
    "language_info": {
      "name": "python"
    }
  },
  "cells": [
    {
      "cell_type": "markdown",
      "metadata": {
        "id": "view-in-github",
        "colab_type": "text"
      },
      "source": [
        "<a href=\"https://colab.research.google.com/github/ShilpaVasista/Exploratory-Data-Analytics/blob/main/Simplified_EDA_Lab_8_Solution.ipynb\" target=\"_parent\"><img src=\"https://colab.research.google.com/assets/colab-badge.svg\" alt=\"Open In Colab\"/></a>"
      ]
    },
    {
      "cell_type": "markdown",
      "source": [
        "**Program 8**\n",
        "\n",
        "Download a Twitter dataset containing tweets about a specific brand or event.\n",
        "\n",
        "  a. Utilize libraries like NLTK or TextBlob to perform sentiment analysis on the\n",
        "tweets.\n",
        "\n",
        "  b. Explore the distribution of positive, negative, and neutral sentiment.\n",
        "  \n",
        "  c. Identify keywords or phrases associated with each sentiment category."
      ],
      "metadata": {
        "id": "mxoDC-lQpbac"
      }
    },
    {
      "cell_type": "markdown",
      "source": [
        "**Program's Objectives:**\n",
        "\n",
        "- Sentiment Analysis is a text-based EDA tool—it helps quantify subjective opinions (turning text into numbers like polarity scores).\n",
        "\n",
        "- The sentiment distribution chart shows how opinions are spread (positive/negative/neutral).\n",
        "\n",
        "- The top word analysis is about identifying key themes/keywords in the text—like basic feature exploration of unstructured data."
      ],
      "metadata": {
        "id": "gu1eqaaspqKQ"
      }
    },
    {
      "cell_type": "markdown",
      "source": [
        "Package/Library Used and its Purpose\n",
        "\n",
        "- pandas\n",
        "  - Why?\n",
        "    - To read CSV files and manipulate tabular data easily.\n",
        "  - Key function used:\n",
        "    - pd.read_csv() reads data into a DataFrame\n",
        "    - dropna() cleans missing data.\n",
        "- textblob\n",
        "  - Why?\n",
        "    - It provides a simple API for natural language tasks like sentiment analysis.\n",
        "  - Key function used:\n",
        "    - TextBlob(text).sentiment.polarity: Returns a float between -1 (negative) and +1 (positive).\n",
        "  - Transforms qualitative data (text) into quantitative insight (sentiment score).\n",
        "\n",
        "- matplotlib.pyplot\n",
        "  - Why?\n",
        "    - For basic plotting and visualization.\n",
        "  -Key function used:\n",
        "    - plot(kind='bar') plots a simple bar chart.\n",
        "  - Visualizing data distributions helps spot patterns immediately.\n",
        "\n",
        "- nltk\n",
        "    - Why?\n",
        "      - To get stopwords (common words like \"the\", \"and\") that don't carry much meaning and are often filtered out.\n",
        "  - Preprocessing text is key to extracting meaningful keywords.\n",
        "\n",
        "- collections.Counter\n",
        "  - Why?\n",
        "    - To count word frequencies easily.\n",
        "  - This identifies the most common terms or features in the text.\n",
        "\n",
        "\n"
      ],
      "metadata": {
        "id": "qYNF_Iv_p9ze"
      }
    },
    {
      "cell_type": "markdown",
      "source": [
        "What are Stop words?\n",
        "\n",
        "Stop words are commonly used words in a language that are often filtered out before or during natural language processing (NLP) tasks like text analysis, sentiment analysis, or search indexing. These words usually don't carry significant meaning or contribute much to the analysis of the text.\n",
        "\n",
        "Examples of Stop Words in English:\n",
        "\n",
        "- Articles: a, an, the\n",
        "\n",
        "- Conjunctions: and, but, or, so\n",
        "\n",
        "- Prepositions: in, on, at, by, with\n",
        "\n",
        "- Pronouns: he, she, it, they, we\n",
        "\n",
        "- Others: is, am, are, was, were, be, to, of, for\n",
        "\n"
      ],
      "metadata": {
        "id": "KOgg_naEraMC"
      }
    },
    {
      "cell_type": "code",
      "execution_count": null,
      "metadata": {
        "colab": {
          "base_uri": "https://localhost:8080/"
        },
        "id": "vTsd9u-tpaay",
        "outputId": "3cdedc68-6456-474e-b198-bed15e55558a"
      },
      "outputs": [
        {
          "output_type": "stream",
          "name": "stdout",
          "text": [
            "['a', 'about', 'above', 'after', 'again', 'against', 'ain', 'all', 'am', 'an', 'and', 'any', 'are', 'aren', \"aren't\", 'as', 'at', 'be', 'because', 'been', 'before', 'being', 'below', 'between', 'both', 'but', 'by', 'can', 'couldn', \"couldn't\", 'd', 'did', 'didn', \"didn't\", 'do', 'does', 'doesn', \"doesn't\", 'doing', 'don', \"don't\", 'down', 'during', 'each', 'few', 'for', 'from', 'further', 'had', 'hadn', \"hadn't\", 'has', 'hasn', \"hasn't\", 'have', 'haven', \"haven't\", 'having', 'he', \"he'd\", \"he'll\", 'her', 'here', 'hers', 'herself', \"he's\", 'him', 'himself', 'his', 'how', 'i', \"i'd\", 'if', \"i'll\", \"i'm\", 'in', 'into', 'is', 'isn', \"isn't\", 'it', \"it'd\", \"it'll\", \"it's\", 'its', 'itself', \"i've\", 'just', 'll', 'm', 'ma', 'me', 'mightn', \"mightn't\", 'more', 'most', 'mustn', \"mustn't\", 'my', 'myself', 'needn', \"needn't\", 'no', 'nor', 'not', 'now', 'o', 'of', 'off', 'on', 'once', 'only', 'or', 'other', 'our', 'ours', 'ourselves', 'out', 'over', 'own', 're', 's', 'same', 'shan', \"shan't\", 'she', \"she'd\", \"she'll\", \"she's\", 'should', 'shouldn', \"shouldn't\", \"should've\", 'so', 'some', 'such', 't', 'than', 'that', \"that'll\", 'the', 'their', 'theirs', 'them', 'themselves', 'then', 'there', 'these', 'they', \"they'd\", \"they'll\", \"they're\", \"they've\", 'this', 'those', 'through', 'to', 'too', 'under', 'until', 'up', 've', 'very', 'was', 'wasn', \"wasn't\", 'we', \"we'd\", \"we'll\", \"we're\", 'were', 'weren', \"weren't\", \"we've\", 'what', 'when', 'where', 'which', 'while', 'who', 'whom', 'why', 'will', 'with', 'won', \"won't\", 'wouldn', \"wouldn't\", 'y', 'you', \"you'd\", \"you'll\", 'your', \"you're\", 'yours', 'yourself', 'yourselves', \"you've\"]\n"
          ]
        },
        {
          "output_type": "stream",
          "name": "stderr",
          "text": [
            "[nltk_data] Downloading package stopwords to /root/nltk_data...\n",
            "[nltk_data]   Unzipping corpora/stopwords.zip.\n"
          ]
        }
      ],
      "source": [
        "import nltk\n",
        "from nltk.corpus import stopwords\n",
        "\n",
        "nltk.download('stopwords')\n",
        "print(stopwords.words('english'))"
      ]
    },
    {
      "cell_type": "markdown",
      "source": [
        "NLTK corpora (plural of corpus) are collections of text data that are bundled with or available through the NLTK library. These corpora are used for training, testing, or learning about natural language processing tasks such as tokenization, tagging, parsing, and more.\n",
        "\n",
        "\n",
        "**What is a Corpus?**\n",
        "\n",
        "A corpus is simply a body of text, usually collected and structured for linguistic analysis.\n",
        "\n",
        "Example corpora types:\n",
        "\n",
        "- Collections of books or articles\n",
        "\n",
        "- Tagged parts of speech texts\n",
        "\n",
        "- Lists of stop words\n",
        "\n",
        "- Word lists like names or common nouns\n",
        "\n",
        "- Annotated datasets for machine learning tasks\n",
        "\n",
        "\n",
        "\n"
      ],
      "metadata": {
        "id": "bdyCdLWJObTN"
      }
    },
    {
      "cell_type": "markdown",
      "source": [
        "TextBlob.sentiment.polarity"
      ],
      "metadata": {
        "id": "uqAHW4WcP1eq"
      }
    },
    {
      "cell_type": "code",
      "source": [
        "from textblob import TextBlob\n",
        "\n",
        "sentences = [\n",
        "    \"I love this laptop!\",\n",
        "    \"The service was terrible.\",\n",
        "    \"It's an average experience.\",\n",
        "    \"Absolutely fantastic performance!\",\n",
        "    \"I'm not happy with this product.\",\n",
        "    \"This is a laptop.\",\n",
        "    \"Worst purchase ever made.\",\n",
        "    \"I guess it’s okay, not too bad.\",\n",
        "    \"Totally worth the money.\",\n",
        "    \"It doesn’t work at all.\"\n",
        "]\n",
        "\n",
        "for sentence in sentences:\n",
        "    blob = TextBlob(sentence)\n",
        "    print(f\"Sentence: {sentence}\")\n",
        "    print(f\"Polarity: {blob.sentiment.polarity}\\n\")\n"
      ],
      "metadata": {
        "colab": {
          "base_uri": "https://localhost:8080/"
        },
        "id": "iaSx4A5PP2Bd",
        "outputId": "c57ca0c2-856b-4898-eb8d-cc50df3e62f6"
      },
      "execution_count": 1,
      "outputs": [
        {
          "output_type": "stream",
          "name": "stdout",
          "text": [
            "Sentence: I love this laptop!\n",
            "Polarity: 0.625\n",
            "\n",
            "Sentence: The service was terrible.\n",
            "Polarity: -1.0\n",
            "\n",
            "Sentence: It's an average experience.\n",
            "Polarity: -0.15\n",
            "\n",
            "Sentence: Absolutely fantastic performance!\n",
            "Polarity: 0.5\n",
            "\n",
            "Sentence: I'm not happy with this product.\n",
            "Polarity: -0.4\n",
            "\n",
            "Sentence: This is a laptop.\n",
            "Polarity: 0.0\n",
            "\n",
            "Sentence: Worst purchase ever made.\n",
            "Polarity: -1.0\n",
            "\n",
            "Sentence: I guess it’s okay, not too bad.\n",
            "Polarity: -0.09999999999999992\n",
            "\n",
            "Sentence: Totally worth the money.\n",
            "Polarity: 0.3\n",
            "\n",
            "Sentence: It doesn’t work at all.\n",
            "Polarity: 0.0\n",
            "\n"
          ]
        }
      ]
    },
    {
      "cell_type": "markdown",
      "source": [
        "What's happening internally?\n",
        "\n",
        "- TextBlob uses a lexicon-based approach (specifically PatternAnalyzer by default).\n",
        "\n",
        "- Each word in the text is matched against a sentiment dictionary that has predefined polarity values.\n",
        "\n",
        "- The overall polarity is calculated by:\n",
        "\n",
        "- Summing up the polarity scores of individual words\n",
        "\n",
        "- Adjusting for grammar (negations like \"not good\" will reverse the meaning)\n",
        "\n",
        "- Taking into account intensifiers like \"very\", \"extremely\", etc.\n"
      ],
      "metadata": {
        "id": "XRzpDCVPQ7HH"
      }
    },
    {
      "cell_type": "markdown",
      "source": [
        "# Step by Step Code Walk Through:\n",
        " 1. Import Libraries and Load dataset"
      ],
      "metadata": {
        "id": "wQf9DKXkvYHh"
      }
    },
    {
      "cell_type": "code",
      "source": [
        "import pandas as pd\n",
        "from textblob import TextBlob\n",
        "import matplotlib.pyplot as plt\n",
        "from nltk.corpus import stopwords\n",
        "from collections import Counter\n",
        "import nltk\n",
        "\n",
        "df = pd.read_csv(\"Tweets.csv\") #Reads a CSV file into a DataFrame (df).\n",
        "print(df.head())"
      ],
      "metadata": {
        "colab": {
          "base_uri": "https://localhost:8080/"
        },
        "id": "Y61t-fKVvgZn",
        "outputId": "076b53d4-09e2-468c-c9ab-12ae952c5a87"
      },
      "execution_count": null,
      "outputs": [
        {
          "output_type": "stream",
          "name": "stdout",
          "text": [
            "             tweet_id airline_sentiment  airline_sentiment_confidence  \\\n",
            "0  570306133677760513           neutral                        1.0000   \n",
            "1  570301130888122368          positive                        0.3486   \n",
            "2  570301083672813571           neutral                        0.6837   \n",
            "3  570301031407624196          negative                        1.0000   \n",
            "4  570300817074462722          negative                        1.0000   \n",
            "\n",
            "  negativereason  negativereason_confidence         airline  \\\n",
            "0            NaN                        NaN  Virgin America   \n",
            "1            NaN                     0.0000  Virgin America   \n",
            "2            NaN                        NaN  Virgin America   \n",
            "3     Bad Flight                     0.7033  Virgin America   \n",
            "4     Can't Tell                     1.0000  Virgin America   \n",
            "\n",
            "  airline_sentiment_gold        name negativereason_gold  retweet_count  \\\n",
            "0                    NaN     cairdin                 NaN              0   \n",
            "1                    NaN    jnardino                 NaN              0   \n",
            "2                    NaN  yvonnalynn                 NaN              0   \n",
            "3                    NaN    jnardino                 NaN              0   \n",
            "4                    NaN    jnardino                 NaN              0   \n",
            "\n",
            "                                                text tweet_coord  \\\n",
            "0                @VirginAmerica What @dhepburn said.         NaN   \n",
            "1  @VirginAmerica plus you've added commercials t...         NaN   \n",
            "2  @VirginAmerica I didn't today... Must mean I n...         NaN   \n",
            "3  @VirginAmerica it's really aggressive to blast...         NaN   \n",
            "4  @VirginAmerica and it's a really big bad thing...         NaN   \n",
            "\n",
            "               tweet_created tweet_location               user_timezone  \n",
            "0  2015-02-24 11:35:52 -0800            NaN  Eastern Time (US & Canada)  \n",
            "1  2015-02-24 11:15:59 -0800            NaN  Pacific Time (US & Canada)  \n",
            "2  2015-02-24 11:15:48 -0800      Lets Play  Central Time (US & Canada)  \n",
            "3  2015-02-24 11:15:36 -0800            NaN  Pacific Time (US & Canada)  \n",
            "4  2015-02-24 11:14:45 -0800            NaN  Pacific Time (US & Canada)  \n"
          ]
        }
      ]
    },
    {
      "cell_type": "markdown",
      "source": [
        "2. Drop missing values"
      ],
      "metadata": {
        "id": "X2RN3LVnvtla"
      }
    },
    {
      "cell_type": "code",
      "source": [
        "df.dropna(subset=['airline_sentiment', 'text'], inplace=True) #Drops rows where any column listed is missing."
      ],
      "metadata": {
        "id": "kiHsP-TSvwh1"
      },
      "execution_count": null,
      "outputs": []
    },
    {
      "cell_type": "markdown",
      "source": [
        "3. Perform sentiment analysis + labeling"
      ],
      "metadata": {
        "id": "9-fAueIxv-pW"
      }
    },
    {
      "cell_type": "code",
      "source": [
        "df['sentiment_label'] = df['text'].apply(\n",
        "    lambda x: 'positive' if TextBlob(x).sentiment.polarity > 0\n",
        "    else ('negative' if TextBlob(x).sentiment.polarity < 0 else 'neutral')\n",
        ")"
      ],
      "metadata": {
        "id": "AS7V_x0JwBvi"
      },
      "execution_count": null,
      "outputs": []
    },
    {
      "cell_type": "markdown",
      "source": [
        "- apply() applies a function to every row.\n",
        "\n",
        "- lambda is a quick anonymous function.\n",
        "\n",
        "- For each text, it:\n",
        "\n",
        "  - Calculates polarity (using TextBlob).\n",
        "  - Converts the score to a label.\n",
        "\n"
      ],
      "metadata": {
        "id": "o0EkcFwEw_mF"
      }
    },
    {
      "cell_type": "markdown",
      "source": [
        "4. Plot sentiment distribution"
      ],
      "metadata": {
        "id": "1ljFcgMvx8el"
      }
    },
    {
      "cell_type": "code",
      "source": [
        "df['sentiment_label'].value_counts().plot(kind='bar', color=['green', 'red', 'gray'])\n",
        "plt.title(\"Sentiment Distribution\")\n",
        "plt.show()"
      ],
      "metadata": {
        "colab": {
          "base_uri": "https://localhost:8080/",
          "height": 519
        },
        "id": "qdctB6IryBcg",
        "outputId": "edaacb01-cbad-40ab-8afe-95b2a7020984"
      },
      "execution_count": null,
      "outputs": [
        {
          "output_type": "display_data",
          "data": {
            "text/plain": [
              "<Figure size 640x480 with 1 Axes>"
            ],
            "image/png": "[encoded data removed]"
          },
          "metadata": {}
        }
      ]
    },
    {
      "cell_type": "markdown",
      "source": [
        "5. Get top words"
      ],
      "metadata": {
        "id": "ncL6JSpDyQNr"
      }
    },
    {
      "cell_type": "code",
      "source": [
        "stop_words = set(stopwords.words('english'))\n",
        "\n",
        "def top_words(series, n=10):\n",
        "    words = \" \".join(series).lower().split()\n",
        "    words = [w for w in words if w.isalpha() and w not in stop_words]\n",
        "    return Counter(words).most_common(n)"
      ],
      "metadata": {
        "id": "wTKtfrKCySHr"
      },
      "execution_count": null,
      "outputs": []
    },
    {
      "cell_type": "markdown",
      "source": [
        "- \" \".join(series) merges all tweets into one long string.\n",
        "\n",
        "- .lower() standardizes case.\n",
        "\n",
        "- .split() breaks into words.\n",
        "\n",
        "- isalpha() filters out numbers/punctuation.\n",
        "\n"
      ],
      "metadata": {
        "id": "oCZmdsq8ynbz"
      }
    },
    {
      "cell_type": "markdown",
      "source": [
        "\n",
        "### 🛠 Flow of `top_words`\n",
        "\n",
        "Pandas Series (collection of tweets/texts)\n",
        "\n",
        "\n",
        "  ▼\n",
        "\n",
        "1️⃣ Join all rows into one BIG string\n",
        "\n",
        "e.g., \"I love this phone The phone is great Great battery and great price\"\n",
        "\n",
        "  ▼\n",
        "\n",
        "2️⃣ Convert to lowercase + split into words\n",
        "\n",
        "['i', 'love', 'this', 'phone', 'the', 'phone', 'is', 'great', 'great', 'battery', 'and', 'great', 'price']\n",
        "\n",
        "  ▼\n",
        "\n",
        "3️⃣ Remove stopwords + non-alphabet words\n",
        "\n",
        "['love', 'phone', 'phone', 'great', 'great', 'battery', 'great', 'price']\n",
        "\n",
        "  ▼\n",
        "\n",
        "4️⃣ Count word frequency\n",
        "\n",
        "Counter({\n",
        "\n",
        "  'great': 3,\n",
        "\n",
        "  'phone': 2,\n",
        "\n",
        "  'love': 1,\n",
        "\n",
        "  'battery': 1,\n",
        "\n",
        "  'price': 1\n",
        "\n",
        "})\n",
        "\n",
        "  ▼\n",
        "\n",
        "5️⃣ Return top N (e.g., 3)\n",
        "  \n",
        "  [('great', 3), ('phone', 2), ('love', 1)]\n",
        "\n"
      ],
      "metadata": {
        "id": "KmE-BRBCz2AB"
      }
    },
    {
      "cell_type": "markdown",
      "source": [
        "6. Loop to print top words"
      ],
      "metadata": {
        "id": "skYgmqkIysFj"
      }
    },
    {
      "cell_type": "code",
      "source": [
        "for sentiment in ['positive', 'negative', 'neutral']:\n",
        "    print(f\"\\nTop words in {sentiment.capitalize()} Tweets:\")\n",
        "    print(top_words(df[df['sentiment_label'] == sentiment]['text']))\n"
      ],
      "metadata": {
        "colab": {
          "base_uri": "https://localhost:8080/"
        },
        "id": "3AvsjaB3yrqj",
        "outputId": "8892fb59-de77-4f79-b1f9-856bba37c80e"
      },
      "execution_count": null,
      "outputs": [
        {
          "output_type": "stream",
          "name": "stdout",
          "text": [
            "\n",
            "Top words in Positive Tweets:\n",
            "[('flight', 1039), ('thanks', 619), ('get', 450), ('thank', 304), ('would', 284), ('fly', 282), ('cancelled', 277), ('great', 261), ('service', 251), ('customer', 242)]\n",
            "\n",
            "Top words in Negative Tweets:\n",
            "[('flight', 987), ('late', 341), ('get', 339), ('cancelled', 303), ('customer', 286), ('service', 273), ('hours', 206), ('worst', 195), ('due', 175), ('still', 168)]\n",
            "\n",
            "Top words in Neutral Tweets:\n",
            "[('flight', 1191), ('get', 540), ('cancelled', 467), ('hold', 276), ('thank', 257), ('still', 248), ('need', 248), ('please', 243), ('help', 241), ('us', 211)]\n"
          ]
        }
      ]
    },
    {
      "cell_type": "markdown",
      "source": [
        "# Dell Tweets 2022"
      ],
      "metadata": {
        "id": "KbDKdDaX-IgI"
      }
    },
    {
      "cell_type": "code",
      "source": [
        "import pandas as pd\n",
        "from textblob import TextBlob\n",
        "import matplotlib.pyplot as plt\n",
        "from nltk.corpus import stopwords\n",
        "from collections import Counter\n",
        "import nltk\n",
        "\n",
        "df = pd.read_csv(\"delltweets.csv\") #Reads a CSV file into a DataFrame (df).\n",
        "print(df.head())"
      ],
      "metadata": {
        "id": "vGADqkhm-JFv",
        "colab": {
          "base_uri": "https://localhost:8080/"
        },
        "outputId": "53764555-546d-4ca1-f3ed-78d9966bae49"
      },
      "execution_count": null,
      "outputs": [
        {
          "output_type": "stream",
          "name": "stdout",
          "text": [
            "                    Datetime             Tweet Id  \\\n",
            "0  2022-09-30 23:29:15+00:00  1575991191170342912   \n",
            "1  2022-09-30 21:46:35+00:00  1575965354425131008   \n",
            "2  2022-09-30 21:18:02+00:00  1575958171423752203   \n",
            "3  2022-09-30 20:05:24+00:00  1575939891485032450   \n",
            "4  2022-09-30 20:03:17+00:00  1575939359160750080   \n",
            "\n",
            "                                                Text        Username  \n",
            "0  @Logitech @apple @Google @Microsoft @Dell @Len...  ManjuSreedaran  \n",
            "1  @MK_habit_addict @official_stier @MortalKombat...      MiKeMcDnet  \n",
            "2  As @CRN celebrates its 40th anniversary, Bob F...        jfollett  \n",
            "3  @dell your customer service is horrible especi...       daveccarr  \n",
            "4  @zacokalo @Dell @DellCares @Dell give the man ...      heycamella  \n"
          ]
        }
      ]
    },
    {
      "cell_type": "code",
      "source": [
        "df.dropna(subset=['Text'], inplace=True) #Drops rows where any column listed is missing."
      ],
      "metadata": {
        "id": "dfuO_yRV_bAP"
      },
      "execution_count": null,
      "outputs": []
    },
    {
      "cell_type": "code",
      "source": [
        "df['sentiment_label'] = df['Text'].apply(\n",
        "    lambda x: 'positive' if TextBlob(x).sentiment.polarity > 0\n",
        "    else ('negative' if TextBlob(x).sentiment.polarity < 0 else 'neutral')\n",
        ")"
      ],
      "metadata": {
        "id": "rhTyIRlU_iMv"
      },
      "execution_count": null,
      "outputs": []
    },
    {
      "cell_type": "code",
      "source": [
        "df['sentiment_label'].value_counts().plot(kind='bar', color=['green', 'red', 'gray'])\n",
        "plt.title(\"Sentiment Distribution\")\n",
        "plt.show()"
      ],
      "metadata": {
        "colab": {
          "base_uri": "https://localhost:8080/",
          "height": 519
        },
        "id": "ULyaJOLq_qxb",
        "outputId": "8813f24e-9af7-4385-bb65-96b9f5c07206"
      },
      "execution_count": null,
      "outputs": [
        {
          "output_type": "display_data",
          "data": {
            "text/plain": [
              "<Figure size 640x480 with 1 Axes>"
            ],
            "image/png": "[encoded data removed]"
          },
          "metadata": {}
        }
      ]
    },
    {
      "cell_type": "code",
      "source": [
        "stop_words = set(stopwords.words('english'))\n",
        "\n",
        "def top_words(series, n=10):\n",
        "    words = \" \".join(series).lower().split()\n",
        "    words = [w for w in words if w.isalpha() and w not in stop_words]\n",
        "    return Counter(words).most_common(n)"
      ],
      "metadata": {
        "id": "zwPRW--z_wYg"
      },
      "execution_count": null,
      "outputs": []
    },
    {
      "cell_type": "code",
      "source": [
        "for sentiment in ['positive', 'negative', 'neutral']:\n",
        "    print(f\"\\nTop words in {sentiment.capitalize()} Tweets:\")\n",
        "    print(top_words(df[df['sentiment_label'] == sentiment]['Text']))\n"
      ],
      "metadata": {
        "colab": {
          "base_uri": "https://localhost:8080/"
        },
        "id": "n4rM2Mir_0xL",
        "outputId": "370a8902-fe7c-4490-9428-cd3eefcf5573"
      },
      "execution_count": null,
      "outputs": [
        {
          "output_type": "stream",
          "name": "stdout",
          "text": [
            "\n",
            "Top words in Positive Tweets:\n",
            "[('dell', 1615), ('new', 1420), ('laptop', 1322), ('get', 804), ('one', 778), ('like', 733), ('good', 579), ('great', 572), ('would', 557), ('see', 481)]\n",
            "\n",
            "Top words in Negative Tweets:\n",
            "[('dell', 1547), ('laptop', 1325), ('service', 1030), ('customer', 754), ('worst', 592), ('support', 503), ('get', 494), ('one', 484), ('buy', 479), ('still', 427)]\n",
            "\n",
            "Top words in Neutral Tweets:\n",
            "[('dell', 899), ('laptop', 542), ('get', 410), ('like', 310), ('support', 271), ('one', 259), ('service', 231), ('buy', 224), ('see', 221), ('please', 208)]\n"
          ]
        }
      ]
    },
    {
      "cell_type": "markdown",
      "source": [],
      "metadata": {
        "id": "z1Xk4bQD-Iag"
      }
    }
  ]
}