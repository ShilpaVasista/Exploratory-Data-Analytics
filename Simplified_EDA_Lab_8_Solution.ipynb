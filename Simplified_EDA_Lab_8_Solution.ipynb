{
  "nbformat": 4,
  "nbformat_minor": 0,
  "metadata": {
    "colab": {
      "provenance": [],
      "authorship_tag": "ABX9TyO9msRmnj0YRwqvkf5uG57k",
      "include_colab_link": true
    },
    "kernelspec": {
      "name": "python3",
      "display_name": "Python 3"
    },
    "language_info": {
      "name": "python"
    }
  },
  "cells": [
    {
      "cell_type": "markdown",
      "metadata": {
        "id": "view-in-github",
        "colab_type": "text"
      },
      "source": [
        "<a href=\"https://colab.research.google.com/github/ShilpaVasista/Exploratory-Data-Analytics/blob/main/Simplified_EDA_Lab_8_Solution.ipynb\" target=\"_parent\"><img src=\"https://colab.research.google.com/assets/colab-badge.svg\" alt=\"Open In Colab\"/></a>"
      ]
    },
    {
      "cell_type": "markdown",
      "source": [
        "Download a Twitter dataset containing tweets about a specific brand or event.\n",
        "\n",
        "  a. Utilize libraries like NLTK or TextBlob to perform sentiment analysis on the\n",
        "tweets.\n",
        "\n",
        "  b. Explore the distribution of positive, negative, and neutral sentiment.\n",
        "  \n",
        "  c. Identify keywords or phrases associated with each sentiment category."
      ],
      "metadata": {
        "id": "mxoDC-lQpbac"
      }
    },
    {
      "cell_type": "markdown",
      "source": [
        "Program's Role:\n",
        "\n",
        "- Sentiment Analysis is a text-based EDA tool—it helps quantify subjective opinions (turning text into numbers like polarity scores).\n",
        "\n",
        "- The sentiment distribution chart shows how opinions are spread (positive/negative/neutral).\n",
        "\n",
        "- The top word analysis is about identifying key themes/keywords in the text—like basic feature exploration of unstructured data."
      ],
      "metadata": {
        "id": "gu1eqaaspqKQ"
      }
    },
    {
      "cell_type": "markdown",
      "source": [
        "Package/Library Used and its Purpose\n",
        "\n",
        "- pandas\n",
        "  - Why?\n",
        "    - To read CSV files and manipulate tabular data easily.\n",
        "  - Key function used:\n",
        "    - pd.read_csv() reads data into a DataFrame\n",
        "    - dropna() cleans missing data.\n",
        "- textblob\n",
        "  - Why?\n",
        "    - It provides a simple API for natural language tasks like sentiment analysis.\n",
        "  - Key function used:\n",
        "    - TextBlob(text).sentiment.polarity: Returns a float between -1 (negative) and +1 (positive).\n",
        "  - Transforms qualitative data (text) into quantitative insight (sentiment score).\n",
        "\n",
        "- matplotlib.pyplot\n",
        "  - Why?\n",
        "    - For basic plotting and visualization.\n",
        "  -Key function used:\n",
        "    - plot(kind='bar') plots a simple bar chart.\n",
        "  - Visualizing data distributions helps spot patterns immediately.\n",
        "\n",
        "- nltk\n",
        "    - Why?\n",
        "      - To get stopwords (common words like \"the\", \"and\") that don't carry much meaning and are often filtered out.\n",
        "  - Preprocessing text is key to extracting meaningful keywords.\n",
        "\n",
        "- collections.Counter\n",
        "  - Why?\n",
        "    - To count word frequencies easily.\n",
        "  - This identifies the most common terms or features in the text.\n",
        "\n",
        "\n"
      ],
      "metadata": {
        "id": "qYNF_Iv_p9ze"
      }
    },
    {
      "cell_type": "markdown",
      "source": [
        "What are Stop words?\n",
        "\n",
        "A stop word is a commonly used word (such as “the”, “a”, “an”, or “in”) that a search engine has been programmed to ignore, both when indexing entries for searching and when retrieving them as the result of a search query."
      ],
      "metadata": {
        "id": "KOgg_naEraMC"
      }
    },
    {
      "cell_type": "code",
      "execution_count": 1,
      "metadata": {
        "colab": {
          "base_uri": "https://localhost:8080/"
        },
        "id": "vTsd9u-tpaay",
        "outputId": "3cdedc68-6456-474e-b198-bed15e55558a"
      },
      "outputs": [
        {
          "output_type": "stream",
          "name": "stdout",
          "text": [
            "['a', 'about', 'above', 'after', 'again', 'against', 'ain', 'all', 'am', 'an', 'and', 'any', 'are', 'aren', \"aren't\", 'as', 'at', 'be', 'because', 'been', 'before', 'being', 'below', 'between', 'both', 'but', 'by', 'can', 'couldn', \"couldn't\", 'd', 'did', 'didn', \"didn't\", 'do', 'does', 'doesn', \"doesn't\", 'doing', 'don', \"don't\", 'down', 'during', 'each', 'few', 'for', 'from', 'further', 'had', 'hadn', \"hadn't\", 'has', 'hasn', \"hasn't\", 'have', 'haven', \"haven't\", 'having', 'he', \"he'd\", \"he'll\", 'her', 'here', 'hers', 'herself', \"he's\", 'him', 'himself', 'his', 'how', 'i', \"i'd\", 'if', \"i'll\", \"i'm\", 'in', 'into', 'is', 'isn', \"isn't\", 'it', \"it'd\", \"it'll\", \"it's\", 'its', 'itself', \"i've\", 'just', 'll', 'm', 'ma', 'me', 'mightn', \"mightn't\", 'more', 'most', 'mustn', \"mustn't\", 'my', 'myself', 'needn', \"needn't\", 'no', 'nor', 'not', 'now', 'o', 'of', 'off', 'on', 'once', 'only', 'or', 'other', 'our', 'ours', 'ourselves', 'out', 'over', 'own', 're', 's', 'same', 'shan', \"shan't\", 'she', \"she'd\", \"she'll\", \"she's\", 'should', 'shouldn', \"shouldn't\", \"should've\", 'so', 'some', 'such', 't', 'than', 'that', \"that'll\", 'the', 'their', 'theirs', 'them', 'themselves', 'then', 'there', 'these', 'they', \"they'd\", \"they'll\", \"they're\", \"they've\", 'this', 'those', 'through', 'to', 'too', 'under', 'until', 'up', 've', 'very', 'was', 'wasn', \"wasn't\", 'we', \"we'd\", \"we'll\", \"we're\", 'were', 'weren', \"weren't\", \"we've\", 'what', 'when', 'where', 'which', 'while', 'who', 'whom', 'why', 'will', 'with', 'won', \"won't\", 'wouldn', \"wouldn't\", 'y', 'you', \"you'd\", \"you'll\", 'your', \"you're\", 'yours', 'yourself', 'yourselves', \"you've\"]\n"
          ]
        },
        {
          "output_type": "stream",
          "name": "stderr",
          "text": [
            "[nltk_data] Downloading package stopwords to /root/nltk_data...\n",
            "[nltk_data]   Unzipping corpora/stopwords.zip.\n"
          ]
        }
      ],
      "source": [
        "import nltk\n",
        "from nltk.corpus import stopwords\n",
        "\n",
        "nltk.download('stopwords')\n",
        "print(stopwords.words('english'))"
      ]
    },
    {
      "cell_type": "markdown",
      "source": [
        "Step by Step Code Walk Through:\n",
        " 1. Load dataset"
      ],
      "metadata": {
        "id": "wQf9DKXkvYHh"
      }
    },
    {
      "cell_type": "code",
      "source": [
        "import pandas as pd\n",
        "from textblob import TextBlob\n",
        "import matplotlib.pyplot as plt\n",
        "from nltk.corpus import stopwords\n",
        "from collections import Counter\n",
        "import nltk\n",
        "\n",
        "df = pd.read_csv(\"Tweets.csv\") #Reads a CSV file into a DataFrame (df)."
      ],
      "metadata": {
        "id": "Y61t-fKVvgZn"
      },
      "execution_count": 7,
      "outputs": []
    },
    {
      "cell_type": "markdown",
      "source": [
        "2. Drop missing values"
      ],
      "metadata": {
        "id": "X2RN3LVnvtla"
      }
    },
    {
      "cell_type": "code",
      "source": [
        "df.dropna(subset=['airline_sentiment', 'text'], inplace=True) #Drops rows where any column listed is missing."
      ],
      "metadata": {
        "id": "kiHsP-TSvwh1"
      },
      "execution_count": 8,
      "outputs": []
    },
    {
      "cell_type": "markdown",
      "source": [
        "3. Perform sentiment analysis + labeling"
      ],
      "metadata": {
        "id": "9-fAueIxv-pW"
      }
    },
    {
      "cell_type": "code",
      "source": [
        "df['sentiment_label'] = df['text'].apply(\n",
        "    lambda x: 'positive' if TextBlob(x).sentiment.polarity > 0\n",
        "    else ('negative' if TextBlob(x).sentiment.polarity < 0 else 'neutral')\n",
        ")"
      ],
      "metadata": {
        "id": "AS7V_x0JwBvi"
      },
      "execution_count": 9,
      "outputs": []
    },
    {
      "cell_type": "markdown",
      "source": [
        "- apply() applies a function to every row.\n",
        "\n",
        "- lambda is a quick anonymous function.\n",
        "\n",
        "- For each text, it:\n",
        "\n",
        "  - Calculates polarity (using TextBlob).\n",
        "  - Converts the score to a label.\n",
        "\n"
      ],
      "metadata": {
        "id": "o0EkcFwEw_mF"
      }
    },
    {
      "cell_type": "markdown",
      "source": [
        "4. Plot sentiment distribution"
      ],
      "metadata": {
        "id": "1ljFcgMvx8el"
      }
    },
    {
      "cell_type": "code",
      "source": [
        "df['sentiment_label'].value_counts().plot(kind='bar', color=['green', 'red', 'gray'])\n",
        "plt.title(\"Sentiment Distribution\")\n",
        "plt.show()"
      ],
      "metadata": {
        "colab": {
          "base_uri": "https://localhost:8080/",
          "height": 519
        },
        "id": "qdctB6IryBcg",
        "outputId": "edaacb01-cbad-40ab-8afe-95b2a7020984"
      },
      "execution_count": 10,
      "outputs": [
        {
          "output_type": "display_data",
          "data": {
            "text/plain": [
              "<Figure size 640x480 with 1 Axes>"
            ],
            "image/png": "[encoded data removed]"
          },
          "metadata": {}
        }
      ]
    },
    {
      "cell_type": "markdown",
      "source": [
        "5. Get top words"
      ],
      "metadata": {
        "id": "ncL6JSpDyQNr"
      }
    },
    {
      "cell_type": "code",
      "source": [
        "stop_words = set(stopwords.words('english'))\n",
        "\n",
        "def top_words(series, n=10):\n",
        "    words = \" \".join(series).lower().split()\n",
        "    words = [w for w in words if w.isalpha() and w not in stop_words]\n",
        "    return Counter(words).most_common(n)"
      ],
      "metadata": {
        "id": "wTKtfrKCySHr"
      },
      "execution_count": 11,
      "outputs": []
    },
    {
      "cell_type": "markdown",
      "source": [
        "- \" \".join(series) merges all tweets into one long string.\n",
        "\n",
        "- .lower() standardizes case.\n",
        "\n",
        "- .split() breaks into words.\n",
        "\n",
        "- isalpha() filters out numbers/punctuation.\n",
        "\n"
      ],
      "metadata": {
        "id": "oCZmdsq8ynbz"
      }
    },
    {
      "cell_type": "markdown",
      "source": [
        "\n",
        "### 🛠 Flow of `top_words`\n",
        "\n",
        "Pandas Series (collection of tweets/texts)\n",
        "\n",
        "\n",
        "  ▼\n",
        "\n",
        "1️⃣ Join all rows into one BIG string\n",
        "\n",
        "e.g., \"I love this phone The phone is great Great battery and great price\"\n",
        "\n",
        "  ▼\n",
        "\n",
        "2️⃣ Convert to lowercase + split into words\n",
        "\n",
        "['i', 'love', 'this', 'phone', 'the', 'phone', 'is', 'great', 'great', 'battery', 'and', 'great', 'price']\n",
        "\n",
        "  ▼\n",
        "\n",
        "3️⃣ Remove stopwords + non-alphabet words\n",
        "\n",
        "['love', 'phone', 'phone', 'great', 'great', 'battery', 'great', 'price']\n",
        "\n",
        "  ▼\n",
        "\n",
        "4️⃣ Count word frequency\n",
        "\n",
        "Counter({\n",
        "\n",
        "  'great': 3,\n",
        "\n",
        "  'phone': 2,\n",
        "\n",
        "  'love': 1,\n",
        "\n",
        "  'battery': 1,\n",
        "\n",
        "  'price': 1\n",
        "\n",
        "})\n",
        "\n",
        "  ▼\n",
        "\n",
        "5️⃣ Return top N (e.g., 3)\n",
        "  \n",
        "  [('great', 3), ('phone', 2), ('love', 1)]\n",
        "\n"
      ],
      "metadata": {
        "id": "KmE-BRBCz2AB"
      }
    },
    {
      "cell_type": "markdown",
      "source": [
        "6. Loop to print top words"
      ],
      "metadata": {
        "id": "skYgmqkIysFj"
      }
    },
    {
      "cell_type": "code",
      "source": [
        "for sentiment in ['positive', 'negative', 'neutral']:\n",
        "    print(f\"\\nTop words in {sentiment.capitalize()} Tweets:\")\n",
        "    print(top_words(df[df['sentiment_label'] == sentiment]['text']))\n"
      ],
      "metadata": {
        "colab": {
          "base_uri": "https://localhost:8080/"
        },
        "id": "3AvsjaB3yrqj",
        "outputId": "8892fb59-de77-4f79-b1f9-856bba37c80e"
      },
      "execution_count": 12,
      "outputs": [
        {
          "output_type": "stream",
          "name": "stdout",
          "text": [
            "\n",
            "Top words in Positive Tweets:\n",
            "[('flight', 1039), ('thanks', 619), ('get', 450), ('thank', 304), ('would', 284), ('fly', 282), ('cancelled', 277), ('great', 261), ('service', 251), ('customer', 242)]\n",
            "\n",
            "Top words in Negative Tweets:\n",
            "[('flight', 987), ('late', 341), ('get', 339), ('cancelled', 303), ('customer', 286), ('service', 273), ('hours', 206), ('worst', 195), ('due', 175), ('still', 168)]\n",
            "\n",
            "Top words in Neutral Tweets:\n",
            "[('flight', 1191), ('get', 540), ('cancelled', 467), ('hold', 276), ('thank', 257), ('still', 248), ('need', 248), ('please', 243), ('help', 241), ('us', 211)]\n"
          ]
        }
      ]
    }
  ]
}