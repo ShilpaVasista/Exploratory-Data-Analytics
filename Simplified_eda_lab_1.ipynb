{
  "nbformat": 4,
  "nbformat_minor": 0,
  "metadata": {
    "colab": {
      "provenance": [],
      "authorship_tag": "ABX9TyOweZkH1ctrGmMiBA9GjVdT",
      "include_colab_link": true
    },
    "kernelspec": {
      "name": "python3",
      "display_name": "Python 3"
    },
    "language_info": {
      "name": "python"
    }
  },
  "cells": [
    {
      "cell_type": "markdown",
      "metadata": {
        "id": "view-in-github",
        "colab_type": "text"
      },
      "source": [
        "<a href=\"https://colab.research.google.com/github/ShilpaVasista/Exploratory-Data-Analytics/blob/main/Simplified_eda_lab_1.ipynb\" target=\"_parent\"><img src=\"https://colab.research.google.com/assets/colab-badge.svg\" alt=\"Open In Colab\"/></a>"
      ]
    },
    {
      "cell_type": "code",
      "source": [
        "!pip install --upgrade pandas"
      ],
      "metadata": {
        "colab": {
          "base_uri": "https://localhost:8080/"
        },
        "id": "nxbJei82EgrO",
        "outputId": "574385c2-3a87-49ca-bbaa-50fde9b30e30"
      },
      "execution_count": null,
      "outputs": [
        {
          "output_type": "stream",
          "name": "stdout",
          "text": [
            "Requirement already satisfied: pandas in /usr/local/lib/python3.11/dist-packages (2.2.3)\n",
            "Requirement already satisfied: numpy>=1.23.2 in /usr/local/lib/python3.11/dist-packages (from pandas) (1.26.4)\n",
            "Requirement already satisfied: python-dateutil>=2.8.2 in /usr/local/lib/python3.11/dist-packages (from pandas) (2.8.2)\n",
            "Requirement already satisfied: pytz>=2020.1 in /usr/local/lib/python3.11/dist-packages (from pandas) (2025.1)\n",
            "Requirement already satisfied: tzdata>=2022.7 in /usr/local/lib/python3.11/dist-packages (from pandas) (2025.1)\n",
            "Requirement already satisfied: six>=1.5 in /usr/local/lib/python3.11/dist-packages (from python-dateutil>=2.8.2->pandas) (1.17.0)\n"
          ]
        }
      ]
    },
    {
      "cell_type": "code",
      "execution_count": null,
      "metadata": {
        "colab": {
          "base_uri": "https://localhost:8080/",
          "height": 38
        },
        "id": "_SWlVr3_CY9M",
        "outputId": "f4bbbcda-5ed2-43f5-f728-b34ab4d3a634"
      },
      "outputs": [
        {
          "output_type": "display_data",
          "data": {
            "text/plain": [
              "<IPython.core.display.HTML object>"
            ],
            "text/html": [
              "\n",
              "     <input type=\"file\" id=\"files-67244a2b-61e9-4d76-ae52-85d5332dfbb3\" name=\"files[]\" multiple disabled\n",
              "        style=\"border:none\" />\n",
              "     <output id=\"result-67244a2b-61e9-4d76-ae52-85d5332dfbb3\">\n",
              "      Upload widget is only available when the cell has been executed in the\n",
              "      current browser session. Please rerun this cell to enable.\n",
              "      </output>\n",
              "      <script>// Copyright 2017 Google LLC\n",
              "//\n",
              "// Licensed under the Apache License, Version 2.0 (the \"License\");\n",
              "// you may not use this file except in compliance with the License.\n",
              "// You may obtain a copy of the License at\n",
              "//\n",
              "//      http://www.apache.org/licenses/LICENSE-2.0\n",
              "//\n",
              "// Unless required by applicable law or agreed to in writing, software\n",
              "// distributed under the License is distributed on an \"AS IS\" BASIS,\n",
              "// WITHOUT WARRANTIES OR CONDITIONS OF ANY KIND, either express or implied.\n",
              "// See the License for the specific language governing permissions and\n",
              "// limitations under the License.\n",
              "\n",
              "/**\n",
              " * @fileoverview Helpers for google.colab Python module.\n",
              " */\n",
              "(function(scope) {\n",
              "function span(text, styleAttributes = {}) {\n",
              "  const element = document.createElement('span');\n",
              "  element.textContent = text;\n",
              "  for (const key of Object.keys(styleAttributes)) {\n",
              "    element.style[key] = styleAttributes[key];\n",
              "  }\n",
              "  return element;\n",
              "}\n",
              "\n",
              "// Max number of bytes which will be uploaded at a time.\n",
              "const MAX_PAYLOAD_SIZE = 100 * 1024;\n",
              "\n",
              "function _uploadFiles(inputId, outputId) {\n",
              "  const steps = uploadFilesStep(inputId, outputId);\n",
              "  const outputElement = document.getElementById(outputId);\n",
              "  // Cache steps on the outputElement to make it available for the next call\n",
              "  // to uploadFilesContinue from Python.\n",
              "  outputElement.steps = steps;\n",
              "\n",
              "  return _uploadFilesContinue(outputId);\n",
              "}\n",
              "\n",
              "// This is roughly an async generator (not supported in the browser yet),\n",
              "// where there are multiple asynchronous steps and the Python side is going\n",
              "// to poll for completion of each step.\n",
              "// This uses a Promise to block the python side on completion of each step,\n",
              "// then passes the result of the previous step as the input to the next step.\n",
              "function _uploadFilesContinue(outputId) {\n",
              "  const outputElement = document.getElementById(outputId);\n",
              "  const steps = outputElement.steps;\n",
              "\n",
              "  const next = steps.next(outputElement.lastPromiseValue);\n",
              "  return Promise.resolve(next.value.promise).then((value) => {\n",
              "    // Cache the last promise value to make it available to the next\n",
              "    // step of the generator.\n",
              "    outputElement.lastPromiseValue = value;\n",
              "    return next.value.response;\n",
              "  });\n",
              "}\n",
              "\n",
              "/**\n",
              " * Generator function which is called between each async step of the upload\n",
              " * process.\n",
              " * @param {string} inputId Element ID of the input file picker element.\n",
              " * @param {string} outputId Element ID of the output display.\n",
              " * @return {!Iterable<!Object>} Iterable of next steps.\n",
              " */\n",
              "function* uploadFilesStep(inputId, outputId) {\n",
              "  const inputElement = document.getElementById(inputId);\n",
              "  inputElement.disabled = false;\n",
              "\n",
              "  const outputElement = document.getElementById(outputId);\n",
              "  outputElement.innerHTML = '';\n",
              "\n",
              "  const pickedPromise = new Promise((resolve) => {\n",
              "    inputElement.addEventListener('change', (e) => {\n",
              "      resolve(e.target.files);\n",
              "    });\n",
              "  });\n",
              "\n",
              "  const cancel = document.createElement('button');\n",
              "  inputElement.parentElement.appendChild(cancel);\n",
              "  cancel.textContent = 'Cancel upload';\n",
              "  const cancelPromise = new Promise((resolve) => {\n",
              "    cancel.onclick = () => {\n",
              "      resolve(null);\n",
              "    };\n",
              "  });\n",
              "\n",
              "  // Wait for the user to pick the files.\n",
              "  const files = yield {\n",
              "    promise: Promise.race([pickedPromise, cancelPromise]),\n",
              "    response: {\n",
              "      action: 'starting',\n",
              "    }\n",
              "  };\n",
              "\n",
              "  cancel.remove();\n",
              "\n",
              "  // Disable the input element since further picks are not allowed.\n",
              "  inputElement.disabled = true;\n",
              "\n",
              "  if (!files) {\n",
              "    return {\n",
              "      response: {\n",
              "        action: 'complete',\n",
              "      }\n",
              "    };\n",
              "  }\n",
              "\n",
              "  for (const file of files) {\n",
              "    const li = document.createElement('li');\n",
              "    li.append(span(file.name, {fontWeight: 'bold'}));\n",
              "    li.append(span(\n",
              "        `(${file.type || 'n/a'}) - ${file.size} bytes, ` +\n",
              "        `last modified: ${\n",
              "            file.lastModifiedDate ? file.lastModifiedDate.toLocaleDateString() :\n",
              "                                    'n/a'} - `));\n",
              "    const percent = span('0% done');\n",
              "    li.appendChild(percent);\n",
              "\n",
              "    outputElement.appendChild(li);\n",
              "\n",
              "    const fileDataPromise = new Promise((resolve) => {\n",
              "      const reader = new FileReader();\n",
              "      reader.onload = (e) => {\n",
              "        resolve(e.target.result);\n",
              "      };\n",
              "      reader.readAsArrayBuffer(file);\n",
              "    });\n",
              "    // Wait for the data to be ready.\n",
              "    let fileData = yield {\n",
              "      promise: fileDataPromise,\n",
              "      response: {\n",
              "        action: 'continue',\n",
              "      }\n",
              "    };\n",
              "\n",
              "    // Use a chunked sending to avoid message size limits. See b/62115660.\n",
              "    let position = 0;\n",
              "    do {\n",
              "      const length = Math.min(fileData.byteLength - position, MAX_PAYLOAD_SIZE);\n",
              "      const chunk = new Uint8Array(fileData, position, length);\n",
              "      position += length;\n",
              "\n",
              "      const base64 = btoa(String.fromCharCode.apply(null, chunk));\n",
              "      yield {\n",
              "        response: {\n",
              "          action: 'append',\n",
              "          file: file.name,\n",
              "          data: base64,\n",
              "        },\n",
              "      };\n",
              "\n",
              "      let percentDone = fileData.byteLength === 0 ?\n",
              "          100 :\n",
              "          Math.round((position / fileData.byteLength) * 100);\n",
              "      percent.textContent = `${percentDone}% done`;\n",
              "\n",
              "    } while (position < fileData.byteLength);\n",
              "  }\n",
              "\n",
              "  // All done.\n",
              "  yield {\n",
              "    response: {\n",
              "      action: 'complete',\n",
              "    }\n",
              "  };\n",
              "}\n",
              "\n",
              "scope.google = scope.google || {};\n",
              "scope.google.colab = scope.google.colab || {};\n",
              "scope.google.colab._files = {\n",
              "  _uploadFiles,\n",
              "  _uploadFilesContinue,\n",
              "};\n",
              "})(self);\n",
              "</script> "
            ]
          },
          "metadata": {}
        }
      ],
      "source": [
        "from google.colab import files\n",
        "uploaded = files.upload()"
      ]
    },
    {
      "cell_type": "code",
      "source": [
        "\n",
        "import pandas as pd\n",
        "# Load dataset\n",
        "emails = pd.read_csv(\"synthetic_emails.csv\")\n",
        "# Display first five rows\n",
        "print(emails.head())\n",
        "print(f\"Rows: {emails.shape[0]}, Columns: {emails.shape[1]}\")"
      ],
      "metadata": {
        "colab": {
          "base_uri": "https://localhost:8080/"
        },
        "id": "w9gBCExSEUiR",
        "outputId": "376b3913-cb7f-4a04-85c4-e935f20a23fa"
      },
      "execution_count": null,
      "outputs": [
        {
          "output_type": "stream",
          "name": "stdout",
          "text": [
            "2.2.2\n",
            "  message_id                        date              from                to  \\\n",
            "0   MSG00000  2025-02-02 20:43:13.264090  user17@email.com  user46@email.com   \n",
            "1   MSG00001  2025-02-13 14:05:13.264090  user40@email.com  user32@email.com   \n",
            "2   MSG00002  2025-01-23 20:29:13.264090  user39@email.com  user36@email.com   \n",
            "3   MSG00003  2025-02-03 09:55:13.264090  user50@email.com  user19@email.com   \n",
            "4   MSG00004  2025-02-11 11:44:13.264090  user41@email.com   user4@email.com   \n",
            "\n",
            "                 cc  bcc                  subject  \\\n",
            "0   user9@email.com  NaN           Project Update   \n",
            "1               NaN  NaN  Urgent: Response Needed   \n",
            "2               NaN  NaN           Security Alert   \n",
            "3               NaN  NaN              Team Outing   \n",
            "4  user46@email.com  NaN     Company Announcement   \n",
            "\n",
            "                                            content  \n",
            "0           Reminder: Submit your report by Friday.  \n",
            "1                                               NaN  \n",
            "2  The server maintenance is scheduled for tonight.  \n",
            "3                 Happy birthday! Have a great day!  \n",
            "4           Reminder: Submit your report by Friday.  \n",
            "Rows: 10000, Columns: 8\n"
          ]
        }
      ]
    },
    {
      "cell_type": "code",
      "source": [
        "#Data Transformation\n",
        "\n",
        "#a. Converting the Date Column\n",
        "\n",
        "#Ensure the date column is in a proper datetime format.\n",
        "\n",
        "\n",
        "emails['date'] = pd.to_datetime(emails['date'], errors='coerce')"
      ],
      "metadata": {
        "id": "rGhD1Y3lEe8Y"
      },
      "execution_count": null,
      "outputs": []
    },
    {
      "cell_type": "code",
      "source": [
        "#Removing NaN Values\n",
        "\n",
        "# b.Drop missing values efficiently.\n",
        "print(f\"Rows: {emails.shape[0]}, Columns: {emails.shape[1]}\")\n",
        "\n",
        "\n",
        "emails.dropna(subset=['date', 'to', 'content'], inplace=True)\n",
        "print(f\"Rows: {emails.shape[0]}, Columns: {emails.shape[1]}\")"
      ],
      "metadata": {
        "colab": {
          "base_uri": "https://localhost:8080/"
        },
        "id": "9df75jC5Eo9T",
        "outputId": "71f41ae1-d356-4bdf-d6aa-bfe4baa57ee1"
      },
      "execution_count": null,
      "outputs": [
        {
          "output_type": "stream",
          "name": "stdout",
          "text": [
            "Rows: 10000, Columns: 8\n",
            "Rows: 8574, Columns: 8\n"
          ]
        }
      ]
    },
    {
      "cell_type": "code",
      "source": [
        "# c.Applying Descriptive Statistics\n",
        "\n",
        "#Use summary statistics to understand the dataset.\n",
        "\n",
        "print(emails.describe(include='all'))"
      ],
      "metadata": {
        "id": "U_oV_TRnGHpG",
        "outputId": "70015c93-88b5-41d6-a9fb-1f5531d55461",
        "colab": {
          "base_uri": "https://localhost:8080/"
        }
      },
      "execution_count": null,
      "outputs": [
        {
          "output_type": "stream",
          "name": "stdout",
          "text": [
            "       message_id                           date              from  \\\n",
            "count        8574                           8574              8574   \n",
            "unique       8574                            NaN                50   \n",
            "top      MSG00000                            NaN  user21@email.com   \n",
            "freq            1                            NaN               197   \n",
            "mean          NaN  2025-01-30 05:04:54.726651136               NaN   \n",
            "min           NaN     2025-01-15 05:51:13.264090               NaN   \n",
            "25%           NaN  2025-01-22 17:22:58.264090112               NaN   \n",
            "50%           NaN  2025-01-30 06:24:43.264090112               NaN   \n",
            "75%           NaN  2025-02-06 14:04:58.264090112               NaN   \n",
            "max           NaN     2025-02-14 05:41:13.264090               NaN   \n",
            "\n",
            "                      to                cc              bcc         subject  \\\n",
            "count               8574              2548              879            8574   \n",
            "unique                50                50               50               9   \n",
            "top     user49@email.com  user29@email.com  user4@email.com  Security Alert   \n",
            "freq                 199                69               31             982   \n",
            "mean                 NaN               NaN              NaN             NaN   \n",
            "min                  NaN               NaN              NaN             NaN   \n",
            "25%                  NaN               NaN              NaN             NaN   \n",
            "50%                  NaN               NaN              NaN             NaN   \n",
            "75%                  NaN               NaN              NaN             NaN   \n",
            "max                  NaN               NaN              NaN             NaN   \n",
            "\n",
            "                               content  \n",
            "count                             8574  \n",
            "unique                               7  \n",
            "top     Urgent response needed by EOD.  \n",
            "freq                              1250  \n",
            "mean                               NaN  \n",
            "min                                NaN  \n",
            "25%                                NaN  \n",
            "50%                                NaN  \n",
            "75%                                NaN  \n",
            "max                                NaN  \n"
          ]
        }
      ]
    },
    {
      "cell_type": "code",
      "source": [
        "#Drop unnecessary columns for analysis.\n",
        "\n",
        "print(f\"Rows: {emails.shape[0]}, Columns: {emails.shape[1]}\")\n",
        "emails.drop(columns=['message_id', 'bcc', 'cc'], inplace=True, errors='ignore')\n",
        "print(f\"Rows: {emails.shape[0]}, Columns: {emails.shape[1]}\")\n"
      ],
      "metadata": {
        "colab": {
          "base_uri": "https://localhost:8080/"
        },
        "id": "mmLxfkFWH_Gz",
        "outputId": "0e1917b9-6871-443f-faf0-d0219fe737a8"
      },
      "execution_count": null,
      "outputs": [
        {
          "output_type": "stream",
          "name": "stdout",
          "text": [
            "Rows: 8574, Columns: 8\n",
            "Rows: 8574, Columns: 5\n"
          ]
        }
      ]
    },
    {
      "cell_type": "code",
      "source": [
        "#Convert timestamps to a single timezone.\n",
        "\n",
        "if emails['date'].dt.tz is not None:\n",
        "    emails['date'] = emails['date'].dt.tz_localize(None)\n"
      ],
      "metadata": {
        "id": "4cOEquC0IFNr"
      },
      "execution_count": null,
      "outputs": []
    },
    {
      "cell_type": "code",
      "source": [
        "#a. Number of Emails\n",
        "\n",
        "#Total count of emails.\n",
        "print(f\"Rows: {emails.shape[0]}, Columns: {emails.shape[1]}\")\n",
        "#Most straightforward and generally preferred way to get the number of rows\n",
        "#print(len(emails))"
      ],
      "metadata": {
        "colab": {
          "base_uri": "https://localhost:8080/"
        },
        "id": "uU-RnU27JJcU",
        "outputId": "78d84205-b57f-4cf7-d85b-530d7eff136e"
      },
      "execution_count": null,
      "outputs": [
        {
          "output_type": "stream",
          "name": "stdout",
          "text": [
            "Rows: 8574, Columns: 5\n"
          ]
        }
      ]
    },
    {
      "cell_type": "code",
      "source": [
        "#Time of Day Analysis\n",
        "\n",
        "#Extract the hour from the timestamp and analyze trends.\n",
        "#Extract the hour from the timestamp and analyze trends.\n",
        "\n",
        "#The dataset's date column is converted to hours using .dt.hour.\n",
        "\n",
        "#The .value_counts() method is used to count the frequency of each hour.\n",
        "\n",
        "#.sort_index() ensures the hours are in ascending order.\n",
        "\n",
        "#The results are visualized using a bar chart.\n",
        "\n",
        "emails['hour'] = emails['date'].dt.hour\n",
        "emails['hour'].value_counts().sort_index().plot(kind='bar', title='Emails Sent per Hour')\n",
        "\n",
        "#This analysis helps identify peak email activity hours, which can be useful for optimizing email response strategies and understanding communication trends.\n"
      ],
      "metadata": {
        "colab": {
          "base_uri": "https://localhost:8080/",
          "height": 492
        },
        "id": "rNCNzqWqJq2z",
        "outputId": "ef6d5d57-3363-4cde-fa3a-38d4c872c1d6"
      },
      "execution_count": null,
      "outputs": [
        {
          "output_type": "execute_result",
          "data": {
            "text/plain": [
              "<Axes: title={'center': 'Emails Sent per Hour'}, xlabel='hour'>"
            ]
          },
          "metadata": {},
          "execution_count": 24
        },
        {
          "output_type": "display_data",
          "data": {
            "text/plain": [
              "<Figure size 640x480 with 1 Axes>"
            ],
            "image/png": "[encoded data removed]"
          },
          "metadata": {}
        }
      ]
    },
    {
      "cell_type": "code",
      "source": [
        "#c. Average Emails per Day and Hour\n",
        "\n",
        "#Compute daily and hourly averages.\n",
        "\n",
        "emails_per_day = emails.resample('D', on='date').size()\n",
        "print(emails_per_day)\n",
        "print(\"Average Emails per Day:\", emails_per_day.mean())\n"
      ],
      "metadata": {
        "colab": {
          "base_uri": "https://localhost:8080/"
        },
        "id": "J16QgVbOLerq",
        "outputId": "1f38921e-172b-4d13-e3af-cc725726c9b7"
      },
      "execution_count": null,
      "outputs": [
        {
          "output_type": "stream",
          "name": "stdout",
          "text": [
            "date\n",
            "2025-01-15    226\n",
            "2025-01-16    250\n",
            "2025-01-17    288\n",
            "2025-01-18    316\n",
            "2025-01-19    292\n",
            "2025-01-20    286\n",
            "2025-01-21    276\n",
            "2025-01-22    288\n",
            "2025-01-23    268\n",
            "2025-01-24    266\n",
            "2025-01-25    315\n",
            "2025-01-26    262\n",
            "2025-01-27    270\n",
            "2025-01-28    335\n",
            "2025-01-29    271\n",
            "2025-01-30    308\n",
            "2025-01-31    273\n",
            "2025-02-01    295\n",
            "2025-02-02    305\n",
            "2025-02-03    273\n",
            "2025-02-04    284\n",
            "2025-02-05    310\n",
            "2025-02-06    278\n",
            "2025-02-07    285\n",
            "2025-02-08    311\n",
            "2025-02-09    286\n",
            "2025-02-10    265\n",
            "2025-02-11    270\n",
            "2025-02-12    279\n",
            "2025-02-13    278\n",
            "2025-02-14     65\n",
            "Freq: D, dtype: int64\n",
            "Average Emails per Day: 276.5806451612903\n"
          ]
        }
      ]
    },
    {
      "cell_type": "code",
      "source": [
        "from collections import Counter\n",
        "import re\n",
        "\n",
        "words = ' '.join(emails['content'].dropna()).lower()\n",
        "word_counts = Counter(re.findall(r'\\b[a-z]{3,}\\b', words))\n",
        "print(\"Most Common Words:\", word_counts.most_common(10))\n"
      ],
      "metadata": {
        "colab": {
          "base_uri": "https://localhost:8080/"
        },
        "id": "kUBU6l9yN7n_",
        "outputId": "6dd4934e-cb18-4bd6-f42b-98ceee12ac6b"
      },
      "execution_count": null,
      "outputs": [
        {
          "output_type": "stream",
          "name": "stdout",
          "text": [
            "Most Common Words: [('the', 3661), ('urgent', 1250), ('response', 1250), ('needed', 1250), ('eod', 1250), ('please', 1227), ('find', 1227), ('invoice', 1227), ('attached', 1227), ('hope', 1225)]\n"
          ]
        }
      ]
    }
  ]
}