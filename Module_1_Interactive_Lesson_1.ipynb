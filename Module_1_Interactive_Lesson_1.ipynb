{
  "nbformat": 4,
  "nbformat_minor": 0,
  "metadata": {
    "colab": {
      "provenance": [],
      "authorship_tag": "ABX9TyM0ZdKyD/RHp4LWc5fmDbFZ",
      "include_colab_link": true
    },
    "kernelspec": {
      "name": "python3",
      "display_name": "Python 3"
    },
    "language_info": {
      "name": "python"
    }
  },
  "cells": [
    {
      "cell_type": "markdown",
      "metadata": {
        "id": "view-in-github",
        "colab_type": "text"
      },
      "source": [
        "<a href=\"https://colab.research.google.com/github/ShilpaVasista/Exploratory-Data-Analytics/blob/main/Module1_Interactive_Lesson_1.ipynb\" target=\"_parent\"><img src=\"https://colab.research.google.com/assets/colab-badge.svg\" alt=\"Open In Colab\"/></a>"
      ]
    },
    {
      "cell_type": "markdown",
      "source": [
        "## 1. Reading and Writing to Files\n",
        "\n",
        "### Example: Reading a File\n",
        "```python\n",
        "filename = \"datamining.txt\"\n",
        "try:\n",
        "    with open(filename, mode=\"r\", encoding='utf-8') as file:\n",
        "        lines = file.readlines()\n",
        "        print(\"File Contents:\")\n",
        "        for line in lines:\n",
        "            print(line.strip())\n",
        "except FileNotFoundError:\n",
        "    print(f\"Error: {filename} not found!\")\n",
        "```\n",
        "\n",
        "### Exercise: Writing to a File\n",
        "Create a file named `output.txt` and write some text into it.\n",
        "```python\n",
        "output_filename = \"output.txt\"\n",
        "with open(output_filename, mode=\"w\", encoding='utf-8') as file:\n",
        "    file.write(\"This is a sample text written to the file.\\n\")\n",
        "    file.write(\"Python makes file handling easy!\\n\")\n",
        "print(f\"Data written to {output_filename}\")\n",
        "```\n",
        "\n",
        "---\n"
      ],
      "metadata": {
        "id": "rvCaTXdhc68E"
      }
    },
    {
      "cell_type": "markdown",
      "source": [
        "## 2. Error Handling\n",
        "\n",
        "### Example: Handling Input Errors\n",
        "```python\n",
        "try:\n",
        "    value = int(input(\"Type a number between 47 and 100: \"))\n",
        "except ValueError:\n",
        "    print(\"You must type a number between 47 and 100!\")\n",
        "else:\n",
        "    if 47 < value <= 100:\n",
        "        print(\"You typed:\", value)\n",
        "    else:\n",
        "        print(\"The value you typed is incorrect!\")\n",
        "```\n"
      ],
      "metadata": {
        "id": "XiSqmJWvdDUo"
      }
    },
    {
      "cell_type": "markdown",
      "source": [
        "### Exercise: Custom Error Handling\n",
        "Write a program that takes a number and raises an exception if the number is negative."
      ],
      "metadata": {
        "id": "ArrH5y5AdKtQ"
      }
    },
    {
      "cell_type": "code",
      "source": [],
      "metadata": {
        "id": "WD6QheLidLnu"
      },
      "execution_count": null,
      "outputs": []
    },
    {
      "cell_type": "markdown",
      "source": [
        "## 3. Object-Oriented Programming (OOP) in Python\n",
        "\n",
        "### Example: Creating a Class\n",
        "```python\n",
        "class Disease:\n",
        "    def __init__(self, disease='Depression'):\n",
        "        self.type = disease\n",
        "\n",
        "    def get_name(self):\n",
        "        print(f\"Mental Health Disease: {self.type}\")\n",
        "\n",
        "# Create an instance and call the method\n",
        "d1 = Disease('Social Anxiety Disorder')\n",
        "d1.get_name()\n",
        "```"
      ],
      "metadata": {
        "id": "qW4SsTZZdMbD"
      }
    },
    {
      "cell_type": "markdown",
      "source": [
        "### Exercise: Create Your Own Class\n",
        "Create a class called `Car` with the following attributes and methods:\n",
        "- Attributes: `brand`, `model`, `year`\n",
        "- Method: `display_info()` to print the car details\n"
      ],
      "metadata": {
        "id": "k5_N5nuMdU_Y"
      }
    },
    {
      "cell_type": "code",
      "source": [],
      "metadata": {
        "id": "rjcJt_xVdhrL"
      },
      "execution_count": null,
      "outputs": []
    }
  ]
}
