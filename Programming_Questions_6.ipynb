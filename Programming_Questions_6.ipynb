{
  "cells": [
    {
      "cell_type": "markdown",
      "metadata": {
        "id": "view-in-github",
        "colab_type": "text"
      },
      "source": [
        "<a href=\"https://colab.research.google.com/github/ShilpaVasista/Exploratory-Data-Analytics/blob/main/Programming_Questions_6.ipynb\" target=\"_parent\"><img src=\"https://colab.research.google.com/assets/colab-badge.svg\" alt=\"Open In Colab\"/></a>"
      ]
    },
    {
      "cell_type": "markdown",
      "source": [
        "**Main Question:** Create a 3-dimensional NumPy array named `my_3d_array` with dimensions 2x3x4 containing integer values ranging from 1 to 24 (inclusive)."
      ],
      "metadata": {
        "id": "KZSBeIrIDBCd"
      }
    },
    {
      "cell_type": "code",
      "source": [
        "import numpy as np\n",
        "\n",
        "my_3d_array = np.arange(1, 25).reshape((2, 3, 4))\n",
        "print(\"my_3d_array:\")\n",
        "print(my_3d_array)\n",
        "print(\"-\" * 30)"
      ],
      "outputs": [],
      "execution_count": null,
      "metadata": {
        "id": "Tsl1mS_UDBCi"
      }
    },
    {
      "cell_type": "markdown",
      "source": [
        "**Sub Question a:** Display the following properties of the `my_3d_array`: Its shape."
      ],
      "metadata": {
        "id": "09Ook-4yDBCk"
      }
    },
    {
      "cell_type": "code",
      "source": [
        "print(\"Shape of my_3d_array:\", my_3d_array.shape)\n",
        "print(\"-\" * 30)"
      ],
      "outputs": [],
      "execution_count": null,
      "metadata": {
        "id": "9py0kFzZDBCk"
      }
    },
    {
      "cell_type": "markdown",
      "source": [
        "**Sub Question b:** Display the following properties of the `my_3d_array`: Its size."
      ],
      "metadata": {
        "id": "BEo8lpX5DBCl"
      }
    },
    {
      "cell_type": "code",
      "source": [
        "print(\"Size of my_3d_array:\", my_3d_array.size)\n",
        "print(\"-\" * 30)"
      ],
      "outputs": [],
      "execution_count": null,
      "metadata": {
        "id": "8S6OEzD2DBCl"
      }
    },
    {
      "cell_type": "markdown",
      "source": [
        "**Sub Question c:** Display the following properties of the `my_3d_array`: Its strides."
      ],
      "metadata": {
        "id": "qN_ijX2_DBCm"
      }
    },
    {
      "cell_type": "code",
      "source": [
        "print(\"Strides of my_3d_array:\", my_3d_array.strides)\n",
        "print(\"-\" * 30)"
      ],
      "outputs": [],
      "execution_count": null,
      "metadata": {
        "id": "wkC6g34_DBCn"
      }
    },
    {
      "cell_type": "markdown",
      "source": [
        "**Sub Question d:** Perform the following arithmetic operations on the `my_3d_array`: Add the scalar value 5 to each element of the array and store the result in a new array named `added_array`."
      ],
      "metadata": {
        "id": "j7q34lCmDBCn"
      }
    },
    {
      "cell_type": "code",
      "source": [
        "added_array = my_3d_array + 5\n",
        "print(\"added_array (my_3d_array + 5):\")\n",
        "print(added_array)\n",
        "print(\"-\" * 30)"
      ],
      "outputs": [],
      "execution_count": null,
      "metadata": {
        "id": "wMHwYCnwDBCo"
      }
    },
    {
      "cell_type": "markdown",
      "source": [
        "**Sub Question e:** Perform the following arithmetic operations on the `my_3d_array`: Multiply each element of the `my_3d_array` by 2 and store the result in a new array named `multiplied_array`."
      ],
      "metadata": {
        "id": "qzZph5RtDBCo"
      }
    },
    {
      "cell_type": "code",
      "source": [
        "multiplied_array = my_3d_array * 2\n",
        "print(\"multiplied_array (my_3d_array * 2):\")\n",
        "print(multiplied_array)\n",
        "print(\"-\" * 30)"
      ],
      "outputs": [],
      "execution_count": null,
      "metadata": {
        "id": "Z2RoMN79DBCp"
      }
    },
    {
      "cell_type": "markdown",
      "source": [
        "**Sub Question f:** Print the `my_3d_array`, `added_array`, and `multiplied_array` to the console for verification."
      ],
      "metadata": {
        "id": "mY7UY7RUDBCp"
      }
    },
    {
      "cell_type": "code",
      "source": [
        "print(\"my_3d_array:\")\n",
        "print(my_3d_array)\n",
        "print(\"-\" * 30)\n",
        "print(\"added_array:\")\n",
        "print(added_array)\n",
        "print(\"-\" * 30)\n",
        "print(\"multiplied_array:\")\n",
        "print(multiplied_array)"
      ],
      "outputs": [],
      "execution_count": null,
      "metadata": {
        "id": "vaQG1eevDBCp"
      }
    }
  ],
  "metadata": {
    "colab": {
      "provenance": [],
      "include_colab_link": true
    },
    "kernelspec": {
      "display_name": "Python 3",
      "name": "python3"
    }
  },
  "nbformat": 4,
  "nbformat_minor": 0
}