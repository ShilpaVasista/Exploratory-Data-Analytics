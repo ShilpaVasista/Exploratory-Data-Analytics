{
  "nbformat": 4,
  "nbformat_minor": 0,
  "metadata": {
    "colab": {
      "provenance": [],
      "authorship_tag": "ABX9TyNIJT9kd3NjejsCRI1Dya3C",
      "include_colab_link": true
    },
    "kernelspec": {
      "name": "python3",
      "display_name": "Python 3"
    },
    "language_info": {
      "name": "python"
    }
  },
  "cells": [
    {
      "cell_type": "markdown",
      "metadata": {
        "id": "view-in-github",
        "colab_type": "text"
      },
      "source": [
        "<a href=\"https://colab.research.google.com/github/ShilpaVasista/Exploratory-Data-Analytics/blob/main/Module_1_Interactive_Lesson_3.ipynb\" target=\"_parent\"><img src=\"https://colab.research.google.com/assets/colab-badge.svg\" alt=\"Open In Colab\"/></a>"
      ]
    },
    {
      "cell_type": "markdown",
      "source": [
        "## 1. Setting Up Pandas:"
      ],
      "metadata": {
        "id": "cOtBe6vZm1bt"
      }
    },
    {
      "cell_type": "markdown",
      "source": [
        "To work with Pandas, you'll need to import it and set some default parameters for better data display."
      ],
      "metadata": {
        "id": "MgcZT_T8m60a"
      }
    },
    {
      "cell_type": "code",
      "execution_count": null,
      "metadata": {
        "id": "ljOR9X0Umav4"
      },
      "outputs": [],
      "source": [
        "import numpy as np\n",
        "import pandas as pd\n",
        "print(\"Pandas Version:\", pd.__version__)\n",
        "pd.set_option('display.max_columns', 500)\n",
        "pd.set_option('display.max_rows', 500)"
      ]
    },
    {
      "cell_type": "markdown",
      "source": [
        "Exercise:\n",
        "\n"
      ],
      "metadata": {
        "id": "UsUSkSzMnJhd"
      }
    },
    {
      "cell_type": "markdown",
      "source": [
        "1. Run the above code and confirm your Pandas version.\n"
      ],
      "metadata": {
        "id": "TbzWfZNtnMHF"
      }
    },
    {
      "cell_type": "code",
      "source": [],
      "metadata": {
        "id": "Xg7px3g2nOY6"
      },
      "execution_count": null,
      "outputs": []
    },
    {
      "cell_type": "markdown",
      "source": [
        "2. Set the display.max_columns and display.max_rows to a higher number if needed to view large datasets."
      ],
      "metadata": {
        "id": "GJdFuqFMnOtZ"
      }
    },
    {
      "cell_type": "code",
      "source": [],
      "metadata": {
        "id": "dvQz4pqZnP_5"
      },
      "execution_count": null,
      "outputs": []
    },
    {
      "cell_type": "markdown",
      "source": [
        "## 2. Creating DataFrames:"
      ],
      "metadata": {
        "id": "IJpk5Z-RnTss"
      }
    },
    {
      "cell_type": "markdown",
      "source": [
        "You can create DataFrames in multiple ways, such as from Series, dictionaries, or N-dimensional arrays."
      ],
      "metadata": {
        "id": "G9_oSc9cng02"
      }
    },
    {
      "cell_type": "markdown",
      "source": [
        "From a Series:"
      ],
      "metadata": {
        "id": "KUX_YClknkMQ"
      }
    },
    {
      "cell_type": "code",
      "source": [
        "series = pd.Series([2, 3, 7, 11, 13, 17, 19, 23])\n",
        "print(series)\n",
        "# Creating dataframe from Series\n",
        "series_df = pd.DataFrame({\n",
        "   'A': range(1, 5),\n",
        "   'B': pd.Timestamp('20190526'),\n",
        "   'C': pd.Series(5, index=list(range(4)), dtype='float64'),\n",
        "   'D': np.array([3] * 4, dtype='int64'),\n",
        "   'E': pd.Categorical([\"Depression\", \"Social Anxiety\", \"Bipolar Disorder\", \"Eating Disorder\"]),\n",
        "   'F': 'Mental health',\n",
        "   'G': 'is challenging'\n",
        "})\n",
        "print(series_df)"
      ],
      "metadata": {
        "id": "treo838inlnF"
      },
      "execution_count": null,
      "outputs": []
    },
    {
      "cell_type": "markdown",
      "source": [
        "From a Dictionary:"
      ],
      "metadata": {
        "id": "TlHycvRaoumO"
      }
    },
    {
      "cell_type": "code",
      "source": [
        "dict_df = [{'A': 'Apple', 'B': 'Ball'}, {'A': 'Aeroplane', 'B': 'Bat', 'C': 'Cat'}]\n",
        "dict_df = pd.DataFrame(dict_df)\n",
        "print(dict_df)"
      ],
      "metadata": {
        "id": "UK8AMmK9owOe"
      },
      "execution_count": null,
      "outputs": []
    },
    {
      "cell_type": "markdown",
      "source": [
        "From N-dimensional Arrays:"
      ],
      "metadata": {
        "id": "cvimFjymoyrt"
      }
    },
    {
      "cell_type": "code",
      "source": [
        "sdf = {\n",
        "   'County': ['Østfold', 'Hordaland', 'Oslo', 'Hedmark', 'Oppland', 'Buskerud'],\n",
        "   'ISO-Code': [1, 2, 3, 4, 5, 6],\n",
        "   'Area': [4180.69, 4917.94, 454.07, 27397.76, 25192.10, 14910.94],\n",
        "   'Administrative centre': [\"Sarpsborg\", \"Oslo\", \"City of Oslo\", \"Hamar\", \"Lillehammer\", \"Drammen\"]\n",
        "}\n",
        "sdf = pd.DataFrame(sdf)\n",
        "print(sdf)"
      ],
      "metadata": {
        "id": "aNNm2x-1o1Lz"
      },
      "execution_count": null,
      "outputs": []
    },
    {
      "cell_type": "markdown",
      "source": [
        "Exercise:\n",
        "\n"
      ],
      "metadata": {
        "id": "NOIwwX7Fo36U"
      }
    },
    {
      "cell_type": "markdown",
      "source": [
        "1. Create a DataFrame using a list of numbers.\n",
        "\n"
      ],
      "metadata": {
        "id": "yKEzeCA3o5h5"
      }
    },
    {
      "cell_type": "code",
      "source": [],
      "metadata": {
        "id": "_F2xsngbo7eP"
      },
      "execution_count": null,
      "outputs": []
    },
    {
      "cell_type": "markdown",
      "source": [
        "2. Convert the Series into a DataFrame with multiple columns as shown in the code example."
      ],
      "metadata": {
        "id": "-zokewzOo7xB"
      }
    },
    {
      "cell_type": "code",
      "source": [],
      "metadata": {
        "id": "M8v22vPYo871"
      },
      "execution_count": null,
      "outputs": []
    },
    {
      "cell_type": "markdown",
      "source": [
        "## 3. Loading Data from a CSV File:"
      ],
      "metadata": {
        "id": "4y3Zvmt0o_m-"
      }
    },
    {
      "cell_type": "markdown",
      "source": [
        "You can load a dataset from an external source into a pandas DataFrame."
      ],
      "metadata": {
        "id": "iQ82WIm4pD9m"
      }
    },
    {
      "cell_type": "code",
      "source": [
        "columns = ['age', 'workclass', 'fnlwgt', 'education', 'education_num', 'marital_status', 'occupation',\n",
        "           'relationship', 'ethnicity', 'gender', 'capital_gain', 'capital_loss', 'hours_per_week',\n",
        "           'country_of_origin', 'income']\n",
        "df = pd.read_csv('http://archive.ics.uci.edu/ml/machine-learning-databases/adult/adult.data', names=columns)\n",
        "print(df.head(10))"
      ],
      "metadata": {
        "id": "BeJaBgWlpGVz"
      },
      "execution_count": null,
      "outputs": []
    },
    {
      "cell_type": "markdown",
      "source": [
        "Exercise:\n",
        "\n",
        "Load your own dataset using pd.read_csv() and check the first 10 rows using .head(10).\n"
      ],
      "metadata": {
        "id": "RFaKoqLPpJfe"
      }
    },
    {
      "cell_type": "code",
      "source": [],
      "metadata": {
        "id": "uo8drWXSpKRW"
      },
      "execution_count": null,
      "outputs": []
    },
    {
      "cell_type": "markdown",
      "source": [
        "## 4. Inspecting DataFrames:"
      ],
      "metadata": {
        "id": "D6BWAye3pMWg"
      }
    },
    {
      "cell_type": "markdown",
      "source": [
        "You can view information about the DataFrame, such as column names, data types, and memory usage."
      ],
      "metadata": {
        "id": "frrrLPgjpPXi"
      }
    },
    {
      "cell_type": "code",
      "source": [
        "df.info()"
      ],
      "metadata": {
        "id": "RH9QfuiFpRaE"
      },
      "execution_count": null,
      "outputs": []
    },
    {
      "cell_type": "markdown",
      "source": [
        "Exercise:\n",
        "\n",
        "Use df.info() to inspect the DataFrame you loaded."
      ],
      "metadata": {
        "id": "oyTQNfHIpUPH"
      }
    },
    {
      "cell_type": "markdown",
      "source": [
        "## 5. Selecting Rows and Columns:"
      ],
      "metadata": {
        "id": "yuVIwEGqpWwd"
      }
    },
    {
      "cell_type": "markdown",
      "source": [
        "You can select specific rows and columns in a DataFrame using the .iloc[] method."
      ],
      "metadata": {
        "id": "NFyD_EMgpZrk"
      }
    },
    {
      "cell_type": "code",
      "source": [
        "df.iloc[10]        # Selects a specific row\n",
        "df.iloc[0:10]      # Selects multiple rows\n",
        "df.iloc[10:15]     # Selects a range of rows\n",
        "df.iloc[-2:]       # Selects the last 2 rows\n",
        "df.iloc[::2, 3:5]  # Selects every other row in columns 3-5"
      ],
      "metadata": {
        "id": "g7E5rZEWpbmU"
      },
      "execution_count": null,
      "outputs": []
    },
    {
      "cell_type": "markdown",
      "source": [
        "Exercise:\n",
        "\n",
        "Use .iloc[] to select specific rows and columns from your DataFrame."
      ],
      "metadata": {
        "id": "JKnRG5A3peWC"
      }
    },
    {
      "cell_type": "markdown",
      "source": [
        "## 6. Combining NumPy with Pandas:"
      ],
      "metadata": {
        "id": "4T9Mo7bMphOV"
      }
    },
    {
      "cell_type": "markdown",
      "source": [
        "You can combine NumPy arrays with Pandas DataFrames."
      ],
      "metadata": {
        "id": "QPbw-jvypkIl"
      }
    },
    {
      "cell_type": "code",
      "source": [
        "np.random.seed(24)\n",
        "dFrame = pd.DataFrame({'F': np.linspace(1, 10, 10)})\n",
        "dFrame = pd.concat([df, pd.DataFrame(np.random.randn(10, 5), columns=list('EDCBA'))], axis=1)\n",
        "dFrame.iloc[0, 2] = np.nan\n",
        "print(dFrame)"
      ],
      "metadata": {
        "id": "FsrJn4xfpl3y"
      },
      "execution_count": null,
      "outputs": []
    },
    {
      "cell_type": "markdown",
      "source": [
        "Exercise:\n",
        "\n",
        "Create a DataFrame using np.random.randn() and concatenate it with an existing DataFrame."
      ],
      "metadata": {
        "id": "mNGEtip0pob2"
      }
    },
    {
      "cell_type": "markdown",
      "source": [
        "## 7. Styling DataFrames:"
      ],
      "metadata": {
        "id": "rXROoxdypqpR"
      }
    },
    {
      "cell_type": "markdown",
      "source": [
        "You can apply custom styles to highlight values based on conditions."
      ],
      "metadata": {
        "id": "Iaf9feYSptY2"
      }
    },
    {
      "cell_type": "code",
      "source": [
        "def colorNegativeValueToRed(value):\n",
        "    if value < 0:\n",
        "        color = 'red'\n",
        "    elif value > 0:\n",
        "        color = 'black'\n",
        "    else:\n",
        "        color = 'green'\n",
        "    return 'color: %s' % color\n",
        "\n",
        "s = df.style.applymap(colorNegativeValueToRed, subset=['A', 'B', 'C', 'D', 'E'])\n",
        "s"
      ],
      "metadata": {
        "id": "Mixu8VDZpvOM"
      },
      "execution_count": null,
      "outputs": []
    },
    {
      "cell_type": "markdown",
      "source": [
        "Exercise:\n",
        "\n",
        "Apply styling to your DataFrame, changing colors based on positive, negative, and zero values."
      ],
      "metadata": {
        "id": "eX670pP8qCxo"
      }
    },
    {
      "cell_type": "markdown",
      "source": [
        "## 8. Highlighting Maximum and Minimum Values:"
      ],
      "metadata": {
        "id": "ze0txc58qFjv"
      }
    },
    {
      "cell_type": "markdown",
      "source": [
        "You can highlight the max and min values in each column."
      ],
      "metadata": {
        "id": "2XrqQVdMqJQm"
      }
    },
    {
      "cell_type": "code",
      "source": [
        "def highlightMax(s):\n",
        "    isMax = s == s.max()\n",
        "    return ['background-color: orange' if v else '' for v in isMax]\n",
        "\n",
        "def highlightMin(s):\n",
        "    isMin = s == s.min()\n",
        "    return ['background-color: green' if v else '' for v in isMin]\n",
        "\n",
        "df.style.apply(highlightMax).apply(highlightMin).highlight_null(null_color='red')"
      ],
      "metadata": {
        "id": "_rY0LStpqMNz"
      },
      "execution_count": null,
      "outputs": []
    },
    {
      "cell_type": "markdown",
      "source": [
        "Exercise:\n",
        "\n",
        "Apply the highlightMax() and highlightMin() functions to highlight maximum and minimum values in your DataFrame."
      ],
      "metadata": {
        "id": "VDx__WQZqLIX"
      }
    },
    {
      "cell_type": "markdown",
      "source": [
        "## 9. Gradient Background Styling:"
      ],
      "metadata": {
        "id": "csUb3P8rqVJJ"
      }
    },
    {
      "cell_type": "markdown",
      "source": [
        "You can use Seaborn to apply a gradient color map to the DataFrame."
      ],
      "metadata": {
        "id": "LU5HoERGqXQV"
      }
    },
    {
      "cell_type": "code",
      "source": [
        "import seaborn as sns\n",
        "colorMap = sns.light_palette(\"pink\", as_cmap=True)\n",
        "styled = df.style.background_gradient(cmap=colorMap)\n",
        "styled"
      ],
      "metadata": {
        "id": "Z5iK0aBbqZXT"
      },
      "execution_count": null,
      "outputs": []
    },
    {
      "cell_type": "markdown",
      "source": [
        "Exercise:\n",
        "\n",
        "Apply a gradient color to your DataFrame using Seaborn."
      ],
      "metadata": {
        "id": "twRjkBpIqcmV"
      }
    }
  ]
}