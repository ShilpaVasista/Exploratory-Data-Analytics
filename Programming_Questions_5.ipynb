{
  "cells": [
    {
      "cell_type": "markdown",
      "metadata": {
        "id": "view-in-github",
        "colab_type": "text"
      },
      "source": [
        "<a href=\"https://colab.research.google.com/github/ShilpaVasista/Exploratory-Data-Analytics/blob/main/Programming_Questions_5.ipynb\" target=\"_parent\"><img src=\"https://colab.research.google.com/assets/colab-badge.svg\" alt=\"Open In Colab\"/></a>"
      ]
    },
    {
      "cell_type": "code",
      "source": [
        "import pandas as pd\n",
        "import matplotlib.pyplot as plt\n",
        "\n",
        "# Main Question: For the given data frame, answer the following questions:\n",
        "\n",
        "data = {'Region': ['North', 'South', 'East', 'West', 'North', 'East', 'South'],\n",
        "        'Product': ['Laptop', 'Tablet', 'Laptop', 'Phone', 'Tablet', 'Laptop', 'Phone'],\n",
        "        'Sales': [1200, 800, 1500, 600, 900, 1300, 700]}\n",
        "\n",
        "sales_df = pd.DataFrame(data)\n",
        "print(\"Original Sales DataFrame:\")\n",
        "print(sales_df)\n",
        "print(\"-\" * 40)"
      ],
      "outputs": [],
      "execution_count": null,
      "metadata": {
        "id": "j_ptSaW0Bwgb"
      }
    },
    {
      "cell_type": "markdown",
      "source": [
        "**Sub Question a:** Write a python program to group the data by “Region” and apply the following aggregation functions to the “Sales” column: sum, min, max, rename the resulting columns as “Total_Sales”, “Min_Sales”, and “Max_Sales” respectively."
      ],
      "metadata": {
        "id": "EVN2s73rBwgg"
      }
    },
    {
      "cell_type": "code",
      "source": [
        "region_sales = sales_df.groupby('Region')['Sales'].agg(\n",
        "    Total_Sales='sum',\n",
        "    Min_Sales='min',\n",
        "    Max_Sales='max'\n",
        ").reset_index()\n",
        "\n",
        "print(\"Resulting DataFrame (Grouped by Region):\")\n",
        "print(region_sales)\n",
        "print(\"-\" * 40)"
      ],
      "outputs": [],
      "execution_count": null,
      "metadata": {
        "id": "beBeMeYzBwgi"
      }
    },
    {
      "cell_type": "markdown",
      "source": [
        "**Sub Question b i):** Which region has the highest total sales?"
      ],
      "metadata": {
        "id": "-v-iySdIBwgk"
      }
    },
    {
      "cell_type": "code",
      "source": [
        "highest_sales_region = region_sales.loc[region_sales['Total_Sales'].idxmax()]\n",
        "print(f\"The region with the highest total sales is: {highest_sales_region['Region']} (Total Sales: {highest_sales_region['Total_Sales']})\")\n",
        "print(\"-\" * 40)"
      ],
      "outputs": [],
      "execution_count": null,
      "metadata": {
        "id": "pvut4aQcBwgl"
      }
    },
    {
      "cell_type": "markdown",
      "source": [
        "**Sub Question b ii):** Which region has the lowest sales?"
      ],
      "metadata": {
        "id": "rys0s0D9Bwgm"
      }
    },
    {
      "cell_type": "code",
      "source": [
        "lowest_sales_region = region_sales.loc[region_sales['Total_Sales'].idxmin()]\n",
        "print(f\"The region with the lowest total sales is: {lowest_sales_region['Region']} (Total Sales: {lowest_sales_region['Total_Sales']})\")\n",
        "print(\"-\" * 40)"
      ],
      "outputs": [],
      "execution_count": null,
      "metadata": {
        "id": "s5tINS7KBwgn"
      }
    },
    {
      "cell_type": "markdown",
      "source": [
        "**Sub Question c:** Write a Python program to group the data by \"Product\" and calculate the average sales for each product."
      ],
      "metadata": {
        "id": "_C4C4P-1Bwgo"
      }
    },
    {
      "cell_type": "code",
      "source": [
        "product_avg_sales = sales_df.groupby('Product')['Sales'].mean().reset_index(name='Average_Sales')\n",
        "print(\"Average Sales by Product:\")\n",
        "print(product_avg_sales)\n",
        "print(\"-\" * 40)"
      ],
      "outputs": [],
      "execution_count": null,
      "metadata": {
        "id": "mAwna14YBwgp"
      }
    },
    {
      "cell_type": "markdown",
      "source": [
        "**Sub Question d:** For each region, what was the product with the highest individual sale?"
      ],
      "metadata": {
        "id": "6MUPV4cPBwgq"
      }
    },
    {
      "cell_type": "code",
      "source": [
        "highest_sale_per_region = sales_df.loc[sales_df.groupby('Region')['Sales'].idxmax()]\n",
        "print(\"Product with the Highest Individual Sale in Each Region:\")\n",
        "print(highest_sale_per_region[['Region', 'Product', 'Sales']])\n",
        "print(\"-\" * 40)"
      ],
      "outputs": [],
      "execution_count": null,
      "metadata": {
        "id": "z6JD8X-MBwgr"
      }
    },
    {
      "cell_type": "markdown",
      "source": [
        "**Sub Question e:** Create a simple bar chart visualizing the 'Total_Sales' for each region. Label the x-axis as \"Region\" and the y-axis as \"Total Sales\". Add a title to the chart."
      ],
      "metadata": {
        "id": "ExGnDhwFBwgr"
      }
    },
    {
      "cell_type": "code",
      "source": [
        "plt.figure(figsize=(8, 6))\n",
        "plt.bar(region_sales['Region'], region_sales['Total_Sales'])\n",
        "plt.xlabel(\"Region\")\n",
        "plt.ylabel(\"Total Sales\")\n",
        "plt.title(\"Total Sales by Region\")\n",
        "plt.grid(axis='y', linestyle='--')\n",
        "plt.show()\n",
        "print(\"-\" * 40)"
      ],
      "outputs": [],
      "execution_count": null,
      "metadata": {
        "id": "wRia71Z5Bwgs"
      }
    },
    {
      "cell_type": "markdown",
      "source": [
        "**Sub Question f:** Calculate the difference between the 'Max_Sales' and 'Min_Sales' for each region and add this as a new column named 'Sales_Range' to the DataFrame."
      ],
      "metadata": {
        "id": "OPrrs0wDBwgs"
      }
    },
    {
      "cell_type": "code",
      "source": [
        "region_sales['Sales_Range'] = region_sales['Max_Sales'] - region_sales['Min_Sales']\n",
        "print(\"DataFrame with Sales Range:\")\n",
        "print(region_sales)"
      ],
      "outputs": [],
      "execution_count": null,
      "metadata": {
        "id": "XFBQ3DyeBwgs"
      }
    }
  ],
  "metadata": {
    "colab": {
      "provenance": [],
      "include_colab_link": true
    },
    "kernelspec": {
      "display_name": "Python 3",
      "name": "python3"
    }
  },
  "nbformat": 4,
  "nbformat_minor": 0
}