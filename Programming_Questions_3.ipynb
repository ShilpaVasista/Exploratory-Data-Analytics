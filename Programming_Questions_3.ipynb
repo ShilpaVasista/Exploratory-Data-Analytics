{
  "cells": [
    {
      "cell_type": "markdown",
      "metadata": {
        "id": "view-in-github",
        "colab_type": "text"
      },
      "source": [
        "<a href=\"https://colab.research.google.com/github/ShilpaVasista/Exploratory-Data-Analytics/blob/main/Programming_Questions_3.ipynb\" target=\"_parent\"><img src=\"https://colab.research.google.com/assets/colab-badge.svg\" alt=\"Open In Colab\"/></a>"
      ]
    },
    {
      "cell_type": "code",
      "source": [
        "import pandas as pd\n",
        "import numpy as np\n",
        "\n",
        "data = {\n",
        "    'Name': ['Alice', 'Bob', np.nan, 'David', 'Eve', np.nan],\n",
        "    'Age': [25, np.nan, np.nan, 40, 30, np.nan],\n",
        "    'Score': [85, 90, np.nan, 88, 92, np.nan],\n",
        "    'City': ['NY', 'LA', np.nan, 'Chicago', 'Houston', np.nan]\n",
        "}\n",
        "\n",
        "df = pd.DataFrame(data)\n",
        "print(\"Original DataFrame:\")\n",
        "print(df)\n",
        "print(\"-\" * 30)"
      ],
      "outputs": [],
      "execution_count": null,
      "metadata": {
        "id": "hiej_iJCf-CT"
      }
    },
    {
      "cell_type": "markdown",
      "source": [
        "**Main Question:** Use the below code snippet as reference and write code for the following operations:\n",
        "\n",
        "**Sub Question a:** Drop all rows that contain missing values"
      ],
      "metadata": {
        "id": "mHnlkWkNf-CX"
      }
    },
    {
      "cell_type": "code",
      "source": [
        "df_dropped_rows = df.dropna()\n",
        "print(\"DataFrame after dropping rows with missing values:\")\n",
        "print(df_dropped_rows)\n",
        "print(\"-\" * 30)"
      ],
      "outputs": [],
      "execution_count": null,
      "metadata": {
        "id": "vOfyydYdf-CZ"
      }
    },
    {
      "cell_type": "markdown",
      "source": [
        "**Sub Question b:** Drop all columns that contain missing values"
      ],
      "metadata": {
        "id": "8BsYesnCf-Ca"
      }
    },
    {
      "cell_type": "code",
      "source": [
        "df_dropped_cols = df.dropna(axis=1)\n",
        "print(\"DataFrame after dropping columns with missing values:\")\n",
        "print(df_dropped_cols)\n",
        "print(\"-\" * 30)"
      ],
      "outputs": [],
      "execution_count": null,
      "metadata": {
        "id": "-MwF-ym4f-Cb"
      }
    },
    {
      "cell_type": "markdown",
      "source": [
        "**Sub Question c:** Add new row at the bottom of the dataset with all the values as NaN"
      ],
      "metadata": {
        "id": "qFvQPk-8f-Cb"
      }
    },
    {
      "cell_type": "code",
      "source": [
        "new_row = pd.Series([np.nan] * len(df.columns), index=df.columns)\n",
        "df_with_nan_row = pd.concat([df, pd.DataFrame([new_row])], ignore_index=True)\n",
        "print(\"DataFrame with a new NaN row at the bottom:\")\n",
        "print(df_with_nan_row)\n",
        "print(\"-\" * 30)"
      ],
      "outputs": [],
      "execution_count": null,
      "metadata": {
        "id": "gctQ4WWwf-Cc"
      }
    },
    {
      "cell_type": "markdown",
      "source": [
        "**Sub Question d:** Apply `dropna(thresh = 4)` on rows. What does it do?"
      ],
      "metadata": {
        "id": "C3T5WwY_f-Cd"
      }
    },
    {
      "cell_type": "code",
      "source": [
        "df_thresh_rows = df.dropna(thresh=4)\n",
        "print(\"DataFrame after applying dropna(thresh=4) on rows:\")\n",
        "print(df_thresh_rows)\n",
        "print(\"Explanation: dropna(thresh=4) keeps only the rows that have at least 4 non-missing values.\")\n",
        "print(\"-\" * 30)"
      ],
      "outputs": [],
      "execution_count": null,
      "metadata": {
        "id": "ThIviKzlf-Ce"
      }
    },
    {
      "cell_type": "markdown",
      "source": [
        "**Sub Question e:** Apply `dropna(thresh = 5, axis = 1)`. What does it do?"
      ],
      "metadata": {
        "id": "6vhvtFwmf-Cf"
      }
    },
    {
      "cell_type": "code",
      "source": [
        "df_thresh_cols = df.dropna(thresh=5, axis=1)\n",
        "print(\"DataFrame after applying dropna(thresh=5, axis=1) on columns:\")\n",
        "print(df_thresh_cols)\n",
        "print(\"Explanation: dropna(thresh=5, axis=1) keeps only the columns that have at least 5 non-missing values.\")\n",
        "print(\"-\" * 30)"
      ],
      "outputs": [],
      "execution_count": null,
      "metadata": {
        "id": "zJZxbnQXf-Cf"
      }
    },
    {
      "cell_type": "markdown",
      "source": [
        "**Sub Question f:** Write the code to count the number of missing values in each column"
      ],
      "metadata": {
        "id": "_5tnhCXBf-Cg"
      }
    },
    {
      "cell_type": "code",
      "source": [
        "missing_values_per_column = df.isnull().sum()\n",
        "print(\"Number of missing values in each column:\")\n",
        "print(missing_values_per_column)\n",
        "print(\"-\" * 30)"
      ],
      "outputs": [],
      "execution_count": null,
      "metadata": {
        "id": "Ak41dq0Rf-Cg"
      }
    },
    {
      "cell_type": "markdown",
      "source": [
        "**Sub Question g:** Write the code to count total number of missing values in the entire dataframe"
      ],
      "metadata": {
        "id": "I3D8GUr4f-Cg"
      }
    },
    {
      "cell_type": "code",
      "source": [
        "total_missing_values = df.isnull().sum().sum()\n",
        "print(\"Total number of missing values in the DataFrame:\")\n",
        "print(total_missing_values)\n",
        "print(\"-\" * 30)"
      ],
      "outputs": [],
      "execution_count": null,
      "metadata": {
        "id": "XDJF3gLXf-Cg"
      }
    },
    {
      "cell_type": "markdown",
      "source": [
        "**Sub Question h:** Write code to count not null values in each column"
      ],
      "metadata": {
        "id": "u3oYTvs9f-Ch"
      }
    },
    {
      "cell_type": "code",
      "source": [
        "not_null_values_per_column = df.notnull().sum()\n",
        "print(\"Number of not null values in each column:\")\n",
        "print(not_null_values_per_column)\n",
        "print(\"-\" * 30)"
      ],
      "outputs": [],
      "execution_count": null,
      "metadata": {
        "id": "LQfYi5Amf-Ch"
      }
    },
    {
      "cell_type": "markdown",
      "source": [
        "**Sub Question i:** What is the average age of the individuals in the dataset?"
      ],
      "metadata": {
        "id": "62fWuzSbf-Ch"
      }
    },
    {
      "cell_type": "code",
      "source": [
        "average_age = df['Age'].mean()\n",
        "print(f\"Average Age: {average_age}\")\n",
        "print(\"-\" * 30)"
      ],
      "outputs": [],
      "execution_count": null,
      "metadata": {
        "id": "AIcr64INf-Ch"
      }
    },
    {
      "cell_type": "markdown",
      "source": [
        "**Sub Question j:** What are the unique cities present in the dataset?"
      ],
      "metadata": {
        "id": "7OM1z8Vqf-Ci"
      }
    },
    {
      "cell_type": "code",
      "source": [
        "unique_cities = df['City'].dropna().unique()\n",
        "print(f\"Unique Cities: {unique_cities}\")\n",
        "print(\"-\" * 30)"
      ],
      "outputs": [],
      "execution_count": null,
      "metadata": {
        "id": "BomNvzcLf-Ci"
      }
    },
    {
      "cell_type": "markdown",
      "source": [
        "**Sub Question k:** How many individuals have a score greater than 88?"
      ],
      "metadata": {
        "id": "jSZi0GLjf-Ci"
      }
    },
    {
      "cell_type": "code",
      "source": [
        "high_scorers_count = df[df['Score'] > 88]['Name'].count()\n",
        "print(f\"Number of individuals with a score greater than 88: {high_scorers_count}\")\n",
        "print(\"-\" * 30)"
      ],
      "outputs": [],
      "execution_count": null,
      "metadata": {
        "id": "bo_kdlHKf-Ci"
      }
    },
    {
      "cell_type": "markdown",
      "source": [
        "**Sub Question l:** How many people have a missing name?"
      ],
      "metadata": {
        "id": "JjJp6wIjf-Ci"
      }
    },
    {
      "cell_type": "code",
      "source": [
        "missing_name_count = df['Name'].isnull().sum()\n",
        "print(f\"Number of people with a missing name: {missing_name_count}\")\n",
        "print(\"-\" * 30)"
      ],
      "outputs": [],
      "execution_count": null,
      "metadata": {
        "id": "2kErcTaIf-Ci"
      }
    }
  ],
  "metadata": {
    "colab": {
      "provenance": [],
      "include_colab_link": true
    },
    "kernelspec": {
      "display_name": "Python 3",
      "name": "python3"
    }
  },
  "nbformat": 4,
  "nbformat_minor": 0
}