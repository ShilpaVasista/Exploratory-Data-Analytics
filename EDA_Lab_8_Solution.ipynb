{
  "nbformat": 4,
  "nbformat_minor": 0,
  "metadata": {
    "colab": {
      "provenance": [],
      "authorship_tag": "ABX9TyOP6hKj2v5hlYDpSL7dqGnw",
      "include_colab_link": true
    },
    "kernelspec": {
      "name": "python3",
      "display_name": "Python 3"
    },
    "language_info": {
      "name": "python"
    }
  },
  "cells": [
    {
      "cell_type": "markdown",
      "metadata": {
        "id": "view-in-github",
        "colab_type": "text"
      },
      "source": [
        "<a href=\"https://colab.research.google.com/github/ShilpaVasista/Exploratory-Data-Analytics/blob/main/EDA_Lab_8_Solution.ipynb\" target=\"_parent\"><img src=\"https://colab.research.google.com/assets/colab-badge.svg\" alt=\"Open In Colab\"/></a>"
      ]
    },
    {
      "cell_type": "markdown",
      "source": [
        "Lab Exercise 8"
      ],
      "metadata": {
        "id": "dG8Zt1OfzD3P"
      }
    },
    {
      "cell_type": "markdown",
      "source": [
        "Download a Twitter dataset containing tweets about a specific brand or event.\n",
        "- Utilize libraries like NLTK or TextBlob to perform sentiment analysis on the\n",
        "tweets.\n",
        "- Explore the distribution of positive, negative, and neutral sentiment. Identify\n",
        "keywords or phrases associated with each sentiment category."
      ],
      "metadata": {
        "id": "E89h8ilUvXKX"
      }
    },
    {
      "cell_type": "markdown",
      "source": [
        "Load the Twitter dataset containing tweets about a specific brand or event (fields: tweet_id, airline_sentiment, text, etc.)."
      ],
      "metadata": {
        "id": "7bytQhvGzLZX"
      }
    },
    {
      "cell_type": "code",
      "execution_count": null,
      "metadata": {
        "colab": {
          "base_uri": "https://localhost:8080/"
        },
        "id": "ZvuqkZcBvPTS",
        "outputId": "70fc768e-82d7-4113-848a-fe3e64f92036"
      },
      "outputs": [
        {
          "output_type": "stream",
          "name": "stderr",
          "text": [
            "[nltk_data] Downloading package punkt to /root/nltk_data...\n",
            "[nltk_data]   Package punkt is already up-to-date!\n",
            "[nltk_data] Downloading package stopwords to /root/nltk_data...\n",
            "[nltk_data]   Package stopwords is already up-to-date!\n"
          ]
        }
      ],
      "source": [
        "import pandas as pd\n",
        "import nltk\n",
        "from nltk.tokenize import word_tokenize\n",
        "from nltk.corpus import stopwords\n",
        "from textblob import TextBlob\n",
        "import matplotlib.pyplot as plt\n",
        "nltk.download('punkt')  # Ensure punkt tokenizer is downloaded\n",
        "nltk.download('stopwords')  # Ensure stopwords are downloaded\n",
        "# Check the availability of the necessary resources\n",
        "nltk.data.find('tokenizers/punkt')\n",
        "nltk.data.find('corpora/stopwords')\n",
        "\n",
        "\n",
        "\n",
        "# Load dataset (replace with your actual file path)\n",
        "df = pd.read_csv(\"Tweets.csv\")\n",
        "\n",
        "# Clean missing values (e.g., drop rows with missing sentiment or text)\n",
        "df.dropna(subset=['airline_sentiment', 'text'], inplace=True)"
      ]
    },
    {
      "cell_type": "markdown",
      "source": [
        "Perform sentiment analysis using the airline_sentiment column as the target sentiment, and explore how the distribution of sentiments (positive, negative, neutral) varies."
      ],
      "metadata": {
        "id": "SusuPrkNzy9L"
      }
    },
    {
      "cell_type": "code",
      "source": [
        "# Perform sentiment analysis on the 'text' column if 'airline_sentiment' is missing or for additional validation\n",
        "def get_sentiment(text):\n",
        "    analysis = TextBlob(text)\n",
        "    return analysis.sentiment.polarity\n",
        "\n",
        "df['calculated_sentiment'] = df['text'].apply(get_sentiment)\n",
        "df['sentiment_label'] = df['calculated_sentiment'].apply(lambda x: 'positive' if x > 0 else ('negative' if x < 0 else 'neutral'))\n",
        "\n",
        "# Explore sentiment distribution\n",
        "sentiment_distribution = df['sentiment_label'].value_counts()\n",
        "print(sentiment_distribution)"
      ],
      "metadata": {
        "colab": {
          "base_uri": "https://localhost:8080/"
        },
        "id": "lIX6pg1jzzXE",
        "outputId": "514caf6c-438c-473c-81e5-d4b7caec3946"
      },
      "execution_count": null,
      "outputs": [
        {
          "output_type": "stream",
          "name": "stdout",
          "text": [
            "sentiment_label\n",
            "neutral     5494\n",
            "positive    5477\n",
            "negative    3669\n",
            "Name: count, dtype: int64\n"
          ]
        }
      ]
    },
    {
      "cell_type": "markdown",
      "source": [
        "Exploring Sentiment Distribution:\n",
        "\n",
        "We plot a bar chart using seaborn to visualize the distribution of sentiments in the dataset."
      ],
      "metadata": {
        "id": "COG4wH3m0W-R"
      }
    },
    {
      "cell_type": "code",
      "source": [
        "# Visualize sentiment distribution\n",
        "plt.figure(figsize=(8, 6))\n",
        "sns.countplot(x='sentiment_label', data=df, palette=\"Set2\")\n",
        "plt.title(\"Sentiment Distribution\")\n",
        "plt.xlabel(\"Sentiment\")\n",
        "plt.ylabel(\"Count\")\n",
        "plt.show()\n"
      ],
      "metadata": {
        "colab": {
          "base_uri": "https://localhost:8080/",
          "height": 671
        },
        "id": "p84EyQL20XcH",
        "outputId": "d1b64f47-f0cb-4e57-e477-a39786295e64"
      },
      "execution_count": null,
      "outputs": [
        {
          "output_type": "stream",
          "name": "stderr",
          "text": [
            "<ipython-input-29-8209eb402729>:3: FutureWarning: \n",
            "\n",
            "Passing `palette` without assigning `hue` is deprecated and will be removed in v0.14.0. Assign the `x` variable to `hue` and set `legend=False` for the same effect.\n",
            "\n",
            "  sns.countplot(x='sentiment_label', data=df, palette=\"Set2\")\n"
          ]
        },
        {
          "output_type": "display_data",
          "data": {
            "text/plain": [
              "<Figure size 800x600 with 1 Axes>"
            ],
            "image/png": "[encoded data removed]"
          },
          "metadata": {}
        }
      ]
    },
    {
      "cell_type": "markdown",
      "source": [
        "Identify\n",
        "keywords or phrases associated with each sentiment category."
      ],
      "metadata": {
        "id": "uz9gJowr5w_g"
      }
    }
  ]
}