{
  "cells": [
    {
      "cell_type": "markdown",
      "metadata": {
        "id": "view-in-github",
        "colab_type": "text"
      },
      "source": [
        "<a href=\"https://colab.research.google.com/github/ShilpaVasista/Exploratory-Data-Analytics/blob/main/Programming_Questions_2.ipynb\" target=\"_parent\"><img src=\"https://colab.research.google.com/assets/colab-badge.svg\" alt=\"Open In Colab\"/></a>"
      ]
    },
    {
      "cell_type": "code",
      "source": [
        "import pandas as pd\n",
        "import numpy as np\n",
        "\n",
        "# Assume titanic.csv is already loaded into titanic_df\n",
        "# For demonstration, let's create a sample DataFrame similar to Titanic\n",
        "data = {'PassengerId': range(1, 11),\n",
        "        'Survived': [0, 1, 1, 0, 1, 0, 1, 0, 1, 0],\n",
        "        'Pclass': [3, 1, 3, 1, 2, 3, 2, 3, 1, 3],\n",
        "        'Name': ['Braund, Mr. Owen Harris', 'Cumings, Mrs. John Bradley (Florence Briggs Thayer)', 'Heikkinen, Miss. Laina', 'Futrelle, Mrs. Jacques Heath (Lily May Peel)', 'Allen, Mr. William Henry', 'Moran, Mr. James', 'McCarthy, Mr. Timothy J', 'Palsson, Master. Gosta Leonard', 'Johnson, Mrs. Oscar W (Elisabeth Vilhelmina Berg)', 'Nasser, Mrs. Nicholas (Adele Achem)'],\n",
        "        'Sex': ['male', 'female', 'female', 'female', 'male', 'male', 'male', 'male', 'female', 'female'],\n",
        "        'Age': [22.0, 38.0, 26.0, 35.0, 35.0, np.nan, 54.0, 2.0, 27.0, 14.0],\n",
        "        'SibSp': [1, 1, 0, 1, 0, 0, 0, 3, 0, 0],\n",
        "        'Parch': [0, 0, 0, 0, 0, 0, 0, 1, 2, 0],\n",
        "        'Ticket': ['A/5 21171', 'PC 17599', 'STON/O2. 3101282', '113803', '373450', '330877', '17463', '349909', '347742', '2666'],\n",
        "        'Fare': [7.2500, 71.2833, 7.9250, 53.1000, 8.0500, 8.4583, 51.8625, 21.0750, 11.1333, 30.0708],\n",
        "        'Cabin': [np.nan, 'C85', np.nan, 'C123', np.nan, np.nan, 'E46', np.nan, np.nan, np.nan],\n",
        "        'Embarked': ['S', 'C', 'S', 'S', 'S', 'Q', 'S', 'S', 'S', 'C']\n",
        "       }\n",
        "titanic_df = pd.DataFrame(data)"
      ],
      "outputs": [],
      "execution_count": null,
      "metadata": {
        "id": "2y4RtBhOc88I"
      }
    },
    {
      "cell_type": "markdown",
      "source": [
        "**Main Question:** Assume you have already loaded the dataset “titanic.csv” into a Pandas DataFrame named as `titanic_df`. Write python code to perform the following tasks:\n",
        "\n",
        "**Sub Question a:** What Pandas function would you use to display the last 3 rows of the `titanic_df` DataFrame?"
      ],
      "metadata": {
        "id": "Pat9DRdlc88R"
      }
    },
    {
      "cell_type": "code",
      "source": [
        "print(\"Last 3 rows of the titanic_df DataFrame:\")\n",
        "print(titanic_df.tail(3))"
      ],
      "outputs": [],
      "execution_count": null,
      "metadata": {
        "id": "C14hcLe9c88V"
      }
    },
    {
      "cell_type": "markdown",
      "source": [
        "**Sub Question b:** How would you display the number of missing values in each column of the `titanic_df` DataFrame?"
      ],
      "metadata": {
        "id": "cyfLidoic88X"
      }
    },
    {
      "cell_type": "code",
      "source": [
        "print(\"\\nNumber of missing values in each column:\")\n",
        "print(titanic_df.isnull().sum())"
      ],
      "outputs": [],
      "execution_count": null,
      "metadata": {
        "id": "QbrIeeV2c88Y"
      }
    },
    {
      "cell_type": "markdown",
      "source": [
        "**Sub Question c:** How to get an overview of the dataset's structure and types?"
      ],
      "metadata": {
        "id": "JWJZ2B1Jc88Z"
      }
    },
    {
      "cell_type": "code",
      "source": [
        "print(\"\\nOverview of the dataset's structure and types:\")\n",
        "titanic_df.info()"
      ],
      "outputs": [],
      "execution_count": null,
      "metadata": {
        "id": "0U0XTU87c88Z"
      }
    },
    {
      "cell_type": "markdown",
      "source": [
        "**Sub Question d:** Fill the missing values in the \"Age\" column with the median age, write the Pandas code to perform this imputation."
      ],
      "metadata": {
        "id": "qETE5Mfwc88a"
      }
    },
    {
      "cell_type": "code",
      "source": [
        "median_age = titanic_df['Age'].median()\n",
        "titanic_df['Age'].fillna(median_age, inplace=True)\n",
        "print(\"\\nDataFrame after filling missing 'Age' values with the median:\")\n",
        "print(titanic_df['Age'].head(10)) # Display first 10 ages to show imputation"
      ],
      "outputs": [],
      "execution_count": null,
      "metadata": {
        "id": "kSKM9LBwc88b"
      }
    },
    {
      "cell_type": "markdown",
      "source": [
        "**Sub Question e:** How would you select and display only the 'Name' and 'Age' columns from the first 5 rows of the `titanic_df` DataFrame?"
      ],
      "metadata": {
        "id": "vvYm_nMUc88c"
      }
    },
    {
      "cell_type": "code",
      "source": [
        "print(\"\\n'Name' and 'Age' columns from the first 5 rows:\")\n",
        "print(titanic_df[['Name', 'Age']].head(5))"
      ],
      "outputs": [],
      "execution_count": null,
      "metadata": {
        "id": "Z5FXvRXJc88c"
      }
    },
    {
      "cell_type": "markdown",
      "source": [
        "**Sub Question f:** How would you calculate the average fare paid by passengers?"
      ],
      "metadata": {
        "id": "eyVraPjAc88d"
      }
    },
    {
      "cell_type": "code",
      "source": [
        "average_fare = titanic_df['Fare'].mean()\n",
        "print(f\"\\nAverage fare paid by passengers: {average_fare:.2f}\")"
      ],
      "outputs": [],
      "execution_count": null,
      "metadata": {
        "id": "RgnaEcp5c88d"
      }
    },
    {
      "cell_type": "markdown",
      "source": [
        "**Sub Question g:** How would you find the number of passengers who survived (Survived = 1) and those who did not (Survived = 0)?"
      ],
      "metadata": {
        "id": "0FXfir4hc88e"
      }
    },
    {
      "cell_type": "code",
      "source": [
        "survival_counts = titanic_df['Survived'].value_counts()\n",
        "print(\"\\nNumber of passengers who survived and did not survive:\")\n",
        "print(survival_counts)"
      ],
      "outputs": [],
      "execution_count": null,
      "metadata": {
        "id": "wWPDFF_7c88e"
      }
    },
    {
      "cell_type": "markdown",
      "source": [
        "**Sub Question h:** How would you find the name of the oldest passenger?"
      ],
      "metadata": {
        "id": "12mszWP9c88e"
      }
    },
    {
      "cell_type": "code",
      "source": [
        "oldest_passenger_name = titanic_df.loc[titanic_df['Age'].idxmax()]['Name']\n",
        "oldest_passenger_age = titanic_df['Age'].max()\n",
        "print(f\"\\nThe name of the oldest passenger is: {oldest_passenger_name} (Age: {oldest_passenger_age})\")"
      ],
      "outputs": [],
      "execution_count": null,
      "metadata": {
        "id": "2gewXdIqc88e"
      }
    },
    {
      "cell_type": "markdown",
      "source": [
        "**Sub Question i:** How would you sort the DataFrame by 'Fare' in descending order and display the first 10 rows?"
      ],
      "metadata": {
        "id": "LqVJHyVoc88f"
      }
    },
    {
      "cell_type": "code",
      "source": [
        "sorted_by_fare = titanic_df.sort_values(by='Fare', ascending=False)\n",
        "print(\"\\nDataFrame sorted by 'Fare' in descending order (first 10 rows):\")\n",
        "print(sorted_by_fare.head(10))"
      ],
      "outputs": [],
      "execution_count": null,
      "metadata": {
        "id": "FCtiCcDvc88f"
      }
    },
    {
      "cell_type": "markdown",
      "source": [
        "**Sub Question j:** How do you count the number of passengers in each passenger class ('Pclass')?"
      ],
      "metadata": {
        "id": "c2WcAI_Bc88f"
      }
    },
    {
      "cell_type": "code",
      "source": [
        "pclass_counts = titanic_df['Pclass'].value_counts().sort_index()\n",
        "print(\"\\nNumber of passengers in each passenger class:\")\n",
        "print(pclass_counts)"
      ],
      "outputs": [],
      "execution_count": null,
      "metadata": {
        "id": "dg-04i8hc88g"
      }
    },
    {
      "cell_type": "markdown",
      "source": [
        "**Sub Question k:** How to create a new dataframe that only contains the people who survived?"
      ],
      "metadata": {
        "id": "xPaPnx-lc88g"
      }
    },
    {
      "cell_type": "code",
      "source": [
        "survived_df = titanic_df[titanic_df['Survived'] == 1]\n",
        "print(\"\\nDataFrame containing only the people who survived (first 5 rows):\")\n",
        "print(survived_df.head())"
      ],
      "outputs": [],
      "execution_count": null,
      "metadata": {
        "id": "2cfwrhjpc88h"
      }
    },
    {
      "cell_type": "markdown",
      "source": [
        "**Sub Question l:** How to find the average age of the people who survived?"
      ],
      "metadata": {
        "id": "vKq-5oy-c88h"
      }
    },
    {
      "cell_type": "code",
      "source": [
        "average_age_survived = titanic_df[titanic_df['Survived'] == 1]['Age'].mean()\n",
        "print(f\"\\nAverage age of the people who survived: {average_age_survived:.2f}\")"
      ],
      "outputs": [],
      "execution_count": null,
      "metadata": {
        "id": "DPKcWHWKc88h"
      }
    },
    {
      "cell_type": "markdown",
      "source": [
        "**Sub Question m:** How to find the maximum fare paid by any passenger in the 'Pclass' 1?"
      ],
      "metadata": {
        "id": "jwWg4A3gc88h"
      }
    },
    {
      "cell_type": "code",
      "source": [
        "max_fare_pclass1 = titanic_df[titanic_df['Pclass'] == 1]['Fare'].max()\n",
        "print(f\"\\nMaximum fare paid by a passenger in Pclass 1: {max_fare_pclass1:.2f}\")"
      ],
      "outputs": [],
      "execution_count": null,
      "metadata": {
        "id": "zeKND_yTc88i"
      }
    },
    {
      "cell_type": "markdown",
      "source": [
        "**Sub Question n:** How to find all rows where the 'Gender' column is equal to 'female' and the 'Embarked' column is equal to 'C'?"
      ],
      "metadata": {
        "id": "uH93IrLjc88i"
      }
    },
    {
      "cell_type": "code",
      "source": [
        "female_embarked_c = titanic_df[(titanic_df['Sex'] == 'female') & (titanic_df['Embarked'] == 'C')]\n",
        "print(\"\\nRows where 'Sex' is 'female' and 'Embarked' is 'C' (first 5 rows):\")\n",
        "print(female_embarked_c.head())"
      ],
      "outputs": [],
      "execution_count": null,
      "metadata": {
        "id": "1hIqbmaKc88i"
      }
    },
    {
      "cell_type": "markdown",
      "source": [
        "**Sub Question o:** Write a Python code snippet that creates a new column called \"AgeGroup\" in the `titanic_df` DataFrame, categorizing passengers into \"Child\" (age < 18), \"Adult\" (18 <= age < 60), and \"Senior\" (age >= 60)."
      ],
      "metadata": {
        "id": "ZypDbUH9c88j"
      }
    },
    {
      "cell_type": "code",
      "source": [
        "bins = [0, 18, 60, float('inf')]\n",
        "labels = ['Child', 'Adult', 'Senior']\n",
        "titanic_df['AgeGroup'] = pd.cut(titanic_df['Age'], bins=bins, labels=labels, right=False)\n",
        "\n",
        "print(\"\\nDataFrame with the new 'AgeGroup' column (first 10 rows) using pd.cut():\")\n",
        "print(titanic_df[['Age', 'AgeGroup']].head(10))"
      ],
      "outputs": [],
      "execution_count": null,
      "metadata": {
        "id": "OutROGmwc88j"
      }
    }
  ],
  "metadata": {
    "colab": {
      "provenance": [],
      "include_colab_link": true
    },
    "kernelspec": {
      "display_name": "Python 3",
      "name": "python3"
    }
  },
  "nbformat": 4,
  "nbformat_minor": 0
}