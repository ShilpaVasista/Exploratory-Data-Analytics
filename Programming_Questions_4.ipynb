{
  "cells": [
    {
      "cell_type": "markdown",
      "metadata": {
        "id": "view-in-github",
        "colab_type": "text"
      },
      "source": [
        "<a href=\"https://colab.research.google.com/github/ShilpaVasista/Exploratory-Data-Analytics/blob/main/Programming_Questions_4.ipynb\" target=\"_parent\"><img src=\"https://colab.research.google.com/assets/colab-badge.svg\" alt=\"Open In Colab\"/></a>"
      ]
    },
    {
      "cell_type": "markdown",
      "source": [
        "**Write code to perform the following operations:**\n",
        "\n",
        "**Sub Question a: Create a dataframe with the following columns: TransactionID, NumberOfUnitsSold, PricePerUnit, CustomerID and PurchaseDate**"
      ],
      "metadata": {
        "id": "mvieYRem_4nV"
      }
    },
    {
      "cell_type": "code",
      "source": [
        "import pandas as pd\n",
        "import numpy as np\n",
        "\n",
        "\n",
        "data = {\n",
        "    'TransactionID': [1, 2, 3, 4, 5, 6, 7, 8],\n",
        "    'NumberOfUnitsSold': [100, 50, 200, 75, 150, 300, 10, 500],\n",
        "    'PricePerUnit': [25.50, 100.00, 15.75, 60.20, 30.00, 120.50, 500000.00, 15.00],\n",
        "    'CustomerID': ['A101', 'B205', 'A101', 'C310', 'D415', 'B205', 'E520', 'A101'],\n",
        "    'PurchaseDate': pd.to_datetime(['2023-01-15', '2023-02-20', '2023-01-20', '2023-03-10', '2023-02-25', '2023-03-15', '2023-04-01', '2023-04-05'])\n",
        "}\n",
        "sales_df = pd.DataFrame(data)\n",
        "print(\"Original Sales DataFrame:\")\n",
        "print(sales_df)\n",
        "print(\"-\" * 40)"
      ],
      "outputs": [],
      "execution_count": null,
      "metadata": {
        "id": "pF75haOy_vDY"
      }
    },
    {
      "cell_type": "markdown",
      "source": [
        "**Sub Question b: Calculate the TotalAmount (product of NumberOfUnitsSold x PricePerUnit)**"
      ],
      "metadata": {
        "id": "CgxdwkXOADHz"
      }
    },
    {
      "cell_type": "code",
      "source": [
        "\n",
        "sales_df['TotalAmount'] = sales_df['NumberOfUnitsSold'] * sales_df['PricePerUnit']\n",
        "print(\"Sales DataFrame with TotalAmount:\")\n",
        "print(sales_df)\n",
        "print(\"-\" * 40)"
      ],
      "outputs": [],
      "execution_count": null,
      "metadata": {
        "id": "q2hyB00N_vDc"
      }
    },
    {
      "cell_type": "markdown",
      "source": [
        "**Sub Question c: Detect records considering them as outliers if TotalAmount > 4,000,000**"
      ],
      "metadata": {
        "id": "1zMcpPpQAMpd"
      }
    },
    {
      "cell_type": "code",
      "source": [
        "\n",
        "outliers_df = sales_df[sales_df['TotalAmount'] > 4000000]\n",
        "print(\"Outlier Records (TotalAmount > 4,000,000):\")\n",
        "print(outliers_df)\n",
        "print(\"-\" * 40)"
      ],
      "outputs": [],
      "execution_count": null,
      "metadata": {
        "id": "0_AVDv0V_vDd"
      }
    },
    {
      "cell_type": "markdown",
      "source": [
        "**Sub Question d: Filter and display rows where TotalAmount is greater than 6,000,000**"
      ],
      "metadata": {
        "id": "IB8dcg0_AQPb"
      }
    },
    {
      "cell_type": "code",
      "source": [
        "\n",
        "high_value_df = sales_df[sales_df['TotalAmount'] > 6000000]\n",
        "print(\"Rows where TotalAmount > 6,000,000:\")\n",
        "print(high_value_df)\n",
        "print(\"-\" * 40)"
      ],
      "outputs": [],
      "execution_count": null,
      "metadata": {
        "id": "zuQdWIo1_vDe"
      }
    },
    {
      "cell_type": "markdown",
      "source": [
        "**Sub Question e: What is the total revenue generated from all transactions?**"
      ],
      "metadata": {
        "id": "3h2E1ItiAUfm"
      }
    },
    {
      "cell_type": "code",
      "source": [
        "\n",
        "total_revenue = sales_df['TotalAmount'].sum()\n",
        "print(f\"Total Revenue: {total_revenue}\")\n",
        "print(\"-\" * 40)"
      ],
      "outputs": [],
      "execution_count": null,
      "metadata": {
        "id": "VAH1l5Uu_vDf"
      }
    },
    {
      "cell_type": "markdown",
      "source": [
        "**Sub Question f: What is the average number of units sold per transaction?**"
      ],
      "metadata": {
        "id": "8i7p-0suAYwD"
      }
    },
    {
      "cell_type": "code",
      "source": [
        "\n",
        "average_units_sold = sales_df['NumberOfUnitsSold'].mean()\n",
        "print(f\"Average Units Sold per Transaction: {average_units_sold}\")\n",
        "print(\"-\" * 40)"
      ],
      "outputs": [],
      "execution_count": null,
      "metadata": {
        "id": "0lSqcrfS_vDf"
      }
    },
    {
      "cell_type": "markdown",
      "source": [
        "**Sub Question g: How many unique customers made purchases?**"
      ],
      "metadata": {
        "id": "ygq0yoy4AqVp"
      }
    },
    {
      "cell_type": "code",
      "source": [
        "\n",
        "unique_customers = sales_df['CustomerID'].nunique()\n",
        "print(f\"Number of Unique Customers: {unique_customers}\")\n",
        "print(\"-\" * 40)"
      ],
      "outputs": [],
      "execution_count": null,
      "metadata": {
        "id": "jXhguK1V_vDh"
      }
    },
    {
      "cell_type": "markdown",
      "source": [
        "**Sub Question h: What was the date of the first purchase in the dataset?**"
      ],
      "metadata": {
        "id": "mNjLpN3ZAvFX"
      }
    },
    {
      "cell_type": "code",
      "source": [
        "\n",
        "first_purchase_date = sales_df['PurchaseDate'].min()\n",
        "print(f\"First Purchase Date: {first_purchase_date}\")\n",
        "print(\"-\" * 40)"
      ],
      "outputs": [],
      "execution_count": null,
      "metadata": {
        "id": "c1_-gsQG_vDn"
      }
    },
    {
      "cell_type": "markdown",
      "source": [
        "**Sub Question i: What was the date of the most recent purchase in the dataset?**"
      ],
      "metadata": {
        "id": "Axi8P4EkA0bw"
      }
    },
    {
      "cell_type": "code",
      "source": [
        "\n",
        "last_purchase_date = sales_df['PurchaseDate'].max()\n",
        "print(f\"Last Purchase Date: {last_purchase_date}\")\n",
        "print(\"-\" * 40)"
      ],
      "outputs": [],
      "execution_count": null,
      "metadata": {
        "id": "hYpYLKon_vDn"
      }
    }
  ],
  "metadata": {
    "colab": {
      "provenance": [],
      "include_colab_link": true
    },
    "kernelspec": {
      "display_name": "Python 3",
      "name": "python3"
    }
  },
  "nbformat": 4,
  "nbformat_minor": 0
}