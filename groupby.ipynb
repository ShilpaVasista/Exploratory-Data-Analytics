{
  "cells": [
    {
      "cell_type": "markdown",
      "metadata": {
        "id": "view-in-github",
        "colab_type": "text"
      },
      "source": [
        "<a href=\"https://colab.research.google.com/github/ShilpaVasista/Exploratory-Data-Analytics/blob/main/groupby.ipynb\" target=\"_parent\"><img src=\"https://colab.research.google.com/assets/colab-badge.svg\" alt=\"Open In Colab\"/></a>"
      ]
    },
    {
      "cell_type": "markdown",
      "source": [
        "Let's dive into the `groupby()` function in pandas. It's a powerful tool for data analysis, especially for summarizing and aggregating data based on categories.\n",
        "\n",
        "**What is `groupby()`?**\n",
        "\n",
        "In essence, `groupby()` does exactly what its name suggests: it groups rows in a DataFrame based on the values in one or more columns. It allows you to:\n",
        "\n",
        "* **Split:** Divide the DataFrame into groups based on specified criteria.\n",
        "* **Apply:** Perform calculations or transformations on each group independently.\n",
        "* **Combine:** Merge the results back into a single DataFrame.\n",
        "\n",
        "**How it Works (The \"Split-Apply-Combine\" Strategy)**\n",
        "\n",
        "1.  **Split:**\n",
        "    * You specify the column(s) by which you want to group the data.\n",
        "    * Pandas then identifies unique values in those columns and creates separate groups for each unique value.\n",
        "\n",
        "2.  **Apply:**\n",
        "    * Once the groups are formed, you can apply various aggregation functions (e.g., `sum()`, `mean()`, `count()`, `min()`, `max()`) or custom functions to each group.\n",
        "    * This is where you perform the calculations or transformations you need.\n",
        "\n",
        "3.  **Combine:**\n",
        "    * Finally, pandas combines the results from each group back into a new DataFrame or Series, often with the grouping columns as the index.\n",
        "\n",
        "**Simple Code Examples**\n",
        "\n",
        "Let's illustrate with some examples using a hypothetical DataFrame:"
      ],
      "metadata": {
        "id": "Py0c4pIPzIVu"
      }
    },
    {
      "cell_type": "code",
      "source": [
        "import pandas as pd\n",
        "\n",
        "data = {\n",
        "    'Category': ['A', 'B', 'A', 'B', 'A', 'C'],\n",
        "    'Value': [10, 15, 20, 25, 30, 35]\n",
        "}\n",
        "\n",
        "df = pd.DataFrame(data)\n",
        "print(\"Original DataFrame:\")\n",
        "print(df)\n",
        "\n",
        "# Group by 'Category' and calculate the sum of 'Value'\n",
        "grouped_sum = df.groupby('Category')['Value'].sum()\n",
        "print(\"\\nSum of 'Value' by Category:\")\n",
        "print(grouped_sum)\n",
        "\n",
        "# Group by 'Category' and calculate the mean of 'Value'\n",
        "grouped_mean = df.groupby('Category')['Value'].mean()\n",
        "print(\"\\nMean of 'Value' by Category:\")\n",
        "print(grouped_mean)\n",
        "\n",
        "# Group by 'Category' and count the number of occurrences\n",
        "grouped_count = df.groupby('Category')['Value'].count()\n",
        "print(\"\\nCount of 'Value' by Category:\")\n",
        "print(grouped_count)\n",
        "\n",
        "# Group by and get multiple aggregate functions at once.\n",
        "grouped_agg = df.groupby('Category')['Value'].agg(['sum','mean', 'count'])\n",
        "print(\"\\nAggregated values by Category:\")\n",
        "print(grouped_agg)"
      ],
      "outputs": [
        {
          "output_type": "stream",
          "name": "stdout",
          "text": [
            "Original DataFrame:\n",
            "  Category  Value\n",
            "0        A     10\n",
            "1        B     15\n",
            "2        A     20\n",
            "3        B     25\n",
            "4        A     30\n",
            "5        C     35\n",
            "\n",
            "Sum of 'Value' by Category:\n",
            "Category\n",
            "A    60\n",
            "B    40\n",
            "C    35\n",
            "Name: Value, dtype: int64\n",
            "\n",
            "Mean of 'Value' by Category:\n",
            "Category\n",
            "A    20.0\n",
            "B    20.0\n",
            "C    35.0\n",
            "Name: Value, dtype: float64\n",
            "\n",
            "Count of 'Value' by Category:\n",
            "Category\n",
            "A    3\n",
            "B    2\n",
            "C    1\n",
            "Name: Value, dtype: int64\n",
            "\n",
            "Aggregated values by Category:\n",
            "          sum  mean  count\n",
            "Category                  \n",
            "A          60  20.0      3\n",
            "B          40  20.0      2\n",
            "C          35  35.0      1\n"
          ]
        }
      ],
      "execution_count": 1,
      "metadata": {
        "colab": {
          "base_uri": "https://localhost:8080/"
        },
        "id": "Mv4p838gzIVx",
        "outputId": "174faabb-d944-49ab-d53b-6eacfc0ec54f"
      }
    },
    {
      "cell_type": "markdown",
      "source": [
        "**Explanation of the Code**\n",
        "\n",
        "* `df.groupby('Category')`: This creates a `DataFrameGroupBy` object, which represents the groups formed based on the 'Category' column.\n",
        "* `['Value'].sum()`: this selects the value column from each group, and then applies the sum function to that column.\n",
        "* `['Value'].mean()`: this selects the value column from each group, and then applies the mean function to that column.\n",
        "* `['Value'].count()`: this selects the value column from each group, and then counts the number of values in that column.\n",
        "* `['Value'].agg(['sum','mean', 'count'])`: this selects the value column from each group, and then applies the sum, mean, and count functions to that column, and returns a dataframe with the results.\n",
        "\n",
        "**Key Points**\n",
        "\n",
        "* `groupby()` is extremely versatile for data summarization and analysis.\n",
        "* You can group by multiple columns by passing a list of column names to `groupby()`.\n",
        "* You can apply custom functions to groups using the `apply()` method.\n",
        "* The `agg()` function is very useful for applying multiple aggregate functions at the same time.\n",
        "\n"
      ],
      "metadata": {
        "id": "7U-p2pZKzIVy"
      }
    }
  ],
  "metadata": {
    "colab": {
      "provenance": [],
      "include_colab_link": true
    },
    "kernelspec": {
      "display_name": "Python 3",
      "name": "python3"
    }
  },
  "nbformat": 4,
  "nbformat_minor": 0
}