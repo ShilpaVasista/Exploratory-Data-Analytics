{
  "nbformat": 4,
  "nbformat_minor": 0,
  "metadata": {
    "colab": {
      "provenance": [],
      "authorship_tag": "ABX9TyNK95WBLu55/9KmtTsVb7nW",
      "include_colab_link": true
    },
    "kernelspec": {
      "name": "python3",
      "display_name": "Python 3"
    },
    "language_info": {
      "name": "python"
    }
  },
  "cells": [
    {
      "cell_type": "markdown",
      "metadata": {
        "id": "view-in-github",
        "colab_type": "text"
      },
      "source": [
        "<a href=\"https://colab.research.google.com/github/ShilpaVasista/Exploratory-Data-Analytics/blob/main/Module_1_Interactive_Lesson_2.ipynb\" target=\"_parent\"><img src=\"https://colab.research.google.com/assets/colab-badge.svg\" alt=\"Open In Colab\"/></a>"
      ]
    },
    {
      "cell_type": "markdown",
      "source": [
        "## Importing NumPy"
      ],
      "metadata": {
        "id": "Mb0YorB-gOSE"
      }
    },
    {
      "cell_type": "code",
      "execution_count": null,
      "metadata": {
        "id": "kgJSJ8NzfRgz"
      },
      "outputs": [],
      "source": [
        "# Importing NumPy\n",
        "import numpy as np"
      ]
    },
    {
      "cell_type": "markdown",
      "source": [
        "## Creating NumPy Arrays"
      ],
      "metadata": {
        "id": "XWrKIJeNgVKe"
      }
    },
    {
      "cell_type": "markdown",
      "source": [
        "1D Array"
      ],
      "metadata": {
        "id": "oGVI77QNgY2v"
      }
    },
    {
      "cell_type": "code",
      "source": [
        "my1DArray = np.array([1, 8, 27, 64])\n",
        "print(my1DArray)"
      ],
      "metadata": {
        "id": "xuxItJvwgaqt"
      },
      "execution_count": null,
      "outputs": []
    },
    {
      "cell_type": "markdown",
      "source": [
        "2D Array"
      ],
      "metadata": {
        "id": "CBzUdgSFgcB0"
      }
    },
    {
      "cell_type": "code",
      "source": [
        "my2DArray = np.array([[1, 2, 3, 4], [2, 4, 9, 16], [4, 8, 18, 32]])\n",
        "print(my2DArray)"
      ],
      "metadata": {
        "id": "hhDXRQZLgeND"
      },
      "execution_count": null,
      "outputs": []
    },
    {
      "cell_type": "markdown",
      "source": [
        "3D Array"
      ],
      "metadata": {
        "id": "I0aQQY2wgh-k"
      }
    },
    {
      "cell_type": "code",
      "source": [
        "my3DArray = np.array([[[1, 2, 3, 4], [5, 6, 7, 8]], [[1, 2, 3, 4], [9, 10, 11, 12]]])\n",
        "print(my3DArray)"
      ],
      "metadata": {
        "id": "mTGulm45gkRL"
      },
      "execution_count": null,
      "outputs": []
    },
    {
      "cell_type": "markdown",
      "source": [
        "Exercises: Creating Arrays\n"
      ],
      "metadata": {
        "id": "uumUwK36gnoB"
      }
    },
    {
      "cell_type": "markdown",
      "source": [
        "1. Create a 1D array of the first 10 square numbers."
      ],
      "metadata": {
        "id": "rvfY3UcGgqAU"
      }
    },
    {
      "cell_type": "code",
      "source": [],
      "metadata": {
        "id": "7haKEeG9gsbc"
      },
      "execution_count": null,
      "outputs": []
    },
    {
      "cell_type": "markdown",
      "source": [
        "2. Create a 2D array of size (3, 3) filled with values from 1 to 9."
      ],
      "metadata": {
        "id": "Q0JdNS7ygsxM"
      }
    },
    {
      "cell_type": "code",
      "source": [],
      "metadata": {
        "id": "Bw8sHQM1guWm"
      },
      "execution_count": null,
      "outputs": []
    },
    {
      "cell_type": "markdown",
      "source": [
        "3. Create a 3D array of shape (2, 2, 3) containing random integers between 1 and 10."
      ],
      "metadata": {
        "id": "jONCddAygu6k"
      }
    },
    {
      "cell_type": "code",
      "source": [],
      "metadata": {
        "id": "0ST5tAlFgvkW"
      },
      "execution_count": null,
      "outputs": []
    },
    {
      "cell_type": "markdown",
      "source": [
        "## Displaying Basic Information"
      ],
      "metadata": {
        "id": "V1qw_Ua0g0AE"
      }
    },
    {
      "cell_type": "code",
      "source": [
        "# Memory address\n",
        "print(my2DArray.data)\n",
        "\n",
        "# Shape of array\n",
        "print(my2DArray.shape)\n",
        "\n",
        "# Data type\n",
        "print(my2DArray.dtype)\n",
        "\n",
        "# Strides\n",
        "print(my2DArray.strides)"
      ],
      "metadata": {
        "id": "d4_nquqfg2u2"
      },
      "execution_count": null,
      "outputs": []
    },
    {
      "cell_type": "markdown",
      "source": [
        "Exercises: Inspecting Arrays\n"
      ],
      "metadata": {
        "id": "2R9MCBA3g53f"
      }
    },
    {
      "cell_type": "markdown",
      "source": [
        "1. Find the shape and size of a 2D array you create.\n"
      ],
      "metadata": {
        "id": "sOxr5-yBg7Ry"
      }
    },
    {
      "cell_type": "code",
      "source": [],
      "metadata": {
        "id": "qkM9ZnyYg9wN"
      },
      "execution_count": null,
      "outputs": []
    },
    {
      "cell_type": "markdown",
      "source": [
        "2. Check the strides of a 3D array of shape (3, 3, 3)."
      ],
      "metadata": {
        "id": "oroaKlTKg-Le"
      }
    },
    {
      "cell_type": "code",
      "source": [],
      "metadata": {
        "id": "Xr48ypv-g_ij"
      },
      "execution_count": null,
      "outputs": []
    },
    {
      "cell_type": "markdown",
      "source": [
        "## Built-in Functions for Creating Arrays"
      ],
      "metadata": {
        "id": "lOuIps3GhJH_"
      }
    },
    {
      "cell_type": "code",
      "source": [
        "# Array of ones\n",
        "ones = np.ones((3, 4))\n",
        "print(ones)\n",
        "\n",
        "# Array of zeros\n",
        "zeros = np.zeros((2, 3, 4), dtype=np.int16)\n",
        "print(zeros)\n",
        "\n",
        "# Array with random values\n",
        "print(np.random.random((2, 2)))\n",
        "\n",
        "# Empty array\n",
        "emptyArray = np.empty((3, 2))\n",
        "print(emptyArray)\n",
        "\n",
        "# Full array\n",
        "fullArray = np.full((2, 2), 7)\n",
        "print(fullArray)\n",
        "\n",
        "# Evenly spaced values\n",
        "evenSpacedArray = np.arange(10, 25, 5)\n",
        "print(evenSpacedArray)\n",
        "\n",
        "evenSpacedArray2 = np.linspace(0, 2, 9)\n",
        "print(evenSpacedArray2)"
      ],
      "metadata": {
        "id": "pm40gMEThLdO"
      },
      "execution_count": null,
      "outputs": []
    },
    {
      "cell_type": "markdown",
      "source": [
        "Exercises: Built-in Functions\n"
      ],
      "metadata": {
        "id": "YT-HIDMthPqX"
      }
    },
    {
      "cell_type": "markdown",
      "source": [
        "1. Create an array of shape (4, 4) filled with the number 5.\n"
      ],
      "metadata": {
        "id": "1dw6rCXjhRRj"
      }
    },
    {
      "cell_type": "code",
      "source": [],
      "metadata": {
        "id": "JMNfjqCthU3H"
      },
      "execution_count": null,
      "outputs": []
    },
    {
      "cell_type": "markdown",
      "source": [
        "2. Generate an array of 15 evenly spaced values between 0 and 1."
      ],
      "metadata": {
        "id": "nnF5RSvJhVKn"
      }
    },
    {
      "cell_type": "code",
      "source": [],
      "metadata": {
        "id": "ZTN02eZVhWl7"
      },
      "execution_count": null,
      "outputs": []
    },
    {
      "cell_type": "markdown",
      "source": [
        "## File Operations"
      ],
      "metadata": {
        "id": "rdV4_wmYhY3r"
      }
    },
    {
      "cell_type": "code",
      "source": [
        "# Save a NumPy array to a file\n",
        "x = np.arange(0.0, 50.0, 1.0)\n",
        "np.savetxt('data.out', x, delimiter=',')\n",
        "\n",
        "# Load array from text file\n",
        "z = np.loadtxt('data.out', unpack=True)\n",
        "print(z)\n",
        "\n",
        "# Load using genfromtxt\n",
        "my_array2 = np.genfromtxt('data.out', skip_header=1, filling_values=-999)\n",
        "print(my_array2)"
      ],
      "metadata": {
        "id": "_u-JpAakhbT-"
      },
      "execution_count": null,
      "outputs": []
    },
    {
      "cell_type": "markdown",
      "source": [
        "Exercises: File Operations\n"
      ],
      "metadata": {
        "id": "9LfOQEmshegR"
      }
    },
    {
      "cell_type": "markdown",
      "source": [
        "1. Save an array of random integers to a file and load it back.\n"
      ],
      "metadata": {
        "id": "YI6rp6vZhgSV"
      }
    },
    {
      "cell_type": "code",
      "source": [],
      "metadata": {
        "id": "WJuJHSHihiV4"
      },
      "execution_count": null,
      "outputs": []
    },
    {
      "cell_type": "markdown",
      "source": [
        "2. Use genfromtxt to load a file with missing values, replacing them with -1."
      ],
      "metadata": {
        "id": "8rbsHT7phivU"
      }
    },
    {
      "cell_type": "code",
      "source": [],
      "metadata": {
        "id": "eVbYmc7chj-n"
      },
      "execution_count": null,
      "outputs": []
    },
    {
      "cell_type": "markdown",
      "source": [
        "## Broadcasting"
      ],
      "metadata": {
        "id": "dtaMK8zThnlM"
      }
    },
    {
      "cell_type": "code",
      "source": [
        "# Rule 1: Two dimensions are operable if they are equal\n",
        "A = np.ones((6, 8))\n",
        "B = np.random.random((6, 8))\n",
        "print(A + B)\n",
        "\n",
        "# Rule 2: One dimension can be 1\n",
        "x = np.ones((3, 4))\n",
        "y = np.arange(4)\n",
        "print(x - y)\n",
        "\n",
        "# Rule 3: Compatible dimensions\n",
        "x = np.ones((6, 8))\n",
        "y = np.random.random((10, 1, 8))\n",
        "print(x + y)"
      ],
      "metadata": {
        "id": "3LtXWt5AhplZ"
      },
      "execution_count": null,
      "outputs": []
    },
    {
      "cell_type": "markdown",
      "source": [
        "Exercises: Broadcasting\n",
        "Create two arrays of shape (4, 3) and (3,) and perform subtraction.\n",
        "Modify an array to make it compatible with another using broadcasting."
      ],
      "metadata": {
        "id": "CVBdasp7htCo"
      }
    },
    {
      "cell_type": "markdown",
      "source": [
        "1. Create two arrays of shape (4, 3) and (3,) and perform subtraction.\n"
      ],
      "metadata": {
        "id": "EGgk0_yxhvxj"
      }
    },
    {
      "cell_type": "code",
      "source": [],
      "metadata": {
        "id": "I7n1CL1NhyfU"
      },
      "execution_count": null,
      "outputs": []
    },
    {
      "cell_type": "markdown",
      "source": [
        "2. Modify an array to make it compatible with another using broadcasting."
      ],
      "metadata": {
        "id": "WDGriHHLhy-N"
      }
    },
    {
      "cell_type": "code",
      "source": [],
      "metadata": {
        "id": "InTHEk6Dhz8h"
      },
      "execution_count": null,
      "outputs": []
    },
    {
      "cell_type": "markdown",
      "source": [
        "## Basic Mathematical Operations"
      ],
      "metadata": {
        "id": "c2bKNznuh2Rs"
      }
    },
    {
      "cell_type": "code",
      "source": [
        "x = np.array([[1, 2, 3], [2, 3, 4]])\n",
        "y = np.array([[1, 4, 9], [2, 3, -2]])\n",
        "\n",
        "print(np.add(x, y))\n",
        "print(np.subtract(x, y))\n",
        "print(np.multiply(x, y))\n",
        "print(np.divide(x, y))\n",
        "print(np.remainder(x, y))"
      ],
      "metadata": {
        "id": "wcFgD0csh4KZ"
      },
      "execution_count": null,
      "outputs": []
    },
    {
      "cell_type": "markdown",
      "source": [
        "Exercises: Mathematical Operations\n"
      ],
      "metadata": {
        "id": "m3-ZEOoTh65q"
      }
    },
    {
      "cell_type": "markdown",
      "source": [
        "1. Perform element-wise multiplication on two arrays of shape (2, 2).\n"
      ],
      "metadata": {
        "id": "U7nWqLiGh81A"
      }
    },
    {
      "cell_type": "code",
      "source": [],
      "metadata": {
        "id": "N4Sxe94ah-76"
      },
      "execution_count": null,
      "outputs": []
    },
    {
      "cell_type": "markdown",
      "source": [
        "2. Create two arrays and find their element-wise remainder."
      ],
      "metadata": {
        "id": "PIQWr2w5h_SA"
      }
    },
    {
      "cell_type": "code",
      "source": [],
      "metadata": {
        "id": "dP6mkLHtiAh3"
      },
      "execution_count": null,
      "outputs": []
    },
    {
      "cell_type": "markdown",
      "source": [
        "## Subsetting and Slicing"
      ],
      "metadata": {
        "id": "NNep47ygiC5u"
      }
    },
    {
      "cell_type": "code",
      "source": [
        "x = np.array([10, 20, 30, 40, 50])\n",
        "print(x[0:2])\n",
        "\n",
        "y = np.array([[1, 2, 3, 4], [9, 10, 11, 12]])\n",
        "print(y[0:2, 1])\n",
        "\n",
        "# Conditions\n",
        "biggerThan2 = (y >= 2)\n",
        "print(y[biggerThan2])"
      ],
      "metadata": {
        "id": "GnR24b6JiFQw"
      },
      "execution_count": null,
      "outputs": []
    },
    {
      "cell_type": "markdown",
      "source": [
        "Exercises: Slicing and Indexing\n"
      ],
      "metadata": {
        "id": "xyQKO1DBiIkU"
      }
    },
    {
      "cell_type": "markdown",
      "source": [
        "1. Select all elements in a 2D array greater than 5.\n"
      ],
      "metadata": {
        "id": "Cb_ofLRNiKTe"
      }
    },
    {
      "cell_type": "code",
      "source": [],
      "metadata": {
        "id": "eN0nc-eViMns"
      },
      "execution_count": null,
      "outputs": []
    },
    {
      "cell_type": "markdown",
      "source": [
        "2. Slice the last two rows of a 3x4 matrix."
      ],
      "metadata": {
        "id": "6-oexOrWiM7i"
      }
    },
    {
      "cell_type": "code",
      "source": [],
      "metadata": {
        "id": "a3cG98b9iOEX"
      },
      "execution_count": null,
      "outputs": []
    }
  ]
}