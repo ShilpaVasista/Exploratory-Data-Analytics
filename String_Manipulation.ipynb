{
  "cells": [
    {
      "cell_type": "markdown",
      "metadata": {
        "id": "view-in-github",
        "colab_type": "text"
      },
      "source": [
        "<a href=\"https://colab.research.google.com/github/ShilpaVasista/Exploratory-Data-Analytics/blob/main/String_Manipulation.ipynb\" target=\"_parent\"><img src=\"https://colab.research.google.com/assets/colab-badge.svg\" alt=\"Open In Colab\"/></a>"
      ]
    },
    {
      "cell_type": "markdown",
      "source": [
        "**String Manipulation in Python**\n",
        "\n",
        "String manipulation involves creating, accessing, modifying, and formatting strings (sequences of characters). Python offers powerful built-in features for these operations.\n",
        "\n",
        "**1. Creating Strings**\n",
        "\n",
        "* **Single Quotes (`'...'`)**:\n",
        "    * `String1 = 'Creating a String with single Quotes.'`\n",
        "    * Simple and efficient for most string literals.\n",
        "* **Double Quotes (`\"...\"`)**:\n",
        "    * `String2 = \"Creating a String with double Quotes.\"`\n",
        "    * Useful when the string itself contains single quotes.\n",
        "* **Triple Quotes (`'''...'''` or `\"\"\"...\"\"\"`)**:\n",
        "    * `String3 = '''Creating a String with triple Quotes.'''`\n",
        "    * Ideal for multi-line strings or strings containing both single and double quotes.\n",
        "\n",
        "**2. Accessing Characters (Indexing)**\n",
        "\n",
        "* Python uses zero-based indexing (the first character is at index 0).\n",
        "* **Positive Indexing**: Starts from the beginning (0, 1, 2, ...).\n",
        "* **Negative Indexing**: Starts from the end (-1, -2, -3, ...).\n",
        "    * -1 is the last character, -2 is the second to last, and so on.\n",
        "* **Example**:"
      ],
      "metadata": {
        "id": "164GHgcVhYsl"
      }
    },
    {
      "cell_type": "code",
      "source": [
        "String = \"Exploratory Data Analysis\"\n",
        "    print(String[0])  # Output: E\n",
        "    print(String[-1]) # Output: s"
      ],
      "outputs": [],
      "execution_count": null,
      "metadata": {
        "id": "8l0dNbvrhYsu"
      }
    },
    {
      "cell_type": "markdown",
      "source": [
        "* **IndexError**: Attempting to access an index outside the string's range will raise an `IndexError`.\n",
        "\n",
        "**3. String Slicing**\n",
        "\n",
        "* Slicing extracts a portion of a string.\n",
        "* Syntax: `string[start:stop:step]`\n",
        "    * `start`: The starting index (inclusive).\n",
        "    * `stop`: The ending index (exclusive).\n",
        "    * `step`: The increment between indices (optional, defaults to 1).\n",
        "* **Examples**:"
      ],
      "metadata": {
        "id": "F-uMwkUghYsw"
      }
    },
    {
      "cell_type": "code",
      "source": [
        "String = \"Exploratory Data Analysis\"\n",
        "    print(String[3:12])   # Output: loratory\n",
        "    print(String[3:-2])  # Output: loratory Data Analys\n",
        "    print(String[:5]) # output: Explo\n",
        "    print(String[12:]) # output: Data Analysis\n",
        "    print(String[::2]) # output: Epoao aAayis"
      ],
      "outputs": [],
      "execution_count": null,
      "metadata": {
        "id": "Fl1s-UiChYsx"
      }
    },
    {
      "cell_type": "markdown",
      "source": [
        "**4. Immutability**\n",
        "\n",
        "* Strings in Python are immutable, meaning their contents cannot be changed after creation.\n",
        "* Attempting to modify a character within a string will result in a `TypeError`.\n",
        "* **Example**:"
      ],
      "metadata": {
        "id": "dK1dMfnLhYsx"
      }
    },
    {
      "cell_type": "code",
      "source": [
        "String = \"Exploratory Data Analysis\"\n",
        "    # String[2] = 'p'  # This will cause a TypeError"
      ],
      "outputs": [],
      "execution_count": null,
      "metadata": {
        "id": "RgfOWdBdhYsy"
      }
    },
    {
      "cell_type": "markdown",
      "source": [
        "* **Deletion**: You can delete an entire string using the `del` keyword:"
      ],
      "metadata": {
        "id": "QIqnGvhhhYsy"
      }
    },
    {
      "cell_type": "code",
      "source": [
        "String = \"Exploratory Data Analysis\"\n",
        "    del String\n",
        "    # print(String) # this will cause a NameError because the variable String does not exist."
      ],
      "outputs": [],
      "execution_count": null,
      "metadata": {
        "id": "S9ei3okMhYsz"
      }
    },
    {
      "cell_type": "markdown",
      "source": [
        "* To \"modify\" a string, you must create a new string with the desired changes."
      ],
      "metadata": {
        "id": "btVKw3U8hYs0"
      }
    },
    {
      "cell_type": "code",
      "source": [
        "String = \"Exploratory Data Analysis\"\n",
        "    New_string = String[:2] + 'p' + String[3:]\n",
        "    print(New_string) # output: Explotatory Data Analysis"
      ],
      "outputs": [],
      "execution_count": null,
      "metadata": {
        "id": "RuNXB_nYhYs1"
      }
    },
    {
      "cell_type": "markdown",
      "source": [
        "**5. Escape Sequences**\n",
        "\n",
        "* Escape sequences allow you to include special characters in strings.\n",
        "* They start with a backslash (`\\`).\n",
        "* **Common Escape Sequences**:\n",
        "    * `\\'`: Single quote\n",
        "    * `\\\"`: Double quote\n",
        "    * `\\n`: Newline\n",
        "    * `\\t`: Tab\n",
        "    * `\\\\`: Backslash\n",
        "* **Examples**:"
      ],
      "metadata": {
        "id": "mzv4otSZhYs2"
      }
    },
    {
      "cell_type": "code",
      "source": [
        "String1 = 'I\\'m a \"Data Scientist\"'\n",
        "    String2 = \"C:\\\\Python\\\\DataScience\\\\\"\n",
        "    print(String1) # output: I'm a \"Data Scientist\"\n",
        "    print(String2) # output: C:\\Python\\DataScience\\"
      ],
      "outputs": [],
      "execution_count": null,
      "metadata": {
        "id": "EHRzZHPBhYs2"
      }
    },
    {
      "cell_type": "markdown",
      "source": [
        "**6. String Formatting**\n",
        "\n",
        "* **`format()` Method**:\n",
        "    * Replaces placeholders (`{}`) with values.\n",
        "    * **Default Order**:"
      ],
      "metadata": {
        "id": "nnTkwBU4hYs2"
      }
    },
    {
      "cell_type": "code",
      "source": [
        "String1 = \"{} {} {}\".format('Exploratory', 'Data', 'Analysis')\n",
        "        print(String1) # output: Exploratory Data Analysis"
      ],
      "outputs": [],
      "execution_count": null,
      "metadata": {
        "id": "-WlJW_kZhYs3"
      }
    },
    {
      "cell_type": "markdown",
      "source": [
        "* **Positional Formatting**:"
      ],
      "metadata": {
        "id": "etTlXDZJhYs3"
      }
    },
    {
      "cell_type": "code",
      "source": [
        "String1 = \"{1} {0} {2}\".format('Exploratory', 'Data', 'Analysis')\n",
        "        print(String1) # output: Data Exploratory Analysis"
      ],
      "outputs": [],
      "execution_count": null,
      "metadata": {
        "id": "f0uXuyDhhYs3"
      }
    },
    {
      "cell_type": "markdown",
      "source": [
        "* **Keyword Formatting**:"
      ],
      "metadata": {
        "id": "6d7SM5oYhYs4"
      }
    },
    {
      "cell_type": "code",
      "source": [
        "String1 = \"{l} {f} {g}\".format(g='Exploratory', f='Data', l='Analysis')\n",
        "        print(String1) # output: Analysis Data Exploratory"
      ],
      "outputs": [],
      "execution_count": null,
      "metadata": {
        "id": "t4rBjuXMhYs4"
      }
    },
    {
      "cell_type": "markdown",
      "source": [
        "* **f-strings (Formatted String Literals)**:\n",
        "    * A more concise way to format strings (Python 3.6+).\n",
        "    * **Example**:"
      ],
      "metadata": {
        "id": "-d-cQ0_WhYs5"
      }
    },
    {
      "cell_type": "code",
      "source": [
        "name = \"Alice\"\n",
        "        age = 30\n",
        "        String = f\"My name is {name} and I am {age} years old.\"\n",
        "        print(String) # output: My name is Alice and I am 30 years old."
      ],
      "outputs": [],
      "execution_count": null,
      "metadata": {
        "id": "jcCqvbK7hYs5"
      }
    },
    {
      "cell_type": "markdown",
      "source": [
        "**Additional String Methods**\n",
        "\n",
        "Python provides numerous built-in string methods:\n",
        "\n",
        "* `len(string)`: Returns the length of the string.\n",
        "* `string.upper()`: Converts to uppercase.\n",
        "* `string.lower()`: Converts to lowercase.\n",
        "* `string.strip()`: Removes leading and trailing whitespace.\n",
        "* `string.split(separator)`: Splits the string into a list of substrings.\n",
        "* `string.join(iterable)`: Joins elements of an iterable into a string.\n",
        "* `string.find(substring)`: Finds the first occurrence of a substring.\n",
        "* `string.replace(old, new)`: Replaces occurrences of a substring.\n",
        "* `string.startswith(prefix)`: Checks if the string starts with a prefix.\n",
        "* `string.endswith(suffix)`: Checks if the string ends with a suffix.\n",
        "\n",
        "By understanding these concepts and methods, you can effectively manipulate strings in Python for various tasks, including data processing, text analysis, and web development."
      ],
      "metadata": {
        "id": "_NGxXH9khYs5"
      }
    }
  ],
  "metadata": {
    "colab": {
      "provenance": [],
      "include_colab_link": true
    },
    "kernelspec": {
      "display_name": "Python 3",
      "name": "python3"
    }
  },
  "nbformat": 4,
  "nbformat_minor": 0
}