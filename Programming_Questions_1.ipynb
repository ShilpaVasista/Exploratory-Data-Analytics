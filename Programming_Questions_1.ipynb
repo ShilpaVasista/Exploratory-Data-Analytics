{
  "cells": [
    {
      "cell_type": "markdown",
      "metadata": {
        "id": "view-in-github",
        "colab_type": "text"
      },
      "source": [
        "<a href=\"https://colab.research.google.com/github/ShilpaVasista/Exploratory-Data-Analytics/blob/main/Programming_Questions_1.ipynb\" target=\"_parent\"><img src=\"https://colab.research.google.com/assets/colab-badge.svg\" alt=\"Open In Colab\"/></a>"
      ]
    },
    {
      "cell_type": "code",
      "source": [
        "import pandas as pd\n",
        "import numpy as np\n",
        "\n",
        "# Sample data (replace with your actual CSV file)\n",
        "data = {\n",
        "    'Message-ID': [1, 2, 3, 4, 5, 6, 7, 8, 9, 10, 11, 12, 13, 14, 15, 16, 17],\n",
        "    'Date': ['2023-01-01', '2023-01-02', np.nan, '2023-01-04', '2023-01-05', '2023-01-01', '2023-01-02', '2023-01-03', '2023-01-04', '2023-01-05', '2023-01-06', '2023-01-07', '2023-01-08', '2023-01-09', '2023-01-10', '2023-01-01', '2023-01-02'],\n",
        "    'Sender': ['alice@example.com', 'bob@example.com ', ' charlie@example.com', 'david@example.com', 'eve@example.com', 'ALICE@example.com', 'bob@example.com ', 'frank@example.com', 'david@example.com', 'eve@example.com', 'grace@example.com', 'helen@example.com', 'ivy@example.com', 'jack@example.com', 'kelly@example.com', 'larry@example.com', 'maggie@example.com'],\n",
        "    'Recipient': ['recipient1@example.com', 'recipient2@example.com', 'recipient3@example.com', 'recipient4@example.com', 'recipient5@example.com', 'recipient1@example.com', 'recipient2@example.com', 'recipient6@example.com', 'recipient4@example.com', 'recipient5@example.com', 'recipient7@example.com', 'recipient8@example.com', 'recipient9@example.com', 'recipient10@example.com', 'recipient11@example.com', 'recipient12@example.com', 'recipient13@example.com'],\n",
        "    'Subject': ['Meeting Schedule', np.nan, 'Project Update  ', 'Re: Meeting', 'Important Announcement', 'meeting schedule', 'Project update', 'New Feature', 'Re: meeting', 'Important announcement', 'Team Lunch', 'Weekend Plans', 'Follow Up', 'Reminder', 'Action Required', 'FWD: Information', 'Regarding your query'],\n",
        "    'Body': ['Hi team, ...', 'Details to follow', 'Progress report   attached.', 'Regarding your previous email...', 'Please read carefully.', 'Hi Team, ...', 'details to follow', 'Check out the new functionality.', 'regarding your previous email...', 'please read carefully.', 'Let\\'s plan our lunch.', 'What are you doing this weekend?', 'Following up on our discussion.', 'Just a reminder.', 'Please take necessary action.', 'Forwarded message.', 'More information here.'],\n",
        "    'Cc': ['cc1@example.com', np.nan, 'cc2@example.com', np.nan, 'cc3@example.com', 'cc1@example.com', np.nan, np.nan, np.nan, 'cc3@example.com', np.nan, 'cc4@example.com', np.nan, 'cc5@example.com', np.nan, 'cc6@example.com', np.nan],\n",
        "    'Bcc': [np.nan, 'bcc1@example.com', np.nan, 'bcc2@example.com', np.nan, np.nan, 'bcc1@example.com', 'bcc3@example.com', 'bcc2@example.com', np.nan, 'bcc4@example.com', np.nan, 'bcc5@example.com', np.nan, 'bcc6@example.com', np.nan, 'bcc7@example.com']\n",
        "}\n",
        "emails_df = pd.DataFrame(data)"
      ],
      "outputs": [],
      "execution_count": null,
      "metadata": {
        "id": "W3KLrYNob1g7"
      }
    },
    {
      "cell_type": "markdown",
      "source": [
        "**Main Question:** Write the code for the following operations on the `emails_df` DataFrame:\n",
        "\n",
        "**Sub Question a:** How to load data and read data from a CSV file to dataframe."
      ],
      "metadata": {
        "id": "piFHr4blb1hI"
      }
    },
    {
      "cell_type": "code",
      "source": [
        "# Assuming your CSV file is named 'emails.csv'\n",
        "emails_df = pd.read_csv('emails.csv')\n",
        "print(emails_df.head()) # Display the first few rows to verify loading"
      ],
      "outputs": [],
      "execution_count": null,
      "metadata": {
        "id": "uTq0V-zeb1hN"
      }
    },
    {
      "cell_type": "markdown",
      "source": [
        "**Sub Question b:** Display first 15 rows and last 7 rows of the dataframe."
      ],
      "metadata": {
        "id": "ggSAL0L9b1hO"
      }
    },
    {
      "cell_type": "code",
      "source": [
        "# Display first 15 rows\n",
        "print(\"First 15 rows:\")\n",
        "print(emails_df.head(15))\n",
        "print(\"-\" * 30)\n",
        "\n",
        "# Display last 7 rows\n",
        "print(\"Last 7 rows:\")\n",
        "print(emails_df.tail(7))"
      ],
      "outputs": [],
      "execution_count": null,
      "metadata": {
        "id": "hgS45x9ab1hP"
      }
    },
    {
      "cell_type": "markdown",
      "source": [
        "**Sub Question c:** Drop rows with any missing values."
      ],
      "metadata": {
        "id": "iu0mBmm5b1hR"
      }
    },
    {
      "cell_type": "code",
      "source": [
        "emails_df_dropped_na = emails_df.dropna()\n",
        "print(\"DataFrame after dropping rows with any missing values:\")\n",
        "print(emails_df_dropped_na)\n",
        "print(\"-\" * 30)"
      ],
      "outputs": [],
      "execution_count": null,
      "metadata": {
        "id": "S1N3seEOb1hT"
      }
    },
    {
      "cell_type": "markdown",
      "source": [
        "**Sub Question d:** Fill missing 'subject' with 'No Subject'."
      ],
      "metadata": {
        "id": "7UCMmr7sb1hV"
      }
    },
    {
      "cell_type": "code",
      "source": [
        "emails_df['Subject'] = emails_df['Subject'].fillna('No Subject')\n",
        "print(\"DataFrame after filling missing 'Subject' with 'No Subject':\")\n",
        "print(emails_df['Subject'].head().to_frame()) # Display first few rows of the 'Subject' column\n",
        "print(\"-\" * 30)"
      ],
      "outputs": [],
      "execution_count": null,
      "metadata": {
        "id": "a3XzIQAJb1hX"
      }
    },
    {
      "cell_type": "markdown",
      "source": [
        "**Sub Question e:** Fill missing 'date' with the most frequent date."
      ],
      "metadata": {
        "id": "one1uvnZb1hY"
      }
    },
    {
      "cell_type": "code",
      "source": [
        "most_frequent_date = emails_df['Date'].mode()[0]\n",
        "emails_df['Date'] = emails_df['Date'].fillna(most_frequent_date)\n",
        "print(\"DataFrame after filling missing 'Date' with the most frequent date:\")\n",
        "print(emails_df['Date'].head().to_frame()) # Display first few rows of the 'Date' column\n",
        "print(\"-\" * 30)"
      ],
      "outputs": [],
      "execution_count": null,
      "metadata": {
        "id": "1DRz04qTb1hZ"
      }
    },
    {
      "cell_type": "markdown",
      "source": [
        "**Sub Question f:** Remove duplicate rows based on all columns."
      ],
      "metadata": {
        "id": "oEpO0nRAb1ha"
      }
    },
    {
      "cell_type": "code",
      "source": [
        "emails_df_no_duplicates = emails_df.drop_duplicates()\n",
        "print(\"DataFrame after removing duplicate rows based on all columns:\")\n",
        "print(emails_df_no_duplicates)\n",
        "print(\"-\" * 30)"
      ],
      "outputs": [],
      "execution_count": null,
      "metadata": {
        "id": "tN_59jzkb1ha"
      }
    },
    {
      "cell_type": "markdown",
      "source": [
        "**Sub Question g:** Remove duplicate rows based on 'message_id'."
      ],
      "metadata": {
        "id": "qxYMvs0Vb1hb"
      }
    },
    {
      "cell_type": "code",
      "source": [
        "emails_df_no_duplicates_mid = emails_df.drop_duplicates(subset='Message-ID')\n",
        "print(\"DataFrame after removing duplicate rows based on 'Message-ID':\")\n",
        "print(emails_df_no_duplicates_mid)\n",
        "print(\"-\" * 30)"
      ],
      "outputs": [],
      "execution_count": null,
      "metadata": {
        "id": "UD4v4adDb1hb"
      }
    },
    {
      "cell_type": "markdown",
      "source": [
        "**Sub Question h:** Convert 'subject' to lowercase."
      ],
      "metadata": {
        "id": "LuN71qPIb1hb"
      }
    },
    {
      "cell_type": "code",
      "source": [
        "emails_df['Subject'] = emails_df['Subject'].str.lower()\n",
        "print(\"DataFrame after converting 'Subject' to lowercase:\")\n",
        "print(emails_df['Subject'].head().to_frame()) # Display first few rows of the 'Subject' column\n",
        "print(\"-\" * 30)"
      ],
      "outputs": [],
      "execution_count": null,
      "metadata": {
        "id": "P35HMn8Ib1hc"
      }
    },
    {
      "cell_type": "markdown",
      "source": [
        "**Sub Question i:** Remove leading/trailing whitespace from 'sender'."
      ],
      "metadata": {
        "id": "ANetmp2Ab1hd"
      }
    },
    {
      "cell_type": "code",
      "source": [
        "emails_df['Sender'] = emails_df['Sender'].str.strip()\n",
        "print(\"DataFrame after removing leading/trailing whitespace from 'Sender':\")\n",
        "print(emails_df['Sender'].head().to_frame()) # Display first few rows of the 'Sender' column\n",
        "print(\"-\" * 30)"
      ],
      "outputs": [],
      "execution_count": null,
      "metadata": {
        "id": "M0azlSBKb1hd"
      }
    },
    {
      "cell_type": "markdown",
      "source": [
        "**Sub Question j:** Replace multiple spaces in 'body' with single spaces."
      ],
      "metadata": {
        "id": "setqqfcFb1hd"
      }
    },
    {
      "cell_type": "code",
      "source": [
        "emails_df['Body'] = emails_df['Body'].str.replace(r'\\s+', ' ', regex=True)\n",
        "print(\"DataFrame after replacing multiple spaces in 'Body' with single spaces:\")\n",
        "print(emails_df['Body'].head().to_frame()) # Display first few rows of the 'Body' column\n",
        "print(\"-\" * 30)"
      ],
      "outputs": [],
      "execution_count": null,
      "metadata": {
        "id": "_zvA3kTjb1he"
      }
    },
    {
      "cell_type": "markdown",
      "source": [
        "**Sub Question k:** Convert 'date' column to datetime objects."
      ],
      "metadata": {
        "id": "XQksb0bNb1he"
      }
    },
    {
      "cell_type": "code",
      "source": [
        "emails_df['Date'] = pd.to_datetime(emails_df['Date'], errors='coerce')\n",
        "print(\"DataFrame after converting 'Date' column to datetime objects:\")\n",
        "print(emails_df['Date'].head().to_frame()) # Display first few rows of the 'Date' column\n",
        "print(\"-\" * 30)"
      ],
      "outputs": [],
      "execution_count": null,
      "metadata": {
        "id": "qWj5F6z6b1hf"
      }
    },
    {
      "cell_type": "markdown",
      "source": [
        "**Sub Question l:** Extract the year from the 'date' column into a new 'year' column."
      ],
      "metadata": {
        "id": "E8h5C4gKb1hf"
      }
    },
    {
      "cell_type": "code",
      "source": [
        "emails_df['Year'] = emails_df['Date'].dt.year\n",
        "print(\"DataFrame with 'Year' column extracted from 'Date':\")\n",
        "print(emails_df[['Date', 'Year']].head()) # Display first few rows of 'Date' and 'Year'\n",
        "print(\"-\" * 30)"
      ],
      "outputs": [],
      "execution_count": null,
      "metadata": {
        "id": "BaUcMGseb1hf"
      }
    },
    {
      "cell_type": "markdown",
      "source": [
        "**Sub Question m:** Convert 'message_id' to string type."
      ],
      "metadata": {
        "id": "me_vfqVWb1hg"
      }
    },
    {
      "cell_type": "code",
      "source": [
        "emails_df['Message-ID'] = emails_df['Message-ID'].astype(str)\n",
        "print(\"DataFrame after converting 'Message-ID' to string type:\")\n",
        "print(emails_df['Message-ID'].head().to_frame()) # Display first few rows of 'Message-ID'\n",
        "print(\"-\" * 30)"
      ],
      "outputs": [],
      "execution_count": null,
      "metadata": {
        "id": "NR7NzKIjb1hg"
      }
    },
    {
      "cell_type": "markdown",
      "source": [
        "**Sub Question n:** Drop unnecessary columns such as ‘Message-ID’, Bcc, Cc for analysis."
      ],
      "metadata": {
        "id": "EueuvpsFb1hh"
      }
    },
    {
      "cell_type": "code",
      "source": [
        "columns_to_drop = ['Message-ID', 'Bcc', 'Cc']\n",
        "emails_df_cleaned = emails_df.drop(columns=columns_to_drop, errors='ignore')\n",
        "print(\"DataFrame after dropping unnecessary columns:\")\n",
        "print(emails_df_cleaned.head())"
      ],
      "outputs": [],
      "execution_count": null,
      "metadata": {
        "id": "vbj5mBQWb1hk"
      }
    }
  ],
  "metadata": {
    "colab": {
      "provenance": [],
      "include_colab_link": true
    },
    "kernelspec": {
      "display_name": "Python 3",
      "name": "python3"
    }
  },
  "nbformat": 4,
  "nbformat_minor": 0
}