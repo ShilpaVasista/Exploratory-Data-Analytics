{
  "nbformat": 4,
  "nbformat_minor": 0,
  "metadata": {
    "colab": {
      "provenance": [],
      "authorship_tag": "ABX9TyONJYeWOFX2KnJKFA7bC/Ky",
      "include_colab_link": true
    },
    "kernelspec": {
      "name": "python3",
      "display_name": "Python 3"
    },
    "language_info": {
      "name": "python"
    }
  },
  "cells": [
    {
      "cell_type": "markdown",
      "metadata": {
        "id": "view-in-github",
        "colab_type": "text"
      },
      "source": [
        "<a href=\"https://colab.research.google.com/github/ShilpaVasista/Exploratory-Data-Analytics/blob/main/Classroom_Activity_6.ipynb\" target=\"_parent\"><img src=\"https://colab.research.google.com/assets/colab-badge.svg\" alt=\"Open In Colab\"/></a>"
      ]
    },
    {
      "cell_type": "markdown",
      "source": [
        "**Classroom Activity 6 - Predict the Output**\n",
        "\n",
        "**Case Study**"
      ],
      "metadata": {
        "id": "CSJpYhIgGfhn"
      }
    },
    {
      "cell_type": "markdown",
      "source": [
        "Imagine we have collected reports on UFO sightings, containing the following information:\n",
        "\n",
        "- Sighting_ID: Unique identifier for each sighting.\n",
        "\n",
        "- Country: Country where the sighting was reported.\n",
        "\n",
        "- City: City of the sighting.\n",
        "\n",
        "- Year: Year when the sighting occurred.\n",
        "\n",
        "- Shape: Reported shape of the UFO (e.g., Disc, Triangle, Orb, Cylinder, Unknown).\n",
        "\n",
        "- Duration (seconds): How long the sighting lasted.\n",
        "\n",
        "- Number_of_Witnesses: How many people reported seeing the UFO."
      ],
      "metadata": {
        "id": "nfhvAgLHEEhL"
      }
    },
    {
      "cell_type": "code",
      "execution_count": null,
      "metadata": {
        "id": "yohMzcvVB4el"
      },
      "outputs": [],
      "source": [
        "import pandas as pd\n",
        "\n",
        "# Sample UFO Sightings Data\n",
        "ufo_data = pd.DataFrame({\n",
        "    'Sighting_ID': range(1, 11),\n",
        "    'Country': ['USA', 'Canada', 'USA', 'Mexico', 'UK', 'Canada', 'USA', 'UK', 'Mexico', 'USA'],\n",
        "    'City': ['New York', 'Toronto', 'Los Angeles', 'Mexico City', 'London',\n",
        "             'Vancouver', 'Chicago', 'Manchester', 'Guadalajara', 'Miami'],\n",
        "    'Year': [2020, 2019, 2021, 2018, 2021, 2019, 2020, 2020, 2018, 2021],\n",
        "    'Shape': ['Disc', 'Triangle', 'Orb', 'Orb', 'Cylinder', 'Disc', 'Triangle', 'Unknown', 'Disc', 'Orb'],\n",
        "    'Duration (seconds)': [120, 300, 45, 150, 90, 200, 400, 30, 180, 75],\n",
        "    'Number_of_Witnesses': [5, 3, 2, 7, 1, 4, 6, 2, 5, 3]\n",
        "})\n"
      ]
    },
    {
      "cell_type": "markdown",
      "source": [
        "**1.Find the total number of UFO sightings per country**"
      ],
      "metadata": {
        "id": "_37DuUwEDBe-"
      }
    },
    {
      "cell_type": "code",
      "source": [
        "output_1 = ufo_data.groupby('Country')['Sighting_ID'].count()\n",
        "print(output_1)\n"
      ],
      "metadata": {
        "id": "ELmeNgpaC-Ft"
      },
      "execution_count": null,
      "outputs": []
    },
    {
      "cell_type": "markdown",
      "source": [
        "**2. Find the average duration of UFO sightings per year**"
      ],
      "metadata": {
        "id": "rgFdGpTjDDjK"
      }
    },
    {
      "cell_type": "code",
      "source": [
        "output_2 = ufo_data.groupby('Year')['Duration (seconds)'].mean()\n",
        "print(output_2)\n"
      ],
      "metadata": {
        "id": "FUA1IYA8DE_Y"
      },
      "execution_count": null,
      "outputs": []
    },
    {
      "cell_type": "markdown",
      "source": [
        "**3. Find the most commonly reported UFO shape per country**"
      ],
      "metadata": {
        "id": "1rx2bDkcDHil"
      }
    },
    {
      "cell_type": "code",
      "source": [
        "output_3 = ufo_data.groupby(['Country', 'Shape']).size().unstack().fillna(0)\n",
        "print(output_3)\n"
      ],
      "metadata": {
        "id": "_lPYAMNLDI81"
      },
      "execution_count": null,
      "outputs": []
    },
    {
      "cell_type": "markdown",
      "source": [
        "**4. Create a pivot table to find the average number of witnesses per UFO shape**"
      ],
      "metadata": {
        "id": "iG-kxLHBDMsP"
      }
    },
    {
      "cell_type": "code",
      "source": [
        "output_4 = ufo_data.pivot_table(index='Shape', values='Number_of_Witnesses', aggfunc='mean')\n",
        "print(output_4)"
      ],
      "metadata": {
        "id": "2uDgYp-tDPgB"
      },
      "execution_count": null,
      "outputs": []
    },
    {
      "cell_type": "markdown",
      "source": [
        "**5. Find out the number of UFO sightings per country and shape using crosstab()**"
      ],
      "metadata": {
        "id": "nwFppl_wDlSc"
      }
    },
    {
      "cell_type": "code",
      "source": [
        "output_5 = pd.crosstab(ufo_data['Country'], ufo_data['Shape'])\n",
        "print(output_5)\n"
      ],
      "metadata": {
        "colab": {
          "base_uri": "https://localhost:8080/"
        },
        "id": "h3W-0ZXWDktf",
        "outputId": "f58623d8-6539-4872-b40c-08dfe9989b8c"
      },
      "execution_count": null,
      "outputs": [
        {
          "output_type": "stream",
          "name": "stdout",
          "text": [
            "Shape    Cylinder  Disc  Orb  Triangle  Unknown\n",
            "Country                                        \n",
            "Canada          0     1    0         1        0\n",
            "Mexico          0     1    1         0        0\n",
            "UK              1     0    0         0        1\n",
            "USA             0     1    2         1        0\n"
          ]
        }
      ]
    },
    {
      "cell_type": "markdown",
      "source": [
        "**6. Use a pivot table to determine the total duration of UFO sightings per year**"
      ],
      "metadata": {
        "id": "c2dr8dhaDqY7"
      }
    },
    {
      "cell_type": "code",
      "source": [
        "output_6 = ufo_data.pivot_table(index='Year', values='Duration (seconds)', aggfunc='sum')\n",
        "print(output_6)\n"
      ],
      "metadata": {
        "id": "vQFo0XCnDsE5"
      },
      "execution_count": null,
      "outputs": []
    },
    {
      "cell_type": "markdown",
      "source": [
        "**7. Find out how many UFO sightings occurred each year per country**"
      ],
      "metadata": {
        "id": "7AqpPfOyDt_p"
      }
    },
    {
      "cell_type": "code",
      "source": [
        "output_7 = pd.crosstab(ufo_data['Year'], ufo_data['Country'])\n",
        "print(output_7)\n"
      ],
      "metadata": {
        "id": "-a_RwTx0DwrC"
      },
      "execution_count": null,
      "outputs": []
    },
    {
      "cell_type": "markdown",
      "source": [
        "**8. Find the city with the longest UFO sighting duration using groupby()**"
      ],
      "metadata": {
        "id": "Spc-RQrKDzQu"
      }
    },
    {
      "cell_type": "code",
      "source": [
        "output_8 = ufo_data.groupby('City')['Duration (seconds)'].max()\n",
        "print(output_8)\n"
      ],
      "metadata": {
        "id": "pO2Ww7OGD0qJ"
      },
      "execution_count": null,
      "outputs": []
    },
    {
      "cell_type": "markdown",
      "source": [
        "**9. Find the number of witnesses per country using a pivot table**"
      ],
      "metadata": {
        "id": "pAZu6KHSD3Gx"
      }
    },
    {
      "cell_type": "code",
      "source": [
        "output_9 = ufo_data.pivot_table(index='Country', values='Number_of_Witnesses', aggfunc='sum')\n",
        "print(output_9)\n"
      ],
      "metadata": {
        "id": "epCVLVq-D41p"
      },
      "execution_count": null,
      "outputs": []
    },
    {
      "cell_type": "markdown",
      "source": [
        "**10. Use pivot_table() to fill missing values in the duration column**"
      ],
      "metadata": {
        "id": "OXy2JfIRD7Gf"
      }
    },
    {
      "cell_type": "code",
      "source": [
        "output_10 = ufo_data.pivot_table(index='Country', values='Duration (seconds)', aggfunc='mean', fill_value=0)\n",
        "print(output_10)"
      ],
      "metadata": {
        "id": "qJDn6IyQD8iO"
      },
      "execution_count": null,
      "outputs": []
    }
  ]
}