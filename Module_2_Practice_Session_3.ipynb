{
  "nbformat": 4,
  "nbformat_minor": 0,
  "metadata": {
    "colab": {
      "provenance": []
    },
    "kernelspec": {
      "name": "python3",
      "display_name": "Python 3"
    },
    "language_info": {
      "name": "python"
    }
  },
  "cells": [
    {
      "cell_type": "markdown",
      "source": [
        "In this notebook, we will learn how to discretize continuous data into discrete bins using the cut() and qcut() methods provided by the Pandas library.\n",
        "\n",
        "Discretization is the process of converting continuous data into discrete intervals or categories. The cut() method divides the data into bins defined by intervals, and the qcut() method divides the data into quantiles that have equal-sized bins.\n"
      ],
      "metadata": {
        "id": "OOHoZI3kHNO-"
      }
    },
    {
      "cell_type": "markdown",
      "source": [
        "**Example 1: Using cut() for Binning Heights**\n",
        "\n",
        "Let's start with an example where we have a list of students' heights and we want to convert this data into discrete intervals (bins)."
      ],
      "metadata": {
        "id": "U2bu3VKfHQj6"
      }
    },
    {
      "cell_type": "code",
      "execution_count": 1,
      "metadata": {
        "colab": {
          "base_uri": "https://localhost:8080/"
        },
        "id": "Epm8npTGHMZf",
        "outputId": "989e0a3a-1cd4-4bd2-9bed-f584d0ece2c2"
      },
      "outputs": [
        {
          "output_type": "stream",
          "name": "stdout",
          "text": [
            "[(118, 125], (118, 125], (118, 125], (125, 135], (118, 125], ..., (125, 135], (160, 200], (135, 160], (135, 160], (125, 135]]\n",
            "Length: 12\n",
            "Categories (4, interval[int64, right]): [(118, 125] < (125, 135] < (135, 160] < (160, 200]]\n"
          ]
        }
      ],
      "source": [
        "import pandas as pd\n",
        "\n",
        "# Heights of students\n",
        "height = [120, 122, 125, 127, 121, 123, 137, 131, 161, 145, 141, 132]\n",
        "\n",
        "# Define the bins (intervals)\n",
        "bins = [118, 125, 135, 160, 200]\n",
        "\n",
        "# Use cut() to categorize the data into the defined bins\n",
        "category = pd.cut(height, bins)\n",
        "\n",
        "# Display the result\n",
        "print(category)\n"
      ]
    },
    {
      "cell_type": "markdown",
      "source": [
        "Explanation:\n",
        "\n",
        "We define the intervals [118, 125], [125, 135], [135, 160], and [160, 200] as the bins.\n",
        "The cut() function categorizes each height value into one of these intervals."
      ],
      "metadata": {
        "id": "Z8bF9e20HYV4"
      }
    },
    {
      "cell_type": "markdown",
      "source": [
        "**Example 2: Changing Interval Types Using right=False**\n",
        "\n",
        "We can adjust the interval boundary settings. By default, intervals are right-closed (right=True), meaning the right endpoint is included in the bin. We can change this by setting right=False to make the intervals left-closed."
      ],
      "metadata": {
        "id": "8j-ciRBiHdB4"
      }
    },
    {
      "cell_type": "code",
      "source": [
        "# Use cut() with right=False to create left-closed intervals\n",
        "category2 = pd.cut(height, bins, right=False)\n",
        "\n",
        "# Display the result\n",
        "print(category2)"
      ],
      "metadata": {
        "colab": {
          "base_uri": "https://localhost:8080/"
        },
        "id": "O2Pvmwn0Hgrc",
        "outputId": "2774140c-013c-47dd-a49d-b2ca01c749d8"
      },
      "execution_count": 2,
      "outputs": [
        {
          "output_type": "stream",
          "name": "stdout",
          "text": [
            "[[118, 125), [118, 125), [125, 135), [125, 135), [118, 125), ..., [125, 135), [160, 200), [135, 160), [135, 160), [125, 135)]\n",
            "Length: 12\n",
            "Categories (4, interval[int64, left]): [[118, 125) < [125, 135) < [135, 160) < [160, 200)]\n"
          ]
        }
      ]
    },
    {
      "cell_type": "markdown",
      "source": [
        "Explanation:\n",
        "\n",
        "Here, we are using right=False, which means the intervals will be left-closed and right-open (e.g., [118, 125))."
      ],
      "metadata": {
        "id": "ViTtMKRaHkXV"
      }
    },
    {
      "cell_type": "markdown",
      "source": [
        "**Example 3: Counting Values in Each Bin**\n",
        "\n",
        "Next, let's count how many data points fall into each bin using the value_counts() method."
      ],
      "metadata": {
        "id": "LK8wo9XBHm-X"
      }
    },
    {
      "cell_type": "code",
      "source": [
        "# Count the number of values in each bin\n",
        "value_counts = pd.value_counts(category)\n",
        "\n",
        "# Display the result\n",
        "print(value_counts)"
      ],
      "metadata": {
        "colab": {
          "base_uri": "https://localhost:8080/"
        },
        "id": "D-vGiTF7HkDB",
        "outputId": "6383c3e0-2973-47d5-db73-275abd6322e7"
      },
      "execution_count": 3,
      "outputs": [
        {
          "output_type": "stream",
          "name": "stdout",
          "text": [
            "(118, 125]    5\n",
            "(125, 135]    3\n",
            "(135, 160]    3\n",
            "(160, 200]    1\n",
            "Name: count, dtype: int64\n"
          ]
        },
        {
          "output_type": "stream",
          "name": "stderr",
          "text": [
            "<ipython-input-3-dff57d70555f>:2: FutureWarning: pandas.value_counts is deprecated and will be removed in a future version. Use pd.Series(obj).value_counts() instead.\n",
            "  value_counts = pd.value_counts(category)\n"
          ]
        }
      ]
    },
    {
      "cell_type": "markdown",
      "source": [
        "Explanation:\n",
        "\n",
        "The value_counts() method will show how many height values fall within each defined bin."
      ],
      "metadata": {
        "id": "wSsDmfIJHwFi"
      }
    },
    {
      "cell_type": "markdown",
      "source": [
        "**Example 4: Labeling the Bins**\n",
        "\n",
        "We can also assign meaningful labels to each bin. For example, we can label the height categories as Short Height, Average Height, Good Height, and Taller."
      ],
      "metadata": {
        "id": "j4S1kS6yHyzN"
      }
    },
    {
      "cell_type": "code",
      "source": [
        "# Define bin labels\n",
        "bin_names = ['Short Height', 'Average Height', 'Good Height', 'Taller']\n",
        "\n",
        "# Use cut() to categorize with custom labels\n",
        "labeled_category = pd.cut(height, bins, labels=bin_names)\n",
        "\n",
        "# Display the labeled result\n",
        "print(labeled_category)"
      ],
      "metadata": {
        "colab": {
          "base_uri": "https://localhost:8080/"
        },
        "id": "Y4YrGz6sH149",
        "outputId": "4aaaf639-f146-47cf-8894-8afa1745b9c1"
      },
      "execution_count": 4,
      "outputs": [
        {
          "output_type": "stream",
          "name": "stdout",
          "text": [
            "['Short Height', 'Short Height', 'Short Height', 'Average Height', 'Short Height', ..., 'Average Height', 'Taller', 'Good Height', 'Good Height', 'Average Height']\n",
            "Length: 12\n",
            "Categories (4, object): ['Short Height' < 'Average Height' < 'Good Height' < 'Taller']\n"
          ]
        }
      ]
    },
    {
      "cell_type": "markdown",
      "source": [
        "Explanation:\n",
        "\n",
        "By passing a list of labels to the labels parameter, we can assign a human-readable label to each bin.\n"
      ],
      "metadata": {
        "id": "-kerBvUBH5MT"
      }
    },
    {
      "cell_type": "markdown",
      "source": [
        "**Example 5: Using qcut() for Quantile-based Binning**\n",
        "\n",
        "Now, let's use the qcut() method, which divides the data into quantiles, ensuring that each bin contains an equal number of data points."
      ],
      "metadata": {
        "id": "FatsUjcGH7kc"
      }
    },
    {
      "cell_type": "code",
      "source": [
        "import numpy as np\n",
        "\n",
        "# Generate 2000 random numbers between 0 and 1\n",
        "random_numbers = np.random.rand(2000)\n",
        "\n",
        "# Use qcut to divide the data into 4 equal-sized quantiles (quartiles)\n",
        "category3 = pd.qcut(random_numbers, 4)\n",
        "\n",
        "# Display the result\n",
        "print(category3)\n"
      ],
      "metadata": {
        "colab": {
          "base_uri": "https://localhost:8080/"
        },
        "id": "0SfIRNHsH-wu",
        "outputId": "41d29038-d513-4d72-8484-bd86af8045cd"
      },
      "execution_count": 5,
      "outputs": [
        {
          "output_type": "stream",
          "name": "stdout",
          "text": [
            "[(0.259, 0.51], (-0.000602, 0.259], (0.51, 0.751], (0.51, 0.751], (-0.000602, 0.259], ..., (0.751, 0.998], (0.51, 0.751], (0.51, 0.751], (0.51, 0.751], (0.51, 0.751]]\n",
            "Length: 2000\n",
            "Categories (4, interval[float64, right]): [(-0.000602, 0.259] < (0.259, 0.51] < (0.51, 0.751] <\n",
            "                                           (0.751, 0.998]]\n"
          ]
        }
      ]
    },
    {
      "cell_type": "markdown",
      "source": [
        "Explanation:\n",
        "\n",
        "The qcut() function divides the data into 4 bins (quartiles) with approximately equal numbers of data points in each bin.\n"
      ],
      "metadata": {
        "id": "nFG-giSDICdn"
      }
    },
    {
      "cell_type": "markdown",
      "source": [
        "You are given the scores of students in a final exam. Your task is to categorize these students' scores into bins based on predefined intervals and assign appropriate labels to these categories.\n",
        "\n",
        "Data:\n",
        "The scores of the students are as follows:\n",
        "\n",
        "```\n",
        "scores = [12, 45, 67, 89, 54, 23, 90, 78, 99, 36, 60, 80]\n",
        "```\n",
        "Bins:\n",
        "\n",
        "You need to discretize the scores into the following intervals:\n",
        "\n",
        "- 0 to 40: \"Poor\"\n",
        "- 41 to 60: \"Average\"\n",
        "- 61 to 80: \"Good\"\n",
        "- 81 to 100: \"Excellent\"\n",
        "\n",
        "Task:\n",
        "\n",
        "Step 1: Convert the given scores list into intervals using pd.cut() method in Pandas. The bins should correspond to the score intervals defined above.\n",
        "\n",
        "Step 2: Use the labels parameter to assign appropriate labels to each of these bins: \"Poor\", \"Average\", \"Good\", and \"Excellent\".\n",
        "\n",
        "Step 3: Display the discretized scores with their corresponding labels.\n",
        "\n",
        "Hints:\n",
        "\n",
        "- Use pd.cut() to categorize the scores into the bins.\n",
        "- Ensure that you define the correct intervals as per the given bins.\n",
        "- You can create a list of labels to assign meaningful labels to each bin.\n",
        "- If you get an error or unexpected output, check whether the interval boundaries are set correctly and the labels match the number of bins.\n",
        "\n",
        "Expected Output:\n",
        "\n",
        "You should expect an output that looks like the following:\n",
        "\n",
        "```\n",
        "[Poor, Average, Good, Excellent, Average, Poor, Excellent, Good, Excellent, Poor, Average, Good]\n",
        "Categories (4, object): [Poor < Average < Good < Excellent]\n",
        "```\n"
      ],
      "metadata": {
        "id": "fZCPn4WYIFNL"
      }
    }
  ]
}