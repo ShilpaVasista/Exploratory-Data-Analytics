{
  "cells": [
    {
      "cell_type": "markdown",
      "metadata": {
        "id": "view-in-github",
        "colab_type": "text"
      },
      "source": [
        "<a href=\"https://colab.research.google.com/github/ShilpaVasista/Exploratory-Data-Analytics/blob/main/nlargest_and_nsmallest.ipynb\" target=\"_parent\"><img src=\"https://colab.research.google.com/assets/colab-badge.svg\" alt=\"Open In Colab\"/></a>"
      ]
    },
    {
      "cell_type": "markdown",
      "source": [
        "\n",
        "\n",
        "**Example DataFrame**"
      ],
      "metadata": {
        "id": "_GzcAmgH3WXA"
      }
    },
    {
      "cell_type": "code",
      "source": [
        "import pandas as pd\n",
        "\n",
        "data = {\n",
        "    'Name': ['Alice', 'Bob', 'Charlie', 'David', 'Eve', 'Frank', 'Grace'],\n",
        "    'Age': [25, 30, 22, 35, 28, 40, 27],\n",
        "    'Score': [85, 92, 78, 95, 88, 70, 90],\n",
        "    'City': ['New York', 'London', 'Paris', 'Tokyo', 'Sydney', 'Berlin', 'Rome']\n",
        "}\n",
        "\n",
        "df = pd.DataFrame(data)\n",
        "print(\"Original DataFrame:\\n\", df)"
      ],
      "outputs": [
        {
          "output_type": "stream",
          "name": "stdout",
          "text": [
            "Original DataFrame:\n",
            "       Name  Age  Score      City\n",
            "0    Alice   25     85  New York\n",
            "1      Bob   30     92    London\n",
            "2  Charlie   22     78     Paris\n",
            "3    David   35     95     Tokyo\n",
            "4      Eve   28     88    Sydney\n",
            "5    Frank   40     70    Berlin\n",
            "6    Grace   27     90      Rome\n"
          ]
        }
      ],
      "execution_count": 1,
      "metadata": {
        "colab": {
          "base_uri": "https://localhost:8080/"
        },
        "id": "HBRa3D_R3WXD",
        "outputId": "71dc49e2-b3ce-4e23-aa62-23bcd3b15548"
      }
    },
    {
      "cell_type": "markdown",
      "source": [
        "**1. `nlargest(n, columns)`**"
      ],
      "metadata": {
        "id": "8BbUuCd83WXE"
      }
    },
    {
      "cell_type": "code",
      "source": [
        "# Get the top 3 people with the highest scores\n",
        "top_3_scores = df.nlargest(3, 'Score')\n",
        "print(\"\\nTop 3 Scores:\\n\", top_3_scores)\n",
        "\n",
        "# Get the top 2 oldest people\n",
        "top_2_oldest = df.nlargest(2, 'Age')\n",
        "print(\"\\nTop 2 Oldest:\\n\", top_2_oldest)"
      ],
      "outputs": [
        {
          "output_type": "stream",
          "name": "stdout",
          "text": [
            "\n",
            "Top 3 Scores:\n",
            "     Name  Age  Score    City\n",
            "3  David   35     95   Tokyo\n",
            "1    Bob   30     92  London\n",
            "6  Grace   27     90    Rome\n",
            "\n",
            "Top 2 Oldest:\n",
            "     Name  Age  Score    City\n",
            "5  Frank   40     70  Berlin\n",
            "3  David   35     95   Tokyo\n"
          ]
        }
      ],
      "execution_count": 2,
      "metadata": {
        "colab": {
          "base_uri": "https://localhost:8080/"
        },
        "id": "dbDQDrPa3WXF",
        "outputId": "5a6ed5ce-3d36-40a7-b121-aa1cb22abc99"
      }
    },
    {
      "cell_type": "markdown",
      "source": [
        "**2. `nsmallest(n, columns)`**"
      ],
      "metadata": {
        "id": "uri-Shtr3WXF"
      }
    },
    {
      "cell_type": "code",
      "source": [
        "# Get the 2 youngest people\n",
        "bottom_2_age = df.nsmallest(2, 'Age')\n",
        "print(\"\\nBottom 2 Youngest:\\n\", bottom_2_age)\n",
        "\n",
        "# Get the 3 people with the lowest scores\n",
        "bottom_3_scores = df.nsmallest(3, 'Score')\n",
        "print(\"\\nBottom 3 Scores:\\n\", bottom_3_scores)"
      ],
      "outputs": [
        {
          "output_type": "stream",
          "name": "stdout",
          "text": [
            "\n",
            "Bottom 2 Youngest:\n",
            "       Name  Age  Score      City\n",
            "2  Charlie   22     78     Paris\n",
            "0    Alice   25     85  New York\n",
            "\n",
            "Bottom 3 Scores:\n",
            "       Name  Age  Score      City\n",
            "5    Frank   40     70    Berlin\n",
            "2  Charlie   22     78     Paris\n",
            "0    Alice   25     85  New York\n"
          ]
        }
      ],
      "execution_count": 3,
      "metadata": {
        "colab": {
          "base_uri": "https://localhost:8080/"
        },
        "id": "aRnrP_oo3WXF",
        "outputId": "657da758-f741-42dd-a0c7-89a12c342c54"
      }
    },
    {
      "cell_type": "markdown",
      "source": [
        "**3. `sort_values(by, ascending=True)`**"
      ],
      "metadata": {
        "id": "JyYTNm3N3WXF"
      }
    },
    {
      "cell_type": "code",
      "source": [
        "# Sort by 'Score' in descending order and get the top 3\n",
        "sorted_by_score_top3 = df.sort_values(by='Score', ascending=False).head(3)\n",
        "print(\"\\nSorted by Score (Top 3):\\n\", sorted_by_score_top3)\n",
        "\n",
        "# Sort by 'Age' in ascending order\n",
        "sorted_by_age = df.sort_values(by='Age')\n",
        "print(\"\\nSorted by Age:\\n\", sorted_by_age)\n",
        "\n",
        "# Sort by 'City' (alphabetical order)\n",
        "sorted_by_city = df.sort_values(by='City')\n",
        "print(\"\\nSorted by City:\\n\", sorted_by_city)"
      ],
      "outputs": [
        {
          "output_type": "stream",
          "name": "stdout",
          "text": [
            "\n",
            "Sorted by Score (Top 3):\n",
            "     Name  Age  Score    City\n",
            "3  David   35     95   Tokyo\n",
            "1    Bob   30     92  London\n",
            "6  Grace   27     90    Rome\n",
            "\n",
            "Sorted by Age:\n",
            "       Name  Age  Score      City\n",
            "2  Charlie   22     78     Paris\n",
            "0    Alice   25     85  New York\n",
            "6    Grace   27     90      Rome\n",
            "4      Eve   28     88    Sydney\n",
            "1      Bob   30     92    London\n",
            "3    David   35     95     Tokyo\n",
            "5    Frank   40     70    Berlin\n",
            "\n",
            "Sorted by City:\n",
            "       Name  Age  Score      City\n",
            "5    Frank   40     70    Berlin\n",
            "1      Bob   30     92    London\n",
            "0    Alice   25     85  New York\n",
            "2  Charlie   22     78     Paris\n",
            "6    Grace   27     90      Rome\n",
            "4      Eve   28     88    Sydney\n",
            "3    David   35     95     Tokyo\n"
          ]
        }
      ],
      "execution_count": 4,
      "metadata": {
        "colab": {
          "base_uri": "https://localhost:8080/"
        },
        "id": "BjsoNPJA3WXG",
        "outputId": "8469b536-f281-4fb8-8b47-05cd9fc1d777"
      }
    },
    {
      "cell_type": "markdown",
      "source": [
        "**4. `head(n)`**"
      ],
      "metadata": {
        "id": "DKkXPRbr3WXG"
      }
    },
    {
      "cell_type": "code",
      "source": [
        "# Get the first 2 rows\n",
        "first_2_rows = df.head(2)\n",
        "print(\"\\nFirst 2 Rows:\\n\", first_2_rows)"
      ],
      "outputs": [
        {
          "output_type": "stream",
          "name": "stdout",
          "text": [
            "\n",
            "First 2 Rows:\n",
            "     Name  Age  Score      City\n",
            "0  Alice   25     85  New York\n",
            "1    Bob   30     92    London\n"
          ]
        }
      ],
      "execution_count": 5,
      "metadata": {
        "colab": {
          "base_uri": "https://localhost:8080/"
        },
        "id": "xtoq_SJX3WXG",
        "outputId": "ab406c34-ba5f-409c-f2ef-8b8416c83ce5"
      }
    },
    {
      "cell_type": "markdown",
      "source": [
        "**5. `tail(n)`**"
      ],
      "metadata": {
        "id": "jrGAfavG3WXH"
      }
    },
    {
      "cell_type": "code",
      "source": [
        "# Get the last 2 rows\n",
        "last_2_rows = df.tail(2)\n",
        "print(\"\\nLast 2 Rows:\\n\", last_2_rows)"
      ],
      "outputs": [
        {
          "output_type": "stream",
          "name": "stdout",
          "text": [
            "\n",
            "Last 2 Rows:\n",
            "     Name  Age  Score    City\n",
            "5  Frank   40     70  Berlin\n",
            "6  Grace   27     90    Rome\n"
          ]
        }
      ],
      "execution_count": 6,
      "metadata": {
        "colab": {
          "base_uri": "https://localhost:8080/"
        },
        "id": "qu7_vVoo3WXH",
        "outputId": "bd4751e4-496e-4f1f-9b5d-315ee813b749"
      }
    },
    {
      "cell_type": "markdown",
      "source": [
        "**6. `loc[]` (Filtering and Selecting)**"
      ],
      "metadata": {
        "id": "YBJiF0SH3WXH"
      }
    },
    {
      "cell_type": "code",
      "source": [
        "# Get people with scores greater than 90\n",
        "high_scorers = df.loc[df['Score'] > 90]\n",
        "print(\"\\nHigh Scorers:\\n\", high_scorers)\n",
        "\n",
        "# Get people who are older than 30 and live in Tokyo\n",
        "specific_people = df.loc[(df['Age'] > 30) & (df['City'] == 'Tokyo')]\n",
        "print(\"\\nSpecific People:\\n\", specific_people)"
      ],
      "outputs": [
        {
          "output_type": "stream",
          "name": "stdout",
          "text": [
            "\n",
            "High Scorers:\n",
            "     Name  Age  Score    City\n",
            "1    Bob   30     92  London\n",
            "3  David   35     95   Tokyo\n",
            "\n",
            "Specific People:\n",
            "     Name  Age  Score   City\n",
            "3  David   35     95  Tokyo\n"
          ]
        }
      ],
      "execution_count": 7,
      "metadata": {
        "colab": {
          "base_uri": "https://localhost:8080/"
        },
        "id": "uvYoLFjU3WXI",
        "outputId": "bf288153-6302-4d73-d4f9-b67b1c06da75"
      }
    },
    {
      "cell_type": "markdown",
      "source": [
        "**7. `query(expr)`**"
      ],
      "metadata": {
        "id": "50Co0bp63WXI"
      }
    },
    {
      "cell_type": "code",
      "source": [
        "# Get people with scores greater than 90 using query\n",
        "high_scorers_query = df.query('Score > 90')\n",
        "print(\"\\nHigh Scorers (Query):\\n\", high_scorers_query)\n",
        "\n",
        "# Get people who are older than 30 and live in Tokyo using query\n",
        "specific_people_query = df.query('Age > 30 and City == \"Tokyo\"')\n",
        "print(\"\\nSpecific People (Query):\\n\", specific_people_query)"
      ],
      "outputs": [
        {
          "output_type": "stream",
          "name": "stdout",
          "text": [
            "\n",
            "High Scorers (Query):\n",
            "     Name  Age  Score    City\n",
            "1    Bob   30     92  London\n",
            "3  David   35     95   Tokyo\n",
            "\n",
            "Specific People (Query):\n",
            "     Name  Age  Score   City\n",
            "3  David   35     95  Tokyo\n"
          ]
        }
      ],
      "execution_count": 8,
      "metadata": {
        "colab": {
          "base_uri": "https://localhost:8080/"
        },
        "id": "10MeO4Ii3WXI",
        "outputId": "d8e2f8ec-29e8-4100-cff7-bea734daa46a"
      }
    },
    {
      "cell_type": "markdown",
      "source": [
        "**Key Takeaways**\n",
        "\n",
        "* `nlargest` and `nsmallest` are concise for getting top/bottom `n` based on a single column.\n",
        "* `sort_values` is more versatile for sorting by multiple columns and controlling order.\n",
        "* `head` and `tail` are for quickly viewing portions of the DataFrame.\n",
        "* `loc` and `query` are powerful for filtering and selecting based on conditions."
      ],
      "metadata": {
        "id": "walmyYYD3WXI"
      }
    }
  ],
  "metadata": {
    "colab": {
      "provenance": [],
      "include_colab_link": true
    },
    "kernelspec": {
      "display_name": "Python 3",
      "name": "python3"
    }
  },
  "nbformat": 4,
  "nbformat_minor": 0
}